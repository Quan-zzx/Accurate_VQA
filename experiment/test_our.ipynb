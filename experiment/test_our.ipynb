{
 "cells": [
  {
   "cell_type": "code",
   "execution_count": 1,
   "metadata": {},
   "outputs": [
    {
     "name": "stderr",
     "output_type": "stream",
     "text": [
      "c:\\ProgramData\\Anaconda3\\envs\\RAG_test\\lib\\site-packages\\tqdm\\auto.py:21: TqdmWarning: IProgress not found. Please update jupyter and ipywidgets. See https://ipywidgets.readthedocs.io/en/stable/user_install.html\n",
      "  from .autonotebook import tqdm as notebook_tqdm\n"
     ]
    }
   ],
   "source": [
    "import sys \n",
    "sys.path.append('SGG_Benchmark_main')\n",
    "from SGG_Benchmark_main.demo.demo_model import SGG_Model\n",
    "import cv2\n",
    "import os \n",
    "\n",
    "def get_pre(source):\n",
    "\n",
    "    config_path = \"output_motifs/config.yml\"\n",
    "    dict_path = \"VG_dicts.json\"\n",
    "    weights_path = \"output_motifs/best_model_epoch_4.pth\"\n",
    "\n",
    "    example_img = source  \n",
    "\n",
    "    img = cv2.imread(example_img)\n",
    "    img=cv2.resize(img,(1024,1024))\n",
    "\n",
    "    model = SGG_Model(config_path, dict_path, weights_path, rel_conf=0.01, box_conf=0.1, show_fps=False)\n",
    "\n",
    "    predictions = model.predict(img)\n",
    "\n",
    "    return predictions"
   ]
  },
  {
   "cell_type": "code",
   "execution_count": 2,
   "metadata": {},
   "outputs": [],
   "source": [
    "def get_box_pos(bbox,orig_size=[1024,1024]):\n",
    "    \"\"\"\n",
    "    inputs:\n",
    "        bbox 框的位置 xywh\n",
    "        orig_size 图像大小 x,y heng shu\n",
    "    outputs:\n",
    "        框所在图片位置\n",
    "        左上角，上部，右上角\n",
    "        左部，  中部，右部\n",
    "        左下角  下部  右下角\n",
    "        012\n",
    "        345\n",
    "        678\n",
    "           \n",
    "    \"\"\"\n",
    "    center=((bbox[0]+bbox[2])/2,(bbox[1]+bbox[3])/2)    ##获取中心坐标\n",
    "    #center=(bbox[0],bbox[1])\n",
    "\n",
    "    if center[0]<orig_size[0]/3 and center[1]<orig_size[1]/3:\n",
    "        return 'top left corner'\n",
    "    if center[0]>=orig_size[0]/3 and center[0]<=2*orig_size[0]/3 and center[1]<orig_size[1]/3:\n",
    "        return 'top'\n",
    "    if center[0]>2*orig_size[0]/3 and center[1]<orig_size[1]/3:\n",
    "        return 'top right corner'\n",
    "    if center[0]<orig_size[0]/3 and center[1]>=orig_size[1]/3 and center[1]<=2*orig_size[1]/3:\n",
    "        return 'left'\n",
    "    if center[0]>=orig_size[0]/3 and center[0]<=2*orig_size[0]/3 and center[1]>=orig_size[1]/3 and center[1]<=2*orig_size[1]/3:\n",
    "        return 'center'\n",
    "    if center[0]>2*orig_size[0]/3 and center[1]>=orig_size[1]/3 and center[1]<=2*orig_size[1]/3:\n",
    "        return 'right'\n",
    "    if center[0]<orig_size[0]/3 and center[1]>2*orig_size[1]/3:\n",
    "        return 'lower left corner'\n",
    "    if center[0]>=orig_size[0]/3 and center[0]<=2*orig_size[0]/3 and center[1]>2*orig_size[1]/3:\n",
    "        return 'lower'\n",
    "    if center[0]>2*orig_size[0]/3 and center[1]>2*orig_size[1]/3:\n",
    "        return 'lower right corner'\n",
    "\n",
    "\n",
    "\n",
    "def deal_predictions(predictions):\n",
    "    pos_obj_rel_pos_sub=[]         ## 位置object 关系 位置subject\n",
    "\n",
    "\n",
    "    for i in range(len(predictions['rel_labels'])):\n",
    "        obj_index,sub_index=predictions['rel_pairs'][i][0],predictions['rel_pairs'][i][1]\n",
    "\n",
    "        obj,sub=predictions['bbox_labels'][obj_index],predictions['bbox_labels'][sub_index]\n",
    "        obj_bbox,sub_bbox=predictions['bbox'][obj_index],predictions['bbox'][sub_index]\n",
    "        rel=predictions['rel_labels'][i]\n",
    "\n",
    "        pos_obj_rel_pos_sub.append([get_box_pos(obj_bbox),obj,rel,get_box_pos(sub_bbox),sub])\n",
    "\n",
    "    object_count={}\n",
    "    for i in predictions['bbox_labels']:\n",
    "        if i in object_count.keys():\n",
    "            object_count[i]+=1\n",
    "        else:\n",
    "            object_count[i]=1\n",
    "    \n",
    "    \n",
    "    return pos_obj_rel_pos_sub,object_count\n",
    "\n",
    "def fix(predictions,probs=0.15):\n",
    "    fix=np.array(predictions['bbox_scores'])>probs\n",
    "\n",
    "    bbox=np.array(predictions['bbox'])[fix]\n",
    "    bbox_labels=np.array(predictions['bbox_labels'])[fix]\n",
    "\n",
    "    bbox_idx=bbox_labels.shape[0]\n",
    "\n",
    "    rel_pairs=[]\n",
    "    rel_labels=[]\n",
    "\n",
    "    for i,pair in enumerate(predictions['rel_pairs'][:50]):\n",
    "        if pair[0]<bbox_idx and pair[1]<bbox_idx:\n",
    "            rel_pairs.append(pair)\n",
    "            rel_labels.append(predictions['rel_labels'][i])\n",
    "\n",
    "    return list(bbox),list(bbox_labels),rel_pairs,rel_labels\n",
    "\n",
    "def deal_SGG_result(predictions):\n",
    "\n",
    "\n",
    "    bbox,bbox_labels,rel_pairs,rel_labels=fix(predictions)\n",
    "\n",
    "    \n",
    "    object_count={}\n",
    "    #for i in predictions['bbox_labels']:\n",
    "    for i in bbox_labels:\n",
    "        if i in object_count.keys():\n",
    "            object_count[i]+=1\n",
    "        else:\n",
    "            object_count[i]=1\n",
    "\n",
    "    location_dict={key:[] for key in object_count.keys()}\n",
    "\n",
    "    #for i in range(len(predictions['bbox'])):\n",
    "    for i in range(len(bbox)):\n",
    "        #location_dict[predictions['bbox_labels'][i]].append(get_box_pos(predictions['bbox'][i],shape))\n",
    "        location_dict[bbox_labels[i]].append(get_box_pos(bbox[i]))\n",
    "\n",
    "\n",
    "    relation_dict=[]\n",
    "\n",
    "    #for i in range(len(predictions['rel_pairs'])):\n",
    "    #    relation_dict.append([predictions['bbox_labels'][predictions['rel_pairs'][i][0]],predictions['rel_labels'][i],predictions['bbox_labels'][predictions['rel_pairs'][i][1]]])\n",
    "    for i in range(len(rel_pairs)):\n",
    "        relation_dict.append([bbox_labels[rel_pairs[i][0]],rel_labels[i],bbox_labels[rel_pairs[i][1]]])\n",
    "\n",
    "    return {\"number\":object_count,\"location\":location_dict,\"relationship\":relation_dict}\n",
    "\n",
    "\n",
    "\n",
    "    "
   ]
  },
  {
   "cell_type": "code",
   "execution_count": 6,
   "metadata": {},
   "outputs": [],
   "source": [
    "from openai import OpenAI\n",
    "import json\n",
    "import os\n"
   ]
  },
  {
   "cell_type": "code",
   "execution_count": 269,
   "metadata": {},
   "outputs": [],
   "source": [
    "def get_response(pre):\n",
    "    client = OpenAI(\n",
    "        api_key=\"Your keys\", \n",
    "        base_url=\"https://dashscope.aliyuncs.com/compatible-mode/v1\",  #\n",
    "    )\n",
    "\n",
    "    Question='Please complete the following task based on the data {} (which contains three parts of information: quantity,location,and relationship):'.format(json.dumps(pre))+'{\"Task\": \"Please provide me with the quantity, position, and relationship of all different objects in the given image in JSON format,only output json\\\n",
    "    For quantity, count all the quantities of different objects. If it is 0, do not output that class,\\\n",
    "    For the positions of different objects, the position of each individual unit in each type of object needs to be output(the positions are divided into nine grids, namely the top left corner),\\\n",
    "    top,top right corner,left,center,right,left lower corner,lower,right lower corner)。\\\n",
    "    For relationships, output the relationships between all objects in the image in the form of triplets, [object1, relation,object2],\\\n",
    "    Please refer to the following JSON format for specific formatting, and use this JSON format for output (just output one JSON)\",\\\n",
    "    \"Restriction\": \"Strictly provide JSON responses in <format> format,Do not output any other information and irrelevant symbols,Please provide me with a string format and do not output the syntax for markdown\",\\\n",
    "    \"format\":{\"number\":{\"man\":2,\"car\":2,\"woman\":1},\"location\":{\"man\":{1:\"center\",2:\"lower\"},\"car\":{1,:\"top right corner\",2:\"left\"},\"woman\":{1:\"center\"} },\"relationship\":[[\"man\",\"near to\",\"car\"],[\"car\",\"on\",\"load\"],[\"woman\",\"has\",\"car\"]]} }'\n",
    "\n",
    "\n",
    "    completion = client.chat.completions.create(\n",
    "        model=\"qwen-plus-0806\",\n",
    "        messages=[\n",
    "            {'role': 'user', 'content': Question}],\n",
    "        seed=2\n",
    "        )\n",
    "    return completion"
   ]
  },
  {
   "cell_type": "code",
   "execution_count": 3,
   "metadata": {},
   "outputs": [
    {
     "name": "stderr",
     "output_type": "stream",
     "text": [
      "\u001b[32m2024-09-06 18:54:59.939\u001b[0m | \u001b[1mINFO    \u001b[0m | \u001b[36msgg_benchmark.data.build\u001b[0m:\u001b[36mget_dataset_statistics\u001b[0m:\u001b[36m30\u001b[0m - \u001b[1m----------------------------------------------------------------------------------------------------\u001b[0m\n",
      "\u001b[32m2024-09-06 18:54:59.939\u001b[0m | \u001b[1mINFO    \u001b[0m | \u001b[36msgg_benchmark.data.build\u001b[0m:\u001b[36mget_dataset_statistics\u001b[0m:\u001b[36m31\u001b[0m - \u001b[1mget dataset statistics...\u001b[0m\n",
      "\u001b[32m2024-09-06 18:54:59.941\u001b[0m | \u001b[1mINFO    \u001b[0m | \u001b[36msgg_benchmark.data.build\u001b[0m:\u001b[36mget_dataset_statistics\u001b[0m:\u001b[36m42\u001b[0m - \u001b[1mLoading data statistics from: C:\\Users\\Administrator\\Desktop\\RAG\\out\\VG150_train_statistics.cache\u001b[0m\n",
      "\u001b[32m2024-09-06 18:54:59.941\u001b[0m | \u001b[1mINFO    \u001b[0m | \u001b[36msgg_benchmark.data.build\u001b[0m:\u001b[36mget_dataset_statistics\u001b[0m:\u001b[36m43\u001b[0m - \u001b[1m----------------------------------------------------------------------------------------------------\u001b[0m\n"
     ]
    },
    {
     "name": "stdout",
     "output_type": "stream",
     "text": [
      "loading word vectors from .\\glove.6B.200d.pt\n",
      "loading word vectors from .\\glove.6B.200d.pt\n"
     ]
    },
    {
     "name": "stderr",
     "output_type": "stream",
     "text": [
      "\u001b[32m2024-09-06 18:55:02.865\u001b[0m | \u001b[1mINFO    \u001b[0m | \u001b[36msgg_benchmark.utils.checkpoint\u001b[0m:\u001b[36mload\u001b[0m:\u001b[36m65\u001b[0m - \u001b[1mLoading checkpoint from output_motifs/best_model_epoch_4.pth\u001b[0m\n",
      "c:\\ProgramData\\Anaconda3\\envs\\RAG_test\\lib\\site-packages\\torch\\functional.py:512: UserWarning: torch.meshgrid: in an upcoming release, it will be required to pass the indexing argument. (Triggered internally at C:\\cb\\pytorch_1000000000000\\work\\aten\\src\\ATen\\native\\TensorShape.cpp:3588.)\n",
      "  return _VF.meshgrid(tensors, **kwargs)  # type: ignore[attr-defined]\n",
      "\u001b[32m2024-09-06 18:55:06.767\u001b[0m | \u001b[1mINFO    \u001b[0m | \u001b[36msgg_benchmark.data.build\u001b[0m:\u001b[36mget_dataset_statistics\u001b[0m:\u001b[36m30\u001b[0m - \u001b[1m----------------------------------------------------------------------------------------------------\u001b[0m\n",
      "\u001b[32m2024-09-06 18:55:06.768\u001b[0m | \u001b[1mINFO    \u001b[0m | \u001b[36msgg_benchmark.data.build\u001b[0m:\u001b[36mget_dataset_statistics\u001b[0m:\u001b[36m31\u001b[0m - \u001b[1mget dataset statistics...\u001b[0m\n",
      "\u001b[32m2024-09-06 18:55:06.769\u001b[0m | \u001b[1mINFO    \u001b[0m | \u001b[36msgg_benchmark.data.build\u001b[0m:\u001b[36mget_dataset_statistics\u001b[0m:\u001b[36m42\u001b[0m - \u001b[1mLoading data statistics from: C:\\Users\\Administrator\\Desktop\\RAG\\out\\VG150_train_statistics.cache\u001b[0m\n",
      "\u001b[32m2024-09-06 18:55:06.769\u001b[0m | \u001b[1mINFO    \u001b[0m | \u001b[36msgg_benchmark.data.build\u001b[0m:\u001b[36mget_dataset_statistics\u001b[0m:\u001b[36m43\u001b[0m - \u001b[1m----------------------------------------------------------------------------------------------------\u001b[0m\n"
     ]
    },
    {
     "name": "stdout",
     "output_type": "stream",
     "text": [
      "loading word vectors from .\\glove.6B.200d.pt\n",
      "loading word vectors from .\\glove.6B.200d.pt\n"
     ]
    },
    {
     "name": "stderr",
     "output_type": "stream",
     "text": [
      "\u001b[32m2024-09-06 18:55:09.496\u001b[0m | \u001b[1mINFO    \u001b[0m | \u001b[36msgg_benchmark.utils.checkpoint\u001b[0m:\u001b[36mload\u001b[0m:\u001b[36m65\u001b[0m - \u001b[1mLoading checkpoint from output_motifs/best_model_epoch_4.pth\u001b[0m\n",
      "\u001b[32m2024-09-06 18:55:13.022\u001b[0m | \u001b[1mINFO    \u001b[0m | \u001b[36msgg_benchmark.data.build\u001b[0m:\u001b[36mget_dataset_statistics\u001b[0m:\u001b[36m30\u001b[0m - \u001b[1m----------------------------------------------------------------------------------------------------\u001b[0m\n",
      "\u001b[32m2024-09-06 18:55:13.022\u001b[0m | \u001b[1mINFO    \u001b[0m | \u001b[36msgg_benchmark.data.build\u001b[0m:\u001b[36mget_dataset_statistics\u001b[0m:\u001b[36m31\u001b[0m - \u001b[1mget dataset statistics...\u001b[0m\n",
      "\u001b[32m2024-09-06 18:55:13.024\u001b[0m | \u001b[1mINFO    \u001b[0m | \u001b[36msgg_benchmark.data.build\u001b[0m:\u001b[36mget_dataset_statistics\u001b[0m:\u001b[36m42\u001b[0m - \u001b[1mLoading data statistics from: C:\\Users\\Administrator\\Desktop\\RAG\\out\\VG150_train_statistics.cache\u001b[0m\n",
      "\u001b[32m2024-09-06 18:55:13.024\u001b[0m | \u001b[1mINFO    \u001b[0m | \u001b[36msgg_benchmark.data.build\u001b[0m:\u001b[36mget_dataset_statistics\u001b[0m:\u001b[36m43\u001b[0m - \u001b[1m----------------------------------------------------------------------------------------------------\u001b[0m\n"
     ]
    },
    {
     "name": "stdout",
     "output_type": "stream",
     "text": [
      "loading word vectors from .\\glove.6B.200d.pt\n",
      "loading word vectors from .\\glove.6B.200d.pt\n"
     ]
    },
    {
     "name": "stderr",
     "output_type": "stream",
     "text": [
      "\u001b[32m2024-09-06 18:55:15.916\u001b[0m | \u001b[1mINFO    \u001b[0m | \u001b[36msgg_benchmark.utils.checkpoint\u001b[0m:\u001b[36mload\u001b[0m:\u001b[36m65\u001b[0m - \u001b[1mLoading checkpoint from output_motifs/best_model_epoch_4.pth\u001b[0m\n",
      "\u001b[32m2024-09-06 18:55:19.605\u001b[0m | \u001b[1mINFO    \u001b[0m | \u001b[36msgg_benchmark.data.build\u001b[0m:\u001b[36mget_dataset_statistics\u001b[0m:\u001b[36m30\u001b[0m - \u001b[1m----------------------------------------------------------------------------------------------------\u001b[0m\n",
      "\u001b[32m2024-09-06 18:55:19.606\u001b[0m | \u001b[1mINFO    \u001b[0m | \u001b[36msgg_benchmark.data.build\u001b[0m:\u001b[36mget_dataset_statistics\u001b[0m:\u001b[36m31\u001b[0m - \u001b[1mget dataset statistics...\u001b[0m\n",
      "\u001b[32m2024-09-06 18:55:19.607\u001b[0m | \u001b[1mINFO    \u001b[0m | \u001b[36msgg_benchmark.data.build\u001b[0m:\u001b[36mget_dataset_statistics\u001b[0m:\u001b[36m42\u001b[0m - \u001b[1mLoading data statistics from: C:\\Users\\Administrator\\Desktop\\RAG\\out\\VG150_train_statistics.cache\u001b[0m\n",
      "\u001b[32m2024-09-06 18:55:19.607\u001b[0m | \u001b[1mINFO    \u001b[0m | \u001b[36msgg_benchmark.data.build\u001b[0m:\u001b[36mget_dataset_statistics\u001b[0m:\u001b[36m43\u001b[0m - \u001b[1m----------------------------------------------------------------------------------------------------\u001b[0m\n"
     ]
    },
    {
     "name": "stdout",
     "output_type": "stream",
     "text": [
      "loading word vectors from .\\glove.6B.200d.pt\n",
      "loading word vectors from .\\glove.6B.200d.pt\n"
     ]
    },
    {
     "name": "stderr",
     "output_type": "stream",
     "text": [
      "\u001b[32m2024-09-06 18:55:22.451\u001b[0m | \u001b[1mINFO    \u001b[0m | \u001b[36msgg_benchmark.utils.checkpoint\u001b[0m:\u001b[36mload\u001b[0m:\u001b[36m65\u001b[0m - \u001b[1mLoading checkpoint from output_motifs/best_model_epoch_4.pth\u001b[0m\n",
      "\u001b[32m2024-09-06 18:55:25.914\u001b[0m | \u001b[1mINFO    \u001b[0m | \u001b[36msgg_benchmark.data.build\u001b[0m:\u001b[36mget_dataset_statistics\u001b[0m:\u001b[36m30\u001b[0m - \u001b[1m----------------------------------------------------------------------------------------------------\u001b[0m\n",
      "\u001b[32m2024-09-06 18:55:25.915\u001b[0m | \u001b[1mINFO    \u001b[0m | \u001b[36msgg_benchmark.data.build\u001b[0m:\u001b[36mget_dataset_statistics\u001b[0m:\u001b[36m31\u001b[0m - \u001b[1mget dataset statistics...\u001b[0m\n",
      "\u001b[32m2024-09-06 18:55:25.916\u001b[0m | \u001b[1mINFO    \u001b[0m | \u001b[36msgg_benchmark.data.build\u001b[0m:\u001b[36mget_dataset_statistics\u001b[0m:\u001b[36m42\u001b[0m - \u001b[1mLoading data statistics from: C:\\Users\\Administrator\\Desktop\\RAG\\out\\VG150_train_statistics.cache\u001b[0m\n",
      "\u001b[32m2024-09-06 18:55:25.916\u001b[0m | \u001b[1mINFO    \u001b[0m | \u001b[36msgg_benchmark.data.build\u001b[0m:\u001b[36mget_dataset_statistics\u001b[0m:\u001b[36m43\u001b[0m - \u001b[1m----------------------------------------------------------------------------------------------------\u001b[0m\n"
     ]
    },
    {
     "name": "stdout",
     "output_type": "stream",
     "text": [
      "loading word vectors from .\\glove.6B.200d.pt\n",
      "loading word vectors from .\\glove.6B.200d.pt\n"
     ]
    },
    {
     "name": "stderr",
     "output_type": "stream",
     "text": [
      "\u001b[32m2024-09-06 18:55:28.924\u001b[0m | \u001b[1mINFO    \u001b[0m | \u001b[36msgg_benchmark.utils.checkpoint\u001b[0m:\u001b[36mload\u001b[0m:\u001b[36m65\u001b[0m - \u001b[1mLoading checkpoint from output_motifs/best_model_epoch_4.pth\u001b[0m\n",
      "\u001b[32m2024-09-06 18:55:32.571\u001b[0m | \u001b[1mINFO    \u001b[0m | \u001b[36msgg_benchmark.data.build\u001b[0m:\u001b[36mget_dataset_statistics\u001b[0m:\u001b[36m30\u001b[0m - \u001b[1m----------------------------------------------------------------------------------------------------\u001b[0m\n",
      "\u001b[32m2024-09-06 18:55:32.572\u001b[0m | \u001b[1mINFO    \u001b[0m | \u001b[36msgg_benchmark.data.build\u001b[0m:\u001b[36mget_dataset_statistics\u001b[0m:\u001b[36m31\u001b[0m - \u001b[1mget dataset statistics...\u001b[0m\n",
      "\u001b[32m2024-09-06 18:55:32.573\u001b[0m | \u001b[1mINFO    \u001b[0m | \u001b[36msgg_benchmark.data.build\u001b[0m:\u001b[36mget_dataset_statistics\u001b[0m:\u001b[36m42\u001b[0m - \u001b[1mLoading data statistics from: C:\\Users\\Administrator\\Desktop\\RAG\\out\\VG150_train_statistics.cache\u001b[0m\n",
      "\u001b[32m2024-09-06 18:55:32.574\u001b[0m | \u001b[1mINFO    \u001b[0m | \u001b[36msgg_benchmark.data.build\u001b[0m:\u001b[36mget_dataset_statistics\u001b[0m:\u001b[36m43\u001b[0m - \u001b[1m----------------------------------------------------------------------------------------------------\u001b[0m\n"
     ]
    },
    {
     "name": "stdout",
     "output_type": "stream",
     "text": [
      "loading word vectors from .\\glove.6B.200d.pt\n",
      "loading word vectors from .\\glove.6B.200d.pt\n"
     ]
    },
    {
     "name": "stderr",
     "output_type": "stream",
     "text": [
      "\u001b[32m2024-09-06 18:55:35.500\u001b[0m | \u001b[1mINFO    \u001b[0m | \u001b[36msgg_benchmark.utils.checkpoint\u001b[0m:\u001b[36mload\u001b[0m:\u001b[36m65\u001b[0m - \u001b[1mLoading checkpoint from output_motifs/best_model_epoch_4.pth\u001b[0m\n",
      "\u001b[32m2024-09-06 18:55:39.154\u001b[0m | \u001b[1mINFO    \u001b[0m | \u001b[36msgg_benchmark.data.build\u001b[0m:\u001b[36mget_dataset_statistics\u001b[0m:\u001b[36m30\u001b[0m - \u001b[1m----------------------------------------------------------------------------------------------------\u001b[0m\n",
      "\u001b[32m2024-09-06 18:55:39.154\u001b[0m | \u001b[1mINFO    \u001b[0m | \u001b[36msgg_benchmark.data.build\u001b[0m:\u001b[36mget_dataset_statistics\u001b[0m:\u001b[36m31\u001b[0m - \u001b[1mget dataset statistics...\u001b[0m\n",
      "\u001b[32m2024-09-06 18:55:39.156\u001b[0m | \u001b[1mINFO    \u001b[0m | \u001b[36msgg_benchmark.data.build\u001b[0m:\u001b[36mget_dataset_statistics\u001b[0m:\u001b[36m42\u001b[0m - \u001b[1mLoading data statistics from: C:\\Users\\Administrator\\Desktop\\RAG\\out\\VG150_train_statistics.cache\u001b[0m\n",
      "\u001b[32m2024-09-06 18:55:39.156\u001b[0m | \u001b[1mINFO    \u001b[0m | \u001b[36msgg_benchmark.data.build\u001b[0m:\u001b[36mget_dataset_statistics\u001b[0m:\u001b[36m43\u001b[0m - \u001b[1m----------------------------------------------------------------------------------------------------\u001b[0m\n"
     ]
    },
    {
     "name": "stdout",
     "output_type": "stream",
     "text": [
      "loading word vectors from .\\glove.6B.200d.pt\n",
      "loading word vectors from .\\glove.6B.200d.pt\n"
     ]
    },
    {
     "name": "stderr",
     "output_type": "stream",
     "text": [
      "\u001b[32m2024-09-06 18:55:42.042\u001b[0m | \u001b[1mINFO    \u001b[0m | \u001b[36msgg_benchmark.utils.checkpoint\u001b[0m:\u001b[36mload\u001b[0m:\u001b[36m65\u001b[0m - \u001b[1mLoading checkpoint from output_motifs/best_model_epoch_4.pth\u001b[0m\n",
      "\u001b[32m2024-09-06 18:55:45.517\u001b[0m | \u001b[1mINFO    \u001b[0m | \u001b[36msgg_benchmark.data.build\u001b[0m:\u001b[36mget_dataset_statistics\u001b[0m:\u001b[36m30\u001b[0m - \u001b[1m----------------------------------------------------------------------------------------------------\u001b[0m\n",
      "\u001b[32m2024-09-06 18:55:45.518\u001b[0m | \u001b[1mINFO    \u001b[0m | \u001b[36msgg_benchmark.data.build\u001b[0m:\u001b[36mget_dataset_statistics\u001b[0m:\u001b[36m31\u001b[0m - \u001b[1mget dataset statistics...\u001b[0m\n",
      "\u001b[32m2024-09-06 18:55:45.519\u001b[0m | \u001b[1mINFO    \u001b[0m | \u001b[36msgg_benchmark.data.build\u001b[0m:\u001b[36mget_dataset_statistics\u001b[0m:\u001b[36m42\u001b[0m - \u001b[1mLoading data statistics from: C:\\Users\\Administrator\\Desktop\\RAG\\out\\VG150_train_statistics.cache\u001b[0m\n",
      "\u001b[32m2024-09-06 18:55:45.519\u001b[0m | \u001b[1mINFO    \u001b[0m | \u001b[36msgg_benchmark.data.build\u001b[0m:\u001b[36mget_dataset_statistics\u001b[0m:\u001b[36m43\u001b[0m - \u001b[1m----------------------------------------------------------------------------------------------------\u001b[0m\n"
     ]
    },
    {
     "name": "stdout",
     "output_type": "stream",
     "text": [
      "loading word vectors from .\\glove.6B.200d.pt\n",
      "loading word vectors from .\\glove.6B.200d.pt\n"
     ]
    },
    {
     "name": "stderr",
     "output_type": "stream",
     "text": [
      "\u001b[32m2024-09-06 18:55:48.452\u001b[0m | \u001b[1mINFO    \u001b[0m | \u001b[36msgg_benchmark.utils.checkpoint\u001b[0m:\u001b[36mload\u001b[0m:\u001b[36m65\u001b[0m - \u001b[1mLoading checkpoint from output_motifs/best_model_epoch_4.pth\u001b[0m\n",
      "\u001b[32m2024-09-06 18:55:52.013\u001b[0m | \u001b[1mINFO    \u001b[0m | \u001b[36msgg_benchmark.data.build\u001b[0m:\u001b[36mget_dataset_statistics\u001b[0m:\u001b[36m30\u001b[0m - \u001b[1m----------------------------------------------------------------------------------------------------\u001b[0m\n",
      "\u001b[32m2024-09-06 18:55:52.014\u001b[0m | \u001b[1mINFO    \u001b[0m | \u001b[36msgg_benchmark.data.build\u001b[0m:\u001b[36mget_dataset_statistics\u001b[0m:\u001b[36m31\u001b[0m - \u001b[1mget dataset statistics...\u001b[0m\n",
      "\u001b[32m2024-09-06 18:55:52.015\u001b[0m | \u001b[1mINFO    \u001b[0m | \u001b[36msgg_benchmark.data.build\u001b[0m:\u001b[36mget_dataset_statistics\u001b[0m:\u001b[36m42\u001b[0m - \u001b[1mLoading data statistics from: C:\\Users\\Administrator\\Desktop\\RAG\\out\\VG150_train_statistics.cache\u001b[0m\n",
      "\u001b[32m2024-09-06 18:55:52.016\u001b[0m | \u001b[1mINFO    \u001b[0m | \u001b[36msgg_benchmark.data.build\u001b[0m:\u001b[36mget_dataset_statistics\u001b[0m:\u001b[36m43\u001b[0m - \u001b[1m----------------------------------------------------------------------------------------------------\u001b[0m\n"
     ]
    },
    {
     "name": "stdout",
     "output_type": "stream",
     "text": [
      "loading word vectors from .\\glove.6B.200d.pt\n",
      "loading word vectors from .\\glove.6B.200d.pt\n"
     ]
    },
    {
     "name": "stderr",
     "output_type": "stream",
     "text": [
      "\u001b[32m2024-09-06 18:55:54.919\u001b[0m | \u001b[1mINFO    \u001b[0m | \u001b[36msgg_benchmark.utils.checkpoint\u001b[0m:\u001b[36mload\u001b[0m:\u001b[36m65\u001b[0m - \u001b[1mLoading checkpoint from output_motifs/best_model_epoch_4.pth\u001b[0m\n",
      "\u001b[32m2024-09-06 18:55:58.743\u001b[0m | \u001b[1mINFO    \u001b[0m | \u001b[36msgg_benchmark.data.build\u001b[0m:\u001b[36mget_dataset_statistics\u001b[0m:\u001b[36m30\u001b[0m - \u001b[1m----------------------------------------------------------------------------------------------------\u001b[0m\n",
      "\u001b[32m2024-09-06 18:55:58.744\u001b[0m | \u001b[1mINFO    \u001b[0m | \u001b[36msgg_benchmark.data.build\u001b[0m:\u001b[36mget_dataset_statistics\u001b[0m:\u001b[36m31\u001b[0m - \u001b[1mget dataset statistics...\u001b[0m\n",
      "\u001b[32m2024-09-06 18:55:58.745\u001b[0m | \u001b[1mINFO    \u001b[0m | \u001b[36msgg_benchmark.data.build\u001b[0m:\u001b[36mget_dataset_statistics\u001b[0m:\u001b[36m42\u001b[0m - \u001b[1mLoading data statistics from: C:\\Users\\Administrator\\Desktop\\RAG\\out\\VG150_train_statistics.cache\u001b[0m\n",
      "\u001b[32m2024-09-06 18:55:58.746\u001b[0m | \u001b[1mINFO    \u001b[0m | \u001b[36msgg_benchmark.data.build\u001b[0m:\u001b[36mget_dataset_statistics\u001b[0m:\u001b[36m43\u001b[0m - \u001b[1m----------------------------------------------------------------------------------------------------\u001b[0m\n"
     ]
    },
    {
     "name": "stdout",
     "output_type": "stream",
     "text": [
      "loading word vectors from .\\glove.6B.200d.pt\n",
      "loading word vectors from .\\glove.6B.200d.pt\n"
     ]
    },
    {
     "name": "stderr",
     "output_type": "stream",
     "text": [
      "\u001b[32m2024-09-06 18:56:01.680\u001b[0m | \u001b[1mINFO    \u001b[0m | \u001b[36msgg_benchmark.utils.checkpoint\u001b[0m:\u001b[36mload\u001b[0m:\u001b[36m65\u001b[0m - \u001b[1mLoading checkpoint from output_motifs/best_model_epoch_4.pth\u001b[0m\n",
      "\u001b[32m2024-09-06 18:56:05.329\u001b[0m | \u001b[1mINFO    \u001b[0m | \u001b[36msgg_benchmark.data.build\u001b[0m:\u001b[36mget_dataset_statistics\u001b[0m:\u001b[36m30\u001b[0m - \u001b[1m----------------------------------------------------------------------------------------------------\u001b[0m\n",
      "\u001b[32m2024-09-06 18:56:05.330\u001b[0m | \u001b[1mINFO    \u001b[0m | \u001b[36msgg_benchmark.data.build\u001b[0m:\u001b[36mget_dataset_statistics\u001b[0m:\u001b[36m31\u001b[0m - \u001b[1mget dataset statistics...\u001b[0m\n",
      "\u001b[32m2024-09-06 18:56:05.331\u001b[0m | \u001b[1mINFO    \u001b[0m | \u001b[36msgg_benchmark.data.build\u001b[0m:\u001b[36mget_dataset_statistics\u001b[0m:\u001b[36m42\u001b[0m - \u001b[1mLoading data statistics from: C:\\Users\\Administrator\\Desktop\\RAG\\out\\VG150_train_statistics.cache\u001b[0m\n",
      "\u001b[32m2024-09-06 18:56:05.331\u001b[0m | \u001b[1mINFO    \u001b[0m | \u001b[36msgg_benchmark.data.build\u001b[0m:\u001b[36mget_dataset_statistics\u001b[0m:\u001b[36m43\u001b[0m - \u001b[1m----------------------------------------------------------------------------------------------------\u001b[0m\n"
     ]
    },
    {
     "name": "stdout",
     "output_type": "stream",
     "text": [
      "loading word vectors from .\\glove.6B.200d.pt\n",
      "loading word vectors from .\\glove.6B.200d.pt\n"
     ]
    },
    {
     "name": "stderr",
     "output_type": "stream",
     "text": [
      "\u001b[32m2024-09-06 18:56:08.204\u001b[0m | \u001b[1mINFO    \u001b[0m | \u001b[36msgg_benchmark.utils.checkpoint\u001b[0m:\u001b[36mload\u001b[0m:\u001b[36m65\u001b[0m - \u001b[1mLoading checkpoint from output_motifs/best_model_epoch_4.pth\u001b[0m\n",
      "\u001b[32m2024-09-06 18:56:11.549\u001b[0m | \u001b[1mINFO    \u001b[0m | \u001b[36msgg_benchmark.data.build\u001b[0m:\u001b[36mget_dataset_statistics\u001b[0m:\u001b[36m30\u001b[0m - \u001b[1m----------------------------------------------------------------------------------------------------\u001b[0m\n",
      "\u001b[32m2024-09-06 18:56:11.550\u001b[0m | \u001b[1mINFO    \u001b[0m | \u001b[36msgg_benchmark.data.build\u001b[0m:\u001b[36mget_dataset_statistics\u001b[0m:\u001b[36m31\u001b[0m - \u001b[1mget dataset statistics...\u001b[0m\n",
      "\u001b[32m2024-09-06 18:56:11.551\u001b[0m | \u001b[1mINFO    \u001b[0m | \u001b[36msgg_benchmark.data.build\u001b[0m:\u001b[36mget_dataset_statistics\u001b[0m:\u001b[36m42\u001b[0m - \u001b[1mLoading data statistics from: C:\\Users\\Administrator\\Desktop\\RAG\\out\\VG150_train_statistics.cache\u001b[0m\n",
      "\u001b[32m2024-09-06 18:56:11.551\u001b[0m | \u001b[1mINFO    \u001b[0m | \u001b[36msgg_benchmark.data.build\u001b[0m:\u001b[36mget_dataset_statistics\u001b[0m:\u001b[36m43\u001b[0m - \u001b[1m----------------------------------------------------------------------------------------------------\u001b[0m\n"
     ]
    },
    {
     "name": "stdout",
     "output_type": "stream",
     "text": [
      "loading word vectors from .\\glove.6B.200d.pt\n",
      "loading word vectors from .\\glove.6B.200d.pt\n"
     ]
    },
    {
     "name": "stderr",
     "output_type": "stream",
     "text": [
      "\u001b[32m2024-09-06 18:56:14.403\u001b[0m | \u001b[1mINFO    \u001b[0m | \u001b[36msgg_benchmark.utils.checkpoint\u001b[0m:\u001b[36mload\u001b[0m:\u001b[36m65\u001b[0m - \u001b[1mLoading checkpoint from output_motifs/best_model_epoch_4.pth\u001b[0m\n",
      "\u001b[32m2024-09-06 18:56:17.991\u001b[0m | \u001b[1mINFO    \u001b[0m | \u001b[36msgg_benchmark.data.build\u001b[0m:\u001b[36mget_dataset_statistics\u001b[0m:\u001b[36m30\u001b[0m - \u001b[1m----------------------------------------------------------------------------------------------------\u001b[0m\n",
      "\u001b[32m2024-09-06 18:56:17.992\u001b[0m | \u001b[1mINFO    \u001b[0m | \u001b[36msgg_benchmark.data.build\u001b[0m:\u001b[36mget_dataset_statistics\u001b[0m:\u001b[36m31\u001b[0m - \u001b[1mget dataset statistics...\u001b[0m\n",
      "\u001b[32m2024-09-06 18:56:17.993\u001b[0m | \u001b[1mINFO    \u001b[0m | \u001b[36msgg_benchmark.data.build\u001b[0m:\u001b[36mget_dataset_statistics\u001b[0m:\u001b[36m42\u001b[0m - \u001b[1mLoading data statistics from: C:\\Users\\Administrator\\Desktop\\RAG\\out\\VG150_train_statistics.cache\u001b[0m\n",
      "\u001b[32m2024-09-06 18:56:17.993\u001b[0m | \u001b[1mINFO    \u001b[0m | \u001b[36msgg_benchmark.data.build\u001b[0m:\u001b[36mget_dataset_statistics\u001b[0m:\u001b[36m43\u001b[0m - \u001b[1m----------------------------------------------------------------------------------------------------\u001b[0m\n"
     ]
    },
    {
     "name": "stdout",
     "output_type": "stream",
     "text": [
      "loading word vectors from .\\glove.6B.200d.pt\n",
      "loading word vectors from .\\glove.6B.200d.pt\n"
     ]
    },
    {
     "name": "stderr",
     "output_type": "stream",
     "text": [
      "\u001b[32m2024-09-06 18:56:20.978\u001b[0m | \u001b[1mINFO    \u001b[0m | \u001b[36msgg_benchmark.utils.checkpoint\u001b[0m:\u001b[36mload\u001b[0m:\u001b[36m65\u001b[0m - \u001b[1mLoading checkpoint from output_motifs/best_model_epoch_4.pth\u001b[0m\n",
      "\u001b[32m2024-09-06 18:56:24.715\u001b[0m | \u001b[1mINFO    \u001b[0m | \u001b[36msgg_benchmark.data.build\u001b[0m:\u001b[36mget_dataset_statistics\u001b[0m:\u001b[36m30\u001b[0m - \u001b[1m----------------------------------------------------------------------------------------------------\u001b[0m\n",
      "\u001b[32m2024-09-06 18:56:24.716\u001b[0m | \u001b[1mINFO    \u001b[0m | \u001b[36msgg_benchmark.data.build\u001b[0m:\u001b[36mget_dataset_statistics\u001b[0m:\u001b[36m31\u001b[0m - \u001b[1mget dataset statistics...\u001b[0m\n",
      "\u001b[32m2024-09-06 18:56:24.717\u001b[0m | \u001b[1mINFO    \u001b[0m | \u001b[36msgg_benchmark.data.build\u001b[0m:\u001b[36mget_dataset_statistics\u001b[0m:\u001b[36m42\u001b[0m - \u001b[1mLoading data statistics from: C:\\Users\\Administrator\\Desktop\\RAG\\out\\VG150_train_statistics.cache\u001b[0m\n",
      "\u001b[32m2024-09-06 18:56:24.717\u001b[0m | \u001b[1mINFO    \u001b[0m | \u001b[36msgg_benchmark.data.build\u001b[0m:\u001b[36mget_dataset_statistics\u001b[0m:\u001b[36m43\u001b[0m - \u001b[1m----------------------------------------------------------------------------------------------------\u001b[0m\n"
     ]
    },
    {
     "name": "stdout",
     "output_type": "stream",
     "text": [
      "loading word vectors from .\\glove.6B.200d.pt\n",
      "loading word vectors from .\\glove.6B.200d.pt\n"
     ]
    },
    {
     "name": "stderr",
     "output_type": "stream",
     "text": [
      "\u001b[32m2024-09-06 18:56:27.684\u001b[0m | \u001b[1mINFO    \u001b[0m | \u001b[36msgg_benchmark.utils.checkpoint\u001b[0m:\u001b[36mload\u001b[0m:\u001b[36m65\u001b[0m - \u001b[1mLoading checkpoint from output_motifs/best_model_epoch_4.pth\u001b[0m\n",
      "\u001b[32m2024-09-06 18:56:31.249\u001b[0m | \u001b[1mINFO    \u001b[0m | \u001b[36msgg_benchmark.data.build\u001b[0m:\u001b[36mget_dataset_statistics\u001b[0m:\u001b[36m30\u001b[0m - \u001b[1m----------------------------------------------------------------------------------------------------\u001b[0m\n",
      "\u001b[32m2024-09-06 18:56:31.250\u001b[0m | \u001b[1mINFO    \u001b[0m | \u001b[36msgg_benchmark.data.build\u001b[0m:\u001b[36mget_dataset_statistics\u001b[0m:\u001b[36m31\u001b[0m - \u001b[1mget dataset statistics...\u001b[0m\n",
      "\u001b[32m2024-09-06 18:56:31.250\u001b[0m | \u001b[1mINFO    \u001b[0m | \u001b[36msgg_benchmark.data.build\u001b[0m:\u001b[36mget_dataset_statistics\u001b[0m:\u001b[36m42\u001b[0m - \u001b[1mLoading data statistics from: C:\\Users\\Administrator\\Desktop\\RAG\\out\\VG150_train_statistics.cache\u001b[0m\n",
      "\u001b[32m2024-09-06 18:56:31.251\u001b[0m | \u001b[1mINFO    \u001b[0m | \u001b[36msgg_benchmark.data.build\u001b[0m:\u001b[36mget_dataset_statistics\u001b[0m:\u001b[36m43\u001b[0m - \u001b[1m----------------------------------------------------------------------------------------------------\u001b[0m\n"
     ]
    },
    {
     "name": "stdout",
     "output_type": "stream",
     "text": [
      "loading word vectors from .\\glove.6B.200d.pt\n",
      "loading word vectors from .\\glove.6B.200d.pt\n"
     ]
    },
    {
     "name": "stderr",
     "output_type": "stream",
     "text": [
      "\u001b[32m2024-09-06 18:56:34.434\u001b[0m | \u001b[1mINFO    \u001b[0m | \u001b[36msgg_benchmark.utils.checkpoint\u001b[0m:\u001b[36mload\u001b[0m:\u001b[36m65\u001b[0m - \u001b[1mLoading checkpoint from output_motifs/best_model_epoch_4.pth\u001b[0m\n",
      "\u001b[32m2024-09-06 18:56:38.562\u001b[0m | \u001b[1mINFO    \u001b[0m | \u001b[36msgg_benchmark.data.build\u001b[0m:\u001b[36mget_dataset_statistics\u001b[0m:\u001b[36m30\u001b[0m - \u001b[1m----------------------------------------------------------------------------------------------------\u001b[0m\n",
      "\u001b[32m2024-09-06 18:56:38.563\u001b[0m | \u001b[1mINFO    \u001b[0m | \u001b[36msgg_benchmark.data.build\u001b[0m:\u001b[36mget_dataset_statistics\u001b[0m:\u001b[36m31\u001b[0m - \u001b[1mget dataset statistics...\u001b[0m\n",
      "\u001b[32m2024-09-06 18:56:38.564\u001b[0m | \u001b[1mINFO    \u001b[0m | \u001b[36msgg_benchmark.data.build\u001b[0m:\u001b[36mget_dataset_statistics\u001b[0m:\u001b[36m42\u001b[0m - \u001b[1mLoading data statistics from: C:\\Users\\Administrator\\Desktop\\RAG\\out\\VG150_train_statistics.cache\u001b[0m\n",
      "\u001b[32m2024-09-06 18:56:38.565\u001b[0m | \u001b[1mINFO    \u001b[0m | \u001b[36msgg_benchmark.data.build\u001b[0m:\u001b[36mget_dataset_statistics\u001b[0m:\u001b[36m43\u001b[0m - \u001b[1m----------------------------------------------------------------------------------------------------\u001b[0m\n"
     ]
    },
    {
     "name": "stdout",
     "output_type": "stream",
     "text": [
      "loading word vectors from .\\glove.6B.200d.pt\n",
      "loading word vectors from .\\glove.6B.200d.pt\n"
     ]
    },
    {
     "name": "stderr",
     "output_type": "stream",
     "text": [
      "\u001b[32m2024-09-06 18:56:41.328\u001b[0m | \u001b[1mINFO    \u001b[0m | \u001b[36msgg_benchmark.utils.checkpoint\u001b[0m:\u001b[36mload\u001b[0m:\u001b[36m65\u001b[0m - \u001b[1mLoading checkpoint from output_motifs/best_model_epoch_4.pth\u001b[0m\n",
      "\u001b[32m2024-09-06 18:56:45.021\u001b[0m | \u001b[1mINFO    \u001b[0m | \u001b[36msgg_benchmark.data.build\u001b[0m:\u001b[36mget_dataset_statistics\u001b[0m:\u001b[36m30\u001b[0m - \u001b[1m----------------------------------------------------------------------------------------------------\u001b[0m\n",
      "\u001b[32m2024-09-06 18:56:45.021\u001b[0m | \u001b[1mINFO    \u001b[0m | \u001b[36msgg_benchmark.data.build\u001b[0m:\u001b[36mget_dataset_statistics\u001b[0m:\u001b[36m31\u001b[0m - \u001b[1mget dataset statistics...\u001b[0m\n",
      "\u001b[32m2024-09-06 18:56:45.023\u001b[0m | \u001b[1mINFO    \u001b[0m | \u001b[36msgg_benchmark.data.build\u001b[0m:\u001b[36mget_dataset_statistics\u001b[0m:\u001b[36m42\u001b[0m - \u001b[1mLoading data statistics from: C:\\Users\\Administrator\\Desktop\\RAG\\out\\VG150_train_statistics.cache\u001b[0m\n",
      "\u001b[32m2024-09-06 18:56:45.023\u001b[0m | \u001b[1mINFO    \u001b[0m | \u001b[36msgg_benchmark.data.build\u001b[0m:\u001b[36mget_dataset_statistics\u001b[0m:\u001b[36m43\u001b[0m - \u001b[1m----------------------------------------------------------------------------------------------------\u001b[0m\n"
     ]
    },
    {
     "name": "stdout",
     "output_type": "stream",
     "text": [
      "loading word vectors from .\\glove.6B.200d.pt\n",
      "loading word vectors from .\\glove.6B.200d.pt\n"
     ]
    },
    {
     "name": "stderr",
     "output_type": "stream",
     "text": [
      "\u001b[32m2024-09-06 18:56:47.909\u001b[0m | \u001b[1mINFO    \u001b[0m | \u001b[36msgg_benchmark.utils.checkpoint\u001b[0m:\u001b[36mload\u001b[0m:\u001b[36m65\u001b[0m - \u001b[1mLoading checkpoint from output_motifs/best_model_epoch_4.pth\u001b[0m\n",
      "\u001b[32m2024-09-06 18:56:51.449\u001b[0m | \u001b[1mINFO    \u001b[0m | \u001b[36msgg_benchmark.data.build\u001b[0m:\u001b[36mget_dataset_statistics\u001b[0m:\u001b[36m30\u001b[0m - \u001b[1m----------------------------------------------------------------------------------------------------\u001b[0m\n",
      "\u001b[32m2024-09-06 18:56:51.450\u001b[0m | \u001b[1mINFO    \u001b[0m | \u001b[36msgg_benchmark.data.build\u001b[0m:\u001b[36mget_dataset_statistics\u001b[0m:\u001b[36m31\u001b[0m - \u001b[1mget dataset statistics...\u001b[0m\n",
      "\u001b[32m2024-09-06 18:56:51.451\u001b[0m | \u001b[1mINFO    \u001b[0m | \u001b[36msgg_benchmark.data.build\u001b[0m:\u001b[36mget_dataset_statistics\u001b[0m:\u001b[36m42\u001b[0m - \u001b[1mLoading data statistics from: C:\\Users\\Administrator\\Desktop\\RAG\\out\\VG150_train_statistics.cache\u001b[0m\n",
      "\u001b[32m2024-09-06 18:56:51.451\u001b[0m | \u001b[1mINFO    \u001b[0m | \u001b[36msgg_benchmark.data.build\u001b[0m:\u001b[36mget_dataset_statistics\u001b[0m:\u001b[36m43\u001b[0m - \u001b[1m----------------------------------------------------------------------------------------------------\u001b[0m\n"
     ]
    },
    {
     "name": "stdout",
     "output_type": "stream",
     "text": [
      "loading word vectors from .\\glove.6B.200d.pt\n",
      "loading word vectors from .\\glove.6B.200d.pt\n"
     ]
    },
    {
     "name": "stderr",
     "output_type": "stream",
     "text": [
      "\u001b[32m2024-09-06 18:56:54.327\u001b[0m | \u001b[1mINFO    \u001b[0m | \u001b[36msgg_benchmark.utils.checkpoint\u001b[0m:\u001b[36mload\u001b[0m:\u001b[36m65\u001b[0m - \u001b[1mLoading checkpoint from output_motifs/best_model_epoch_4.pth\u001b[0m\n",
      "\u001b[32m2024-09-06 18:56:57.969\u001b[0m | \u001b[1mINFO    \u001b[0m | \u001b[36msgg_benchmark.data.build\u001b[0m:\u001b[36mget_dataset_statistics\u001b[0m:\u001b[36m30\u001b[0m - \u001b[1m----------------------------------------------------------------------------------------------------\u001b[0m\n",
      "\u001b[32m2024-09-06 18:56:57.970\u001b[0m | \u001b[1mINFO    \u001b[0m | \u001b[36msgg_benchmark.data.build\u001b[0m:\u001b[36mget_dataset_statistics\u001b[0m:\u001b[36m31\u001b[0m - \u001b[1mget dataset statistics...\u001b[0m\n",
      "\u001b[32m2024-09-06 18:56:57.971\u001b[0m | \u001b[1mINFO    \u001b[0m | \u001b[36msgg_benchmark.data.build\u001b[0m:\u001b[36mget_dataset_statistics\u001b[0m:\u001b[36m42\u001b[0m - \u001b[1mLoading data statistics from: C:\\Users\\Administrator\\Desktop\\RAG\\out\\VG150_train_statistics.cache\u001b[0m\n",
      "\u001b[32m2024-09-06 18:56:57.971\u001b[0m | \u001b[1mINFO    \u001b[0m | \u001b[36msgg_benchmark.data.build\u001b[0m:\u001b[36mget_dataset_statistics\u001b[0m:\u001b[36m43\u001b[0m - \u001b[1m----------------------------------------------------------------------------------------------------\u001b[0m\n"
     ]
    },
    {
     "name": "stdout",
     "output_type": "stream",
     "text": [
      "loading word vectors from .\\glove.6B.200d.pt\n",
      "loading word vectors from .\\glove.6B.200d.pt\n"
     ]
    },
    {
     "name": "stderr",
     "output_type": "stream",
     "text": [
      "\u001b[32m2024-09-06 18:57:00.906\u001b[0m | \u001b[1mINFO    \u001b[0m | \u001b[36msgg_benchmark.utils.checkpoint\u001b[0m:\u001b[36mload\u001b[0m:\u001b[36m65\u001b[0m - \u001b[1mLoading checkpoint from output_motifs/best_model_epoch_4.pth\u001b[0m\n",
      "\u001b[32m2024-09-06 18:57:04.516\u001b[0m | \u001b[1mINFO    \u001b[0m | \u001b[36msgg_benchmark.data.build\u001b[0m:\u001b[36mget_dataset_statistics\u001b[0m:\u001b[36m30\u001b[0m - \u001b[1m----------------------------------------------------------------------------------------------------\u001b[0m\n",
      "\u001b[32m2024-09-06 18:57:04.517\u001b[0m | \u001b[1mINFO    \u001b[0m | \u001b[36msgg_benchmark.data.build\u001b[0m:\u001b[36mget_dataset_statistics\u001b[0m:\u001b[36m31\u001b[0m - \u001b[1mget dataset statistics...\u001b[0m\n",
      "\u001b[32m2024-09-06 18:57:04.518\u001b[0m | \u001b[1mINFO    \u001b[0m | \u001b[36msgg_benchmark.data.build\u001b[0m:\u001b[36mget_dataset_statistics\u001b[0m:\u001b[36m42\u001b[0m - \u001b[1mLoading data statistics from: C:\\Users\\Administrator\\Desktop\\RAG\\out\\VG150_train_statistics.cache\u001b[0m\n",
      "\u001b[32m2024-09-06 18:57:04.518\u001b[0m | \u001b[1mINFO    \u001b[0m | \u001b[36msgg_benchmark.data.build\u001b[0m:\u001b[36mget_dataset_statistics\u001b[0m:\u001b[36m43\u001b[0m - \u001b[1m----------------------------------------------------------------------------------------------------\u001b[0m\n"
     ]
    },
    {
     "name": "stdout",
     "output_type": "stream",
     "text": [
      "loading word vectors from .\\glove.6B.200d.pt\n",
      "loading word vectors from .\\glove.6B.200d.pt\n"
     ]
    },
    {
     "name": "stderr",
     "output_type": "stream",
     "text": [
      "\u001b[32m2024-09-06 18:57:07.416\u001b[0m | \u001b[1mINFO    \u001b[0m | \u001b[36msgg_benchmark.utils.checkpoint\u001b[0m:\u001b[36mload\u001b[0m:\u001b[36m65\u001b[0m - \u001b[1mLoading checkpoint from output_motifs/best_model_epoch_4.pth\u001b[0m\n",
      "\u001b[32m2024-09-06 18:57:10.794\u001b[0m | \u001b[1mINFO    \u001b[0m | \u001b[36msgg_benchmark.data.build\u001b[0m:\u001b[36mget_dataset_statistics\u001b[0m:\u001b[36m30\u001b[0m - \u001b[1m----------------------------------------------------------------------------------------------------\u001b[0m\n",
      "\u001b[32m2024-09-06 18:57:10.795\u001b[0m | \u001b[1mINFO    \u001b[0m | \u001b[36msgg_benchmark.data.build\u001b[0m:\u001b[36mget_dataset_statistics\u001b[0m:\u001b[36m31\u001b[0m - \u001b[1mget dataset statistics...\u001b[0m\n",
      "\u001b[32m2024-09-06 18:57:10.796\u001b[0m | \u001b[1mINFO    \u001b[0m | \u001b[36msgg_benchmark.data.build\u001b[0m:\u001b[36mget_dataset_statistics\u001b[0m:\u001b[36m42\u001b[0m - \u001b[1mLoading data statistics from: C:\\Users\\Administrator\\Desktop\\RAG\\out\\VG150_train_statistics.cache\u001b[0m\n",
      "\u001b[32m2024-09-06 18:57:10.797\u001b[0m | \u001b[1mINFO    \u001b[0m | \u001b[36msgg_benchmark.data.build\u001b[0m:\u001b[36mget_dataset_statistics\u001b[0m:\u001b[36m43\u001b[0m - \u001b[1m----------------------------------------------------------------------------------------------------\u001b[0m\n"
     ]
    },
    {
     "name": "stdout",
     "output_type": "stream",
     "text": [
      "loading word vectors from .\\glove.6B.200d.pt\n",
      "loading word vectors from .\\glove.6B.200d.pt\n"
     ]
    },
    {
     "name": "stderr",
     "output_type": "stream",
     "text": [
      "\u001b[32m2024-09-06 18:57:13.694\u001b[0m | \u001b[1mINFO    \u001b[0m | \u001b[36msgg_benchmark.utils.checkpoint\u001b[0m:\u001b[36mload\u001b[0m:\u001b[36m65\u001b[0m - \u001b[1mLoading checkpoint from output_motifs/best_model_epoch_4.pth\u001b[0m\n",
      "\u001b[32m2024-09-06 18:57:17.477\u001b[0m | \u001b[1mINFO    \u001b[0m | \u001b[36msgg_benchmark.data.build\u001b[0m:\u001b[36mget_dataset_statistics\u001b[0m:\u001b[36m30\u001b[0m - \u001b[1m----------------------------------------------------------------------------------------------------\u001b[0m\n",
      "\u001b[32m2024-09-06 18:57:17.478\u001b[0m | \u001b[1mINFO    \u001b[0m | \u001b[36msgg_benchmark.data.build\u001b[0m:\u001b[36mget_dataset_statistics\u001b[0m:\u001b[36m31\u001b[0m - \u001b[1mget dataset statistics...\u001b[0m\n",
      "\u001b[32m2024-09-06 18:57:17.479\u001b[0m | \u001b[1mINFO    \u001b[0m | \u001b[36msgg_benchmark.data.build\u001b[0m:\u001b[36mget_dataset_statistics\u001b[0m:\u001b[36m42\u001b[0m - \u001b[1mLoading data statistics from: C:\\Users\\Administrator\\Desktop\\RAG\\out\\VG150_train_statistics.cache\u001b[0m\n",
      "\u001b[32m2024-09-06 18:57:17.479\u001b[0m | \u001b[1mINFO    \u001b[0m | \u001b[36msgg_benchmark.data.build\u001b[0m:\u001b[36mget_dataset_statistics\u001b[0m:\u001b[36m43\u001b[0m - \u001b[1m----------------------------------------------------------------------------------------------------\u001b[0m\n"
     ]
    },
    {
     "name": "stdout",
     "output_type": "stream",
     "text": [
      "loading word vectors from .\\glove.6B.200d.pt\n",
      "loading word vectors from .\\glove.6B.200d.pt\n"
     ]
    },
    {
     "name": "stderr",
     "output_type": "stream",
     "text": [
      "\u001b[32m2024-09-06 18:57:20.426\u001b[0m | \u001b[1mINFO    \u001b[0m | \u001b[36msgg_benchmark.utils.checkpoint\u001b[0m:\u001b[36mload\u001b[0m:\u001b[36m65\u001b[0m - \u001b[1mLoading checkpoint from output_motifs/best_model_epoch_4.pth\u001b[0m\n",
      "\u001b[32m2024-09-06 18:57:24.079\u001b[0m | \u001b[1mINFO    \u001b[0m | \u001b[36msgg_benchmark.data.build\u001b[0m:\u001b[36mget_dataset_statistics\u001b[0m:\u001b[36m30\u001b[0m - \u001b[1m----------------------------------------------------------------------------------------------------\u001b[0m\n",
      "\u001b[32m2024-09-06 18:57:24.080\u001b[0m | \u001b[1mINFO    \u001b[0m | \u001b[36msgg_benchmark.data.build\u001b[0m:\u001b[36mget_dataset_statistics\u001b[0m:\u001b[36m31\u001b[0m - \u001b[1mget dataset statistics...\u001b[0m\n",
      "\u001b[32m2024-09-06 18:57:24.081\u001b[0m | \u001b[1mINFO    \u001b[0m | \u001b[36msgg_benchmark.data.build\u001b[0m:\u001b[36mget_dataset_statistics\u001b[0m:\u001b[36m42\u001b[0m - \u001b[1mLoading data statistics from: C:\\Users\\Administrator\\Desktop\\RAG\\out\\VG150_train_statistics.cache\u001b[0m\n",
      "\u001b[32m2024-09-06 18:57:24.082\u001b[0m | \u001b[1mINFO    \u001b[0m | \u001b[36msgg_benchmark.data.build\u001b[0m:\u001b[36mget_dataset_statistics\u001b[0m:\u001b[36m43\u001b[0m - \u001b[1m----------------------------------------------------------------------------------------------------\u001b[0m\n"
     ]
    },
    {
     "name": "stdout",
     "output_type": "stream",
     "text": [
      "loading word vectors from .\\glove.6B.200d.pt\n",
      "loading word vectors from .\\glove.6B.200d.pt\n"
     ]
    },
    {
     "name": "stderr",
     "output_type": "stream",
     "text": [
      "\u001b[32m2024-09-06 18:57:27.252\u001b[0m | \u001b[1mINFO    \u001b[0m | \u001b[36msgg_benchmark.utils.checkpoint\u001b[0m:\u001b[36mload\u001b[0m:\u001b[36m65\u001b[0m - \u001b[1mLoading checkpoint from output_motifs/best_model_epoch_4.pth\u001b[0m\n",
      "\u001b[32m2024-09-06 18:57:31.228\u001b[0m | \u001b[1mINFO    \u001b[0m | \u001b[36msgg_benchmark.data.build\u001b[0m:\u001b[36mget_dataset_statistics\u001b[0m:\u001b[36m30\u001b[0m - \u001b[1m----------------------------------------------------------------------------------------------------\u001b[0m\n",
      "\u001b[32m2024-09-06 18:57:31.229\u001b[0m | \u001b[1mINFO    \u001b[0m | \u001b[36msgg_benchmark.data.build\u001b[0m:\u001b[36mget_dataset_statistics\u001b[0m:\u001b[36m31\u001b[0m - \u001b[1mget dataset statistics...\u001b[0m\n",
      "\u001b[32m2024-09-06 18:57:31.230\u001b[0m | \u001b[1mINFO    \u001b[0m | \u001b[36msgg_benchmark.data.build\u001b[0m:\u001b[36mget_dataset_statistics\u001b[0m:\u001b[36m42\u001b[0m - \u001b[1mLoading data statistics from: C:\\Users\\Administrator\\Desktop\\RAG\\out\\VG150_train_statistics.cache\u001b[0m\n",
      "\u001b[32m2024-09-06 18:57:31.231\u001b[0m | \u001b[1mINFO    \u001b[0m | \u001b[36msgg_benchmark.data.build\u001b[0m:\u001b[36mget_dataset_statistics\u001b[0m:\u001b[36m43\u001b[0m - \u001b[1m----------------------------------------------------------------------------------------------------\u001b[0m\n"
     ]
    },
    {
     "name": "stdout",
     "output_type": "stream",
     "text": [
      "loading word vectors from .\\glove.6B.200d.pt\n",
      "loading word vectors from .\\glove.6B.200d.pt\n"
     ]
    },
    {
     "name": "stderr",
     "output_type": "stream",
     "text": [
      "\u001b[32m2024-09-06 18:57:34.438\u001b[0m | \u001b[1mINFO    \u001b[0m | \u001b[36msgg_benchmark.utils.checkpoint\u001b[0m:\u001b[36mload\u001b[0m:\u001b[36m65\u001b[0m - \u001b[1mLoading checkpoint from output_motifs/best_model_epoch_4.pth\u001b[0m\n",
      "\u001b[32m2024-09-06 18:57:37.851\u001b[0m | \u001b[1mINFO    \u001b[0m | \u001b[36msgg_benchmark.data.build\u001b[0m:\u001b[36mget_dataset_statistics\u001b[0m:\u001b[36m30\u001b[0m - \u001b[1m----------------------------------------------------------------------------------------------------\u001b[0m\n",
      "\u001b[32m2024-09-06 18:57:37.852\u001b[0m | \u001b[1mINFO    \u001b[0m | \u001b[36msgg_benchmark.data.build\u001b[0m:\u001b[36mget_dataset_statistics\u001b[0m:\u001b[36m31\u001b[0m - \u001b[1mget dataset statistics...\u001b[0m\n",
      "\u001b[32m2024-09-06 18:57:37.853\u001b[0m | \u001b[1mINFO    \u001b[0m | \u001b[36msgg_benchmark.data.build\u001b[0m:\u001b[36mget_dataset_statistics\u001b[0m:\u001b[36m42\u001b[0m - \u001b[1mLoading data statistics from: C:\\Users\\Administrator\\Desktop\\RAG\\out\\VG150_train_statistics.cache\u001b[0m\n",
      "\u001b[32m2024-09-06 18:57:37.853\u001b[0m | \u001b[1mINFO    \u001b[0m | \u001b[36msgg_benchmark.data.build\u001b[0m:\u001b[36mget_dataset_statistics\u001b[0m:\u001b[36m43\u001b[0m - \u001b[1m----------------------------------------------------------------------------------------------------\u001b[0m\n"
     ]
    },
    {
     "name": "stdout",
     "output_type": "stream",
     "text": [
      "loading word vectors from .\\glove.6B.200d.pt\n",
      "loading word vectors from .\\glove.6B.200d.pt\n"
     ]
    },
    {
     "name": "stderr",
     "output_type": "stream",
     "text": [
      "\u001b[32m2024-09-06 18:57:40.965\u001b[0m | \u001b[1mINFO    \u001b[0m | \u001b[36msgg_benchmark.utils.checkpoint\u001b[0m:\u001b[36mload\u001b[0m:\u001b[36m65\u001b[0m - \u001b[1mLoading checkpoint from output_motifs/best_model_epoch_4.pth\u001b[0m\n",
      "\u001b[32m2024-09-06 18:57:44.542\u001b[0m | \u001b[1mINFO    \u001b[0m | \u001b[36msgg_benchmark.data.build\u001b[0m:\u001b[36mget_dataset_statistics\u001b[0m:\u001b[36m30\u001b[0m - \u001b[1m----------------------------------------------------------------------------------------------------\u001b[0m\n",
      "\u001b[32m2024-09-06 18:57:44.542\u001b[0m | \u001b[1mINFO    \u001b[0m | \u001b[36msgg_benchmark.data.build\u001b[0m:\u001b[36mget_dataset_statistics\u001b[0m:\u001b[36m31\u001b[0m - \u001b[1mget dataset statistics...\u001b[0m\n",
      "\u001b[32m2024-09-06 18:57:44.543\u001b[0m | \u001b[1mINFO    \u001b[0m | \u001b[36msgg_benchmark.data.build\u001b[0m:\u001b[36mget_dataset_statistics\u001b[0m:\u001b[36m42\u001b[0m - \u001b[1mLoading data statistics from: C:\\Users\\Administrator\\Desktop\\RAG\\out\\VG150_train_statistics.cache\u001b[0m\n",
      "\u001b[32m2024-09-06 18:57:44.544\u001b[0m | \u001b[1mINFO    \u001b[0m | \u001b[36msgg_benchmark.data.build\u001b[0m:\u001b[36mget_dataset_statistics\u001b[0m:\u001b[36m43\u001b[0m - \u001b[1m----------------------------------------------------------------------------------------------------\u001b[0m\n"
     ]
    },
    {
     "name": "stdout",
     "output_type": "stream",
     "text": [
      "loading word vectors from .\\glove.6B.200d.pt\n",
      "loading word vectors from .\\glove.6B.200d.pt\n"
     ]
    },
    {
     "name": "stderr",
     "output_type": "stream",
     "text": [
      "\u001b[32m2024-09-06 18:57:47.557\u001b[0m | \u001b[1mINFO    \u001b[0m | \u001b[36msgg_benchmark.utils.checkpoint\u001b[0m:\u001b[36mload\u001b[0m:\u001b[36m65\u001b[0m - \u001b[1mLoading checkpoint from output_motifs/best_model_epoch_4.pth\u001b[0m\n",
      "\u001b[32m2024-09-06 18:57:51.369\u001b[0m | \u001b[1mINFO    \u001b[0m | \u001b[36msgg_benchmark.data.build\u001b[0m:\u001b[36mget_dataset_statistics\u001b[0m:\u001b[36m30\u001b[0m - \u001b[1m----------------------------------------------------------------------------------------------------\u001b[0m\n",
      "\u001b[32m2024-09-06 18:57:51.370\u001b[0m | \u001b[1mINFO    \u001b[0m | \u001b[36msgg_benchmark.data.build\u001b[0m:\u001b[36mget_dataset_statistics\u001b[0m:\u001b[36m31\u001b[0m - \u001b[1mget dataset statistics...\u001b[0m\n",
      "\u001b[32m2024-09-06 18:57:51.371\u001b[0m | \u001b[1mINFO    \u001b[0m | \u001b[36msgg_benchmark.data.build\u001b[0m:\u001b[36mget_dataset_statistics\u001b[0m:\u001b[36m42\u001b[0m - \u001b[1mLoading data statistics from: C:\\Users\\Administrator\\Desktop\\RAG\\out\\VG150_train_statistics.cache\u001b[0m\n",
      "\u001b[32m2024-09-06 18:57:51.371\u001b[0m | \u001b[1mINFO    \u001b[0m | \u001b[36msgg_benchmark.data.build\u001b[0m:\u001b[36mget_dataset_statistics\u001b[0m:\u001b[36m43\u001b[0m - \u001b[1m----------------------------------------------------------------------------------------------------\u001b[0m\n"
     ]
    },
    {
     "name": "stdout",
     "output_type": "stream",
     "text": [
      "loading word vectors from .\\glove.6B.200d.pt\n",
      "loading word vectors from .\\glove.6B.200d.pt\n"
     ]
    },
    {
     "name": "stderr",
     "output_type": "stream",
     "text": [
      "\u001b[32m2024-09-06 18:57:54.400\u001b[0m | \u001b[1mINFO    \u001b[0m | \u001b[36msgg_benchmark.utils.checkpoint\u001b[0m:\u001b[36mload\u001b[0m:\u001b[36m65\u001b[0m - \u001b[1mLoading checkpoint from output_motifs/best_model_epoch_4.pth\u001b[0m\n",
      "\u001b[32m2024-09-06 18:57:58.199\u001b[0m | \u001b[1mINFO    \u001b[0m | \u001b[36msgg_benchmark.data.build\u001b[0m:\u001b[36mget_dataset_statistics\u001b[0m:\u001b[36m30\u001b[0m - \u001b[1m----------------------------------------------------------------------------------------------------\u001b[0m\n",
      "\u001b[32m2024-09-06 18:57:58.199\u001b[0m | \u001b[1mINFO    \u001b[0m | \u001b[36msgg_benchmark.data.build\u001b[0m:\u001b[36mget_dataset_statistics\u001b[0m:\u001b[36m31\u001b[0m - \u001b[1mget dataset statistics...\u001b[0m\n",
      "\u001b[32m2024-09-06 18:57:58.201\u001b[0m | \u001b[1mINFO    \u001b[0m | \u001b[36msgg_benchmark.data.build\u001b[0m:\u001b[36mget_dataset_statistics\u001b[0m:\u001b[36m42\u001b[0m - \u001b[1mLoading data statistics from: C:\\Users\\Administrator\\Desktop\\RAG\\out\\VG150_train_statistics.cache\u001b[0m\n",
      "\u001b[32m2024-09-06 18:57:58.201\u001b[0m | \u001b[1mINFO    \u001b[0m | \u001b[36msgg_benchmark.data.build\u001b[0m:\u001b[36mget_dataset_statistics\u001b[0m:\u001b[36m43\u001b[0m - \u001b[1m----------------------------------------------------------------------------------------------------\u001b[0m\n"
     ]
    },
    {
     "name": "stdout",
     "output_type": "stream",
     "text": [
      "loading word vectors from .\\glove.6B.200d.pt\n",
      "loading word vectors from .\\glove.6B.200d.pt\n"
     ]
    },
    {
     "name": "stderr",
     "output_type": "stream",
     "text": [
      "\u001b[32m2024-09-06 18:58:01.187\u001b[0m | \u001b[1mINFO    \u001b[0m | \u001b[36msgg_benchmark.utils.checkpoint\u001b[0m:\u001b[36mload\u001b[0m:\u001b[36m65\u001b[0m - \u001b[1mLoading checkpoint from output_motifs/best_model_epoch_4.pth\u001b[0m\n",
      "\u001b[32m2024-09-06 18:58:04.681\u001b[0m | \u001b[1mINFO    \u001b[0m | \u001b[36msgg_benchmark.data.build\u001b[0m:\u001b[36mget_dataset_statistics\u001b[0m:\u001b[36m30\u001b[0m - \u001b[1m----------------------------------------------------------------------------------------------------\u001b[0m\n",
      "\u001b[32m2024-09-06 18:58:04.682\u001b[0m | \u001b[1mINFO    \u001b[0m | \u001b[36msgg_benchmark.data.build\u001b[0m:\u001b[36mget_dataset_statistics\u001b[0m:\u001b[36m31\u001b[0m - \u001b[1mget dataset statistics...\u001b[0m\n",
      "\u001b[32m2024-09-06 18:58:04.683\u001b[0m | \u001b[1mINFO    \u001b[0m | \u001b[36msgg_benchmark.data.build\u001b[0m:\u001b[36mget_dataset_statistics\u001b[0m:\u001b[36m42\u001b[0m - \u001b[1mLoading data statistics from: C:\\Users\\Administrator\\Desktop\\RAG\\out\\VG150_train_statistics.cache\u001b[0m\n",
      "\u001b[32m2024-09-06 18:58:04.683\u001b[0m | \u001b[1mINFO    \u001b[0m | \u001b[36msgg_benchmark.data.build\u001b[0m:\u001b[36mget_dataset_statistics\u001b[0m:\u001b[36m43\u001b[0m - \u001b[1m----------------------------------------------------------------------------------------------------\u001b[0m\n"
     ]
    },
    {
     "name": "stdout",
     "output_type": "stream",
     "text": [
      "loading word vectors from .\\glove.6B.200d.pt\n",
      "loading word vectors from .\\glove.6B.200d.pt\n"
     ]
    },
    {
     "name": "stderr",
     "output_type": "stream",
     "text": [
      "\u001b[32m2024-09-06 18:58:07.575\u001b[0m | \u001b[1mINFO    \u001b[0m | \u001b[36msgg_benchmark.utils.checkpoint\u001b[0m:\u001b[36mload\u001b[0m:\u001b[36m65\u001b[0m - \u001b[1mLoading checkpoint from output_motifs/best_model_epoch_4.pth\u001b[0m\n",
      "\u001b[32m2024-09-06 18:58:10.982\u001b[0m | \u001b[1mINFO    \u001b[0m | \u001b[36msgg_benchmark.data.build\u001b[0m:\u001b[36mget_dataset_statistics\u001b[0m:\u001b[36m30\u001b[0m - \u001b[1m----------------------------------------------------------------------------------------------------\u001b[0m\n",
      "\u001b[32m2024-09-06 18:58:10.983\u001b[0m | \u001b[1mINFO    \u001b[0m | \u001b[36msgg_benchmark.data.build\u001b[0m:\u001b[36mget_dataset_statistics\u001b[0m:\u001b[36m31\u001b[0m - \u001b[1mget dataset statistics...\u001b[0m\n",
      "\u001b[32m2024-09-06 18:58:10.984\u001b[0m | \u001b[1mINFO    \u001b[0m | \u001b[36msgg_benchmark.data.build\u001b[0m:\u001b[36mget_dataset_statistics\u001b[0m:\u001b[36m42\u001b[0m - \u001b[1mLoading data statistics from: C:\\Users\\Administrator\\Desktop\\RAG\\out\\VG150_train_statistics.cache\u001b[0m\n",
      "\u001b[32m2024-09-06 18:58:10.984\u001b[0m | \u001b[1mINFO    \u001b[0m | \u001b[36msgg_benchmark.data.build\u001b[0m:\u001b[36mget_dataset_statistics\u001b[0m:\u001b[36m43\u001b[0m - \u001b[1m----------------------------------------------------------------------------------------------------\u001b[0m\n"
     ]
    },
    {
     "name": "stdout",
     "output_type": "stream",
     "text": [
      "loading word vectors from .\\glove.6B.200d.pt\n",
      "loading word vectors from .\\glove.6B.200d.pt\n"
     ]
    },
    {
     "name": "stderr",
     "output_type": "stream",
     "text": [
      "\u001b[32m2024-09-06 18:58:13.855\u001b[0m | \u001b[1mINFO    \u001b[0m | \u001b[36msgg_benchmark.utils.checkpoint\u001b[0m:\u001b[36mload\u001b[0m:\u001b[36m65\u001b[0m - \u001b[1mLoading checkpoint from output_motifs/best_model_epoch_4.pth\u001b[0m\n",
      "\u001b[32m2024-09-06 18:58:17.587\u001b[0m | \u001b[1mINFO    \u001b[0m | \u001b[36msgg_benchmark.data.build\u001b[0m:\u001b[36mget_dataset_statistics\u001b[0m:\u001b[36m30\u001b[0m - \u001b[1m----------------------------------------------------------------------------------------------------\u001b[0m\n",
      "\u001b[32m2024-09-06 18:58:17.588\u001b[0m | \u001b[1mINFO    \u001b[0m | \u001b[36msgg_benchmark.data.build\u001b[0m:\u001b[36mget_dataset_statistics\u001b[0m:\u001b[36m31\u001b[0m - \u001b[1mget dataset statistics...\u001b[0m\n",
      "\u001b[32m2024-09-06 18:58:17.589\u001b[0m | \u001b[1mINFO    \u001b[0m | \u001b[36msgg_benchmark.data.build\u001b[0m:\u001b[36mget_dataset_statistics\u001b[0m:\u001b[36m42\u001b[0m - \u001b[1mLoading data statistics from: C:\\Users\\Administrator\\Desktop\\RAG\\out\\VG150_train_statistics.cache\u001b[0m\n",
      "\u001b[32m2024-09-06 18:58:17.589\u001b[0m | \u001b[1mINFO    \u001b[0m | \u001b[36msgg_benchmark.data.build\u001b[0m:\u001b[36mget_dataset_statistics\u001b[0m:\u001b[36m43\u001b[0m - \u001b[1m----------------------------------------------------------------------------------------------------\u001b[0m\n"
     ]
    },
    {
     "name": "stdout",
     "output_type": "stream",
     "text": [
      "loading word vectors from .\\glove.6B.200d.pt\n",
      "loading word vectors from .\\glove.6B.200d.pt\n"
     ]
    },
    {
     "name": "stderr",
     "output_type": "stream",
     "text": [
      "\u001b[32m2024-09-06 18:58:20.475\u001b[0m | \u001b[1mINFO    \u001b[0m | \u001b[36msgg_benchmark.utils.checkpoint\u001b[0m:\u001b[36mload\u001b[0m:\u001b[36m65\u001b[0m - \u001b[1mLoading checkpoint from output_motifs/best_model_epoch_4.pth\u001b[0m\n",
      "\u001b[32m2024-09-06 18:58:24.131\u001b[0m | \u001b[1mINFO    \u001b[0m | \u001b[36msgg_benchmark.data.build\u001b[0m:\u001b[36mget_dataset_statistics\u001b[0m:\u001b[36m30\u001b[0m - \u001b[1m----------------------------------------------------------------------------------------------------\u001b[0m\n",
      "\u001b[32m2024-09-06 18:58:24.131\u001b[0m | \u001b[1mINFO    \u001b[0m | \u001b[36msgg_benchmark.data.build\u001b[0m:\u001b[36mget_dataset_statistics\u001b[0m:\u001b[36m31\u001b[0m - \u001b[1mget dataset statistics...\u001b[0m\n",
      "\u001b[32m2024-09-06 18:58:24.133\u001b[0m | \u001b[1mINFO    \u001b[0m | \u001b[36msgg_benchmark.data.build\u001b[0m:\u001b[36mget_dataset_statistics\u001b[0m:\u001b[36m42\u001b[0m - \u001b[1mLoading data statistics from: C:\\Users\\Administrator\\Desktop\\RAG\\out\\VG150_train_statistics.cache\u001b[0m\n",
      "\u001b[32m2024-09-06 18:58:24.133\u001b[0m | \u001b[1mINFO    \u001b[0m | \u001b[36msgg_benchmark.data.build\u001b[0m:\u001b[36mget_dataset_statistics\u001b[0m:\u001b[36m43\u001b[0m - \u001b[1m----------------------------------------------------------------------------------------------------\u001b[0m\n"
     ]
    },
    {
     "name": "stdout",
     "output_type": "stream",
     "text": [
      "loading word vectors from .\\glove.6B.200d.pt\n",
      "loading word vectors from .\\glove.6B.200d.pt\n"
     ]
    },
    {
     "name": "stderr",
     "output_type": "stream",
     "text": [
      "\u001b[32m2024-09-06 18:58:26.982\u001b[0m | \u001b[1mINFO    \u001b[0m | \u001b[36msgg_benchmark.utils.checkpoint\u001b[0m:\u001b[36mload\u001b[0m:\u001b[36m65\u001b[0m - \u001b[1mLoading checkpoint from output_motifs/best_model_epoch_4.pth\u001b[0m\n",
      "\u001b[32m2024-09-06 18:58:30.360\u001b[0m | \u001b[1mINFO    \u001b[0m | \u001b[36msgg_benchmark.data.build\u001b[0m:\u001b[36mget_dataset_statistics\u001b[0m:\u001b[36m30\u001b[0m - \u001b[1m----------------------------------------------------------------------------------------------------\u001b[0m\n",
      "\u001b[32m2024-09-06 18:58:30.361\u001b[0m | \u001b[1mINFO    \u001b[0m | \u001b[36msgg_benchmark.data.build\u001b[0m:\u001b[36mget_dataset_statistics\u001b[0m:\u001b[36m31\u001b[0m - \u001b[1mget dataset statistics...\u001b[0m\n",
      "\u001b[32m2024-09-06 18:58:30.362\u001b[0m | \u001b[1mINFO    \u001b[0m | \u001b[36msgg_benchmark.data.build\u001b[0m:\u001b[36mget_dataset_statistics\u001b[0m:\u001b[36m42\u001b[0m - \u001b[1mLoading data statistics from: C:\\Users\\Administrator\\Desktop\\RAG\\out\\VG150_train_statistics.cache\u001b[0m\n",
      "\u001b[32m2024-09-06 18:58:30.362\u001b[0m | \u001b[1mINFO    \u001b[0m | \u001b[36msgg_benchmark.data.build\u001b[0m:\u001b[36mget_dataset_statistics\u001b[0m:\u001b[36m43\u001b[0m - \u001b[1m----------------------------------------------------------------------------------------------------\u001b[0m\n"
     ]
    },
    {
     "name": "stdout",
     "output_type": "stream",
     "text": [
      "loading word vectors from .\\glove.6B.200d.pt\n",
      "loading word vectors from .\\glove.6B.200d.pt\n"
     ]
    },
    {
     "name": "stderr",
     "output_type": "stream",
     "text": [
      "\u001b[32m2024-09-06 18:58:33.184\u001b[0m | \u001b[1mINFO    \u001b[0m | \u001b[36msgg_benchmark.utils.checkpoint\u001b[0m:\u001b[36mload\u001b[0m:\u001b[36m65\u001b[0m - \u001b[1mLoading checkpoint from output_motifs/best_model_epoch_4.pth\u001b[0m\n",
      "\u001b[32m2024-09-06 18:58:36.609\u001b[0m | \u001b[1mINFO    \u001b[0m | \u001b[36msgg_benchmark.data.build\u001b[0m:\u001b[36mget_dataset_statistics\u001b[0m:\u001b[36m30\u001b[0m - \u001b[1m----------------------------------------------------------------------------------------------------\u001b[0m\n",
      "\u001b[32m2024-09-06 18:58:36.609\u001b[0m | \u001b[1mINFO    \u001b[0m | \u001b[36msgg_benchmark.data.build\u001b[0m:\u001b[36mget_dataset_statistics\u001b[0m:\u001b[36m31\u001b[0m - \u001b[1mget dataset statistics...\u001b[0m\n",
      "\u001b[32m2024-09-06 18:58:36.611\u001b[0m | \u001b[1mINFO    \u001b[0m | \u001b[36msgg_benchmark.data.build\u001b[0m:\u001b[36mget_dataset_statistics\u001b[0m:\u001b[36m42\u001b[0m - \u001b[1mLoading data statistics from: C:\\Users\\Administrator\\Desktop\\RAG\\out\\VG150_train_statistics.cache\u001b[0m\n",
      "\u001b[32m2024-09-06 18:58:36.611\u001b[0m | \u001b[1mINFO    \u001b[0m | \u001b[36msgg_benchmark.data.build\u001b[0m:\u001b[36mget_dataset_statistics\u001b[0m:\u001b[36m43\u001b[0m - \u001b[1m----------------------------------------------------------------------------------------------------\u001b[0m\n"
     ]
    },
    {
     "name": "stdout",
     "output_type": "stream",
     "text": [
      "loading word vectors from .\\glove.6B.200d.pt\n",
      "loading word vectors from .\\glove.6B.200d.pt\n"
     ]
    },
    {
     "name": "stderr",
     "output_type": "stream",
     "text": [
      "\u001b[32m2024-09-06 18:58:39.514\u001b[0m | \u001b[1mINFO    \u001b[0m | \u001b[36msgg_benchmark.utils.checkpoint\u001b[0m:\u001b[36mload\u001b[0m:\u001b[36m65\u001b[0m - \u001b[1mLoading checkpoint from output_motifs/best_model_epoch_4.pth\u001b[0m\n",
      "\u001b[32m2024-09-06 18:58:43.086\u001b[0m | \u001b[1mINFO    \u001b[0m | \u001b[36msgg_benchmark.data.build\u001b[0m:\u001b[36mget_dataset_statistics\u001b[0m:\u001b[36m30\u001b[0m - \u001b[1m----------------------------------------------------------------------------------------------------\u001b[0m\n",
      "\u001b[32m2024-09-06 18:58:43.086\u001b[0m | \u001b[1mINFO    \u001b[0m | \u001b[36msgg_benchmark.data.build\u001b[0m:\u001b[36mget_dataset_statistics\u001b[0m:\u001b[36m31\u001b[0m - \u001b[1mget dataset statistics...\u001b[0m\n",
      "\u001b[32m2024-09-06 18:58:43.087\u001b[0m | \u001b[1mINFO    \u001b[0m | \u001b[36msgg_benchmark.data.build\u001b[0m:\u001b[36mget_dataset_statistics\u001b[0m:\u001b[36m42\u001b[0m - \u001b[1mLoading data statistics from: C:\\Users\\Administrator\\Desktop\\RAG\\out\\VG150_train_statistics.cache\u001b[0m\n",
      "\u001b[32m2024-09-06 18:58:43.088\u001b[0m | \u001b[1mINFO    \u001b[0m | \u001b[36msgg_benchmark.data.build\u001b[0m:\u001b[36mget_dataset_statistics\u001b[0m:\u001b[36m43\u001b[0m - \u001b[1m----------------------------------------------------------------------------------------------------\u001b[0m\n"
     ]
    },
    {
     "name": "stdout",
     "output_type": "stream",
     "text": [
      "loading word vectors from .\\glove.6B.200d.pt\n",
      "loading word vectors from .\\glove.6B.200d.pt\n"
     ]
    },
    {
     "name": "stderr",
     "output_type": "stream",
     "text": [
      "\u001b[32m2024-09-06 18:58:45.981\u001b[0m | \u001b[1mINFO    \u001b[0m | \u001b[36msgg_benchmark.utils.checkpoint\u001b[0m:\u001b[36mload\u001b[0m:\u001b[36m65\u001b[0m - \u001b[1mLoading checkpoint from output_motifs/best_model_epoch_4.pth\u001b[0m\n",
      "\u001b[32m2024-09-06 18:58:49.574\u001b[0m | \u001b[1mINFO    \u001b[0m | \u001b[36msgg_benchmark.data.build\u001b[0m:\u001b[36mget_dataset_statistics\u001b[0m:\u001b[36m30\u001b[0m - \u001b[1m----------------------------------------------------------------------------------------------------\u001b[0m\n",
      "\u001b[32m2024-09-06 18:58:49.575\u001b[0m | \u001b[1mINFO    \u001b[0m | \u001b[36msgg_benchmark.data.build\u001b[0m:\u001b[36mget_dataset_statistics\u001b[0m:\u001b[36m31\u001b[0m - \u001b[1mget dataset statistics...\u001b[0m\n",
      "\u001b[32m2024-09-06 18:58:49.576\u001b[0m | \u001b[1mINFO    \u001b[0m | \u001b[36msgg_benchmark.data.build\u001b[0m:\u001b[36mget_dataset_statistics\u001b[0m:\u001b[36m42\u001b[0m - \u001b[1mLoading data statistics from: C:\\Users\\Administrator\\Desktop\\RAG\\out\\VG150_train_statistics.cache\u001b[0m\n",
      "\u001b[32m2024-09-06 18:58:49.577\u001b[0m | \u001b[1mINFO    \u001b[0m | \u001b[36msgg_benchmark.data.build\u001b[0m:\u001b[36mget_dataset_statistics\u001b[0m:\u001b[36m43\u001b[0m - \u001b[1m----------------------------------------------------------------------------------------------------\u001b[0m\n"
     ]
    },
    {
     "name": "stdout",
     "output_type": "stream",
     "text": [
      "loading word vectors from .\\glove.6B.200d.pt\n",
      "loading word vectors from .\\glove.6B.200d.pt\n"
     ]
    },
    {
     "name": "stderr",
     "output_type": "stream",
     "text": [
      "\u001b[32m2024-09-06 18:58:52.391\u001b[0m | \u001b[1mINFO    \u001b[0m | \u001b[36msgg_benchmark.utils.checkpoint\u001b[0m:\u001b[36mload\u001b[0m:\u001b[36m65\u001b[0m - \u001b[1mLoading checkpoint from output_motifs/best_model_epoch_4.pth\u001b[0m\n",
      "\u001b[32m2024-09-06 18:58:55.760\u001b[0m | \u001b[1mINFO    \u001b[0m | \u001b[36msgg_benchmark.data.build\u001b[0m:\u001b[36mget_dataset_statistics\u001b[0m:\u001b[36m30\u001b[0m - \u001b[1m----------------------------------------------------------------------------------------------------\u001b[0m\n",
      "\u001b[32m2024-09-06 18:58:55.761\u001b[0m | \u001b[1mINFO    \u001b[0m | \u001b[36msgg_benchmark.data.build\u001b[0m:\u001b[36mget_dataset_statistics\u001b[0m:\u001b[36m31\u001b[0m - \u001b[1mget dataset statistics...\u001b[0m\n",
      "\u001b[32m2024-09-06 18:58:55.762\u001b[0m | \u001b[1mINFO    \u001b[0m | \u001b[36msgg_benchmark.data.build\u001b[0m:\u001b[36mget_dataset_statistics\u001b[0m:\u001b[36m42\u001b[0m - \u001b[1mLoading data statistics from: C:\\Users\\Administrator\\Desktop\\RAG\\out\\VG150_train_statistics.cache\u001b[0m\n",
      "\u001b[32m2024-09-06 18:58:55.762\u001b[0m | \u001b[1mINFO    \u001b[0m | \u001b[36msgg_benchmark.data.build\u001b[0m:\u001b[36mget_dataset_statistics\u001b[0m:\u001b[36m43\u001b[0m - \u001b[1m----------------------------------------------------------------------------------------------------\u001b[0m\n"
     ]
    },
    {
     "name": "stdout",
     "output_type": "stream",
     "text": [
      "loading word vectors from .\\glove.6B.200d.pt\n",
      "loading word vectors from .\\glove.6B.200d.pt\n"
     ]
    },
    {
     "name": "stderr",
     "output_type": "stream",
     "text": [
      "\u001b[32m2024-09-06 18:58:58.649\u001b[0m | \u001b[1mINFO    \u001b[0m | \u001b[36msgg_benchmark.utils.checkpoint\u001b[0m:\u001b[36mload\u001b[0m:\u001b[36m65\u001b[0m - \u001b[1mLoading checkpoint from output_motifs/best_model_epoch_4.pth\u001b[0m\n",
      "\u001b[32m2024-09-06 18:59:02.192\u001b[0m | \u001b[1mINFO    \u001b[0m | \u001b[36msgg_benchmark.data.build\u001b[0m:\u001b[36mget_dataset_statistics\u001b[0m:\u001b[36m30\u001b[0m - \u001b[1m----------------------------------------------------------------------------------------------------\u001b[0m\n",
      "\u001b[32m2024-09-06 18:59:02.192\u001b[0m | \u001b[1mINFO    \u001b[0m | \u001b[36msgg_benchmark.data.build\u001b[0m:\u001b[36mget_dataset_statistics\u001b[0m:\u001b[36m31\u001b[0m - \u001b[1mget dataset statistics...\u001b[0m\n",
      "\u001b[32m2024-09-06 18:59:02.194\u001b[0m | \u001b[1mINFO    \u001b[0m | \u001b[36msgg_benchmark.data.build\u001b[0m:\u001b[36mget_dataset_statistics\u001b[0m:\u001b[36m42\u001b[0m - \u001b[1mLoading data statistics from: C:\\Users\\Administrator\\Desktop\\RAG\\out\\VG150_train_statistics.cache\u001b[0m\n",
      "\u001b[32m2024-09-06 18:59:02.194\u001b[0m | \u001b[1mINFO    \u001b[0m | \u001b[36msgg_benchmark.data.build\u001b[0m:\u001b[36mget_dataset_statistics\u001b[0m:\u001b[36m43\u001b[0m - \u001b[1m----------------------------------------------------------------------------------------------------\u001b[0m\n"
     ]
    },
    {
     "name": "stdout",
     "output_type": "stream",
     "text": [
      "loading word vectors from .\\glove.6B.200d.pt\n",
      "loading word vectors from .\\glove.6B.200d.pt\n"
     ]
    },
    {
     "name": "stderr",
     "output_type": "stream",
     "text": [
      "\u001b[32m2024-09-06 18:59:05.065\u001b[0m | \u001b[1mINFO    \u001b[0m | \u001b[36msgg_benchmark.utils.checkpoint\u001b[0m:\u001b[36mload\u001b[0m:\u001b[36m65\u001b[0m - \u001b[1mLoading checkpoint from output_motifs/best_model_epoch_4.pth\u001b[0m\n",
      "\u001b[32m2024-09-06 18:59:08.635\u001b[0m | \u001b[1mINFO    \u001b[0m | \u001b[36msgg_benchmark.data.build\u001b[0m:\u001b[36mget_dataset_statistics\u001b[0m:\u001b[36m30\u001b[0m - \u001b[1m----------------------------------------------------------------------------------------------------\u001b[0m\n",
      "\u001b[32m2024-09-06 18:59:08.635\u001b[0m | \u001b[1mINFO    \u001b[0m | \u001b[36msgg_benchmark.data.build\u001b[0m:\u001b[36mget_dataset_statistics\u001b[0m:\u001b[36m31\u001b[0m - \u001b[1mget dataset statistics...\u001b[0m\n",
      "\u001b[32m2024-09-06 18:59:08.636\u001b[0m | \u001b[1mINFO    \u001b[0m | \u001b[36msgg_benchmark.data.build\u001b[0m:\u001b[36mget_dataset_statistics\u001b[0m:\u001b[36m42\u001b[0m - \u001b[1mLoading data statistics from: C:\\Users\\Administrator\\Desktop\\RAG\\out\\VG150_train_statistics.cache\u001b[0m\n",
      "\u001b[32m2024-09-06 18:59:08.637\u001b[0m | \u001b[1mINFO    \u001b[0m | \u001b[36msgg_benchmark.data.build\u001b[0m:\u001b[36mget_dataset_statistics\u001b[0m:\u001b[36m43\u001b[0m - \u001b[1m----------------------------------------------------------------------------------------------------\u001b[0m\n"
     ]
    },
    {
     "name": "stdout",
     "output_type": "stream",
     "text": [
      "loading word vectors from .\\glove.6B.200d.pt\n",
      "loading word vectors from .\\glove.6B.200d.pt\n"
     ]
    },
    {
     "name": "stderr",
     "output_type": "stream",
     "text": [
      "\u001b[32m2024-09-06 18:59:11.508\u001b[0m | \u001b[1mINFO    \u001b[0m | \u001b[36msgg_benchmark.utils.checkpoint\u001b[0m:\u001b[36mload\u001b[0m:\u001b[36m65\u001b[0m - \u001b[1mLoading checkpoint from output_motifs/best_model_epoch_4.pth\u001b[0m\n",
      "\u001b[32m2024-09-06 18:59:15.153\u001b[0m | \u001b[1mINFO    \u001b[0m | \u001b[36msgg_benchmark.data.build\u001b[0m:\u001b[36mget_dataset_statistics\u001b[0m:\u001b[36m30\u001b[0m - \u001b[1m----------------------------------------------------------------------------------------------------\u001b[0m\n",
      "\u001b[32m2024-09-06 18:59:15.154\u001b[0m | \u001b[1mINFO    \u001b[0m | \u001b[36msgg_benchmark.data.build\u001b[0m:\u001b[36mget_dataset_statistics\u001b[0m:\u001b[36m31\u001b[0m - \u001b[1mget dataset statistics...\u001b[0m\n",
      "\u001b[32m2024-09-06 18:59:15.155\u001b[0m | \u001b[1mINFO    \u001b[0m | \u001b[36msgg_benchmark.data.build\u001b[0m:\u001b[36mget_dataset_statistics\u001b[0m:\u001b[36m42\u001b[0m - \u001b[1mLoading data statistics from: C:\\Users\\Administrator\\Desktop\\RAG\\out\\VG150_train_statistics.cache\u001b[0m\n",
      "\u001b[32m2024-09-06 18:59:15.155\u001b[0m | \u001b[1mINFO    \u001b[0m | \u001b[36msgg_benchmark.data.build\u001b[0m:\u001b[36mget_dataset_statistics\u001b[0m:\u001b[36m43\u001b[0m - \u001b[1m----------------------------------------------------------------------------------------------------\u001b[0m\n"
     ]
    },
    {
     "name": "stdout",
     "output_type": "stream",
     "text": [
      "loading word vectors from .\\glove.6B.200d.pt\n",
      "loading word vectors from .\\glove.6B.200d.pt\n"
     ]
    },
    {
     "name": "stderr",
     "output_type": "stream",
     "text": [
      "\u001b[32m2024-09-06 18:59:17.978\u001b[0m | \u001b[1mINFO    \u001b[0m | \u001b[36msgg_benchmark.utils.checkpoint\u001b[0m:\u001b[36mload\u001b[0m:\u001b[36m65\u001b[0m - \u001b[1mLoading checkpoint from output_motifs/best_model_epoch_4.pth\u001b[0m\n",
      "\u001b[32m2024-09-06 18:59:21.365\u001b[0m | \u001b[1mINFO    \u001b[0m | \u001b[36msgg_benchmark.data.build\u001b[0m:\u001b[36mget_dataset_statistics\u001b[0m:\u001b[36m30\u001b[0m - \u001b[1m----------------------------------------------------------------------------------------------------\u001b[0m\n",
      "\u001b[32m2024-09-06 18:59:21.365\u001b[0m | \u001b[1mINFO    \u001b[0m | \u001b[36msgg_benchmark.data.build\u001b[0m:\u001b[36mget_dataset_statistics\u001b[0m:\u001b[36m31\u001b[0m - \u001b[1mget dataset statistics...\u001b[0m\n",
      "\u001b[32m2024-09-06 18:59:21.366\u001b[0m | \u001b[1mINFO    \u001b[0m | \u001b[36msgg_benchmark.data.build\u001b[0m:\u001b[36mget_dataset_statistics\u001b[0m:\u001b[36m42\u001b[0m - \u001b[1mLoading data statistics from: C:\\Users\\Administrator\\Desktop\\RAG\\out\\VG150_train_statistics.cache\u001b[0m\n",
      "\u001b[32m2024-09-06 18:59:21.367\u001b[0m | \u001b[1mINFO    \u001b[0m | \u001b[36msgg_benchmark.data.build\u001b[0m:\u001b[36mget_dataset_statistics\u001b[0m:\u001b[36m43\u001b[0m - \u001b[1m----------------------------------------------------------------------------------------------------\u001b[0m\n"
     ]
    },
    {
     "name": "stdout",
     "output_type": "stream",
     "text": [
      "loading word vectors from .\\glove.6B.200d.pt\n",
      "loading word vectors from .\\glove.6B.200d.pt\n"
     ]
    },
    {
     "name": "stderr",
     "output_type": "stream",
     "text": [
      "\u001b[32m2024-09-06 18:59:24.310\u001b[0m | \u001b[1mINFO    \u001b[0m | \u001b[36msgg_benchmark.utils.checkpoint\u001b[0m:\u001b[36mload\u001b[0m:\u001b[36m65\u001b[0m - \u001b[1mLoading checkpoint from output_motifs/best_model_epoch_4.pth\u001b[0m\n",
      "\u001b[32m2024-09-06 18:59:27.880\u001b[0m | \u001b[1mINFO    \u001b[0m | \u001b[36msgg_benchmark.data.build\u001b[0m:\u001b[36mget_dataset_statistics\u001b[0m:\u001b[36m30\u001b[0m - \u001b[1m----------------------------------------------------------------------------------------------------\u001b[0m\n",
      "\u001b[32m2024-09-06 18:59:27.880\u001b[0m | \u001b[1mINFO    \u001b[0m | \u001b[36msgg_benchmark.data.build\u001b[0m:\u001b[36mget_dataset_statistics\u001b[0m:\u001b[36m31\u001b[0m - \u001b[1mget dataset statistics...\u001b[0m\n",
      "\u001b[32m2024-09-06 18:59:27.882\u001b[0m | \u001b[1mINFO    \u001b[0m | \u001b[36msgg_benchmark.data.build\u001b[0m:\u001b[36mget_dataset_statistics\u001b[0m:\u001b[36m42\u001b[0m - \u001b[1mLoading data statistics from: C:\\Users\\Administrator\\Desktop\\RAG\\out\\VG150_train_statistics.cache\u001b[0m\n",
      "\u001b[32m2024-09-06 18:59:27.882\u001b[0m | \u001b[1mINFO    \u001b[0m | \u001b[36msgg_benchmark.data.build\u001b[0m:\u001b[36mget_dataset_statistics\u001b[0m:\u001b[36m43\u001b[0m - \u001b[1m----------------------------------------------------------------------------------------------------\u001b[0m\n"
     ]
    },
    {
     "name": "stdout",
     "output_type": "stream",
     "text": [
      "loading word vectors from .\\glove.6B.200d.pt\n",
      "loading word vectors from .\\glove.6B.200d.pt\n"
     ]
    },
    {
     "name": "stderr",
     "output_type": "stream",
     "text": [
      "\u001b[32m2024-09-06 18:59:30.760\u001b[0m | \u001b[1mINFO    \u001b[0m | \u001b[36msgg_benchmark.utils.checkpoint\u001b[0m:\u001b[36mload\u001b[0m:\u001b[36m65\u001b[0m - \u001b[1mLoading checkpoint from output_motifs/best_model_epoch_4.pth\u001b[0m\n",
      "\u001b[32m2024-09-06 18:59:34.127\u001b[0m | \u001b[1mINFO    \u001b[0m | \u001b[36msgg_benchmark.data.build\u001b[0m:\u001b[36mget_dataset_statistics\u001b[0m:\u001b[36m30\u001b[0m - \u001b[1m----------------------------------------------------------------------------------------------------\u001b[0m\n",
      "\u001b[32m2024-09-06 18:59:34.127\u001b[0m | \u001b[1mINFO    \u001b[0m | \u001b[36msgg_benchmark.data.build\u001b[0m:\u001b[36mget_dataset_statistics\u001b[0m:\u001b[36m31\u001b[0m - \u001b[1mget dataset statistics...\u001b[0m\n",
      "\u001b[32m2024-09-06 18:59:34.129\u001b[0m | \u001b[1mINFO    \u001b[0m | \u001b[36msgg_benchmark.data.build\u001b[0m:\u001b[36mget_dataset_statistics\u001b[0m:\u001b[36m42\u001b[0m - \u001b[1mLoading data statistics from: C:\\Users\\Administrator\\Desktop\\RAG\\out\\VG150_train_statistics.cache\u001b[0m\n",
      "\u001b[32m2024-09-06 18:59:34.129\u001b[0m | \u001b[1mINFO    \u001b[0m | \u001b[36msgg_benchmark.data.build\u001b[0m:\u001b[36mget_dataset_statistics\u001b[0m:\u001b[36m43\u001b[0m - \u001b[1m----------------------------------------------------------------------------------------------------\u001b[0m\n"
     ]
    },
    {
     "name": "stdout",
     "output_type": "stream",
     "text": [
      "loading word vectors from .\\glove.6B.200d.pt\n",
      "loading word vectors from .\\glove.6B.200d.pt\n"
     ]
    },
    {
     "name": "stderr",
     "output_type": "stream",
     "text": [
      "\u001b[32m2024-09-06 18:59:37.064\u001b[0m | \u001b[1mINFO    \u001b[0m | \u001b[36msgg_benchmark.utils.checkpoint\u001b[0m:\u001b[36mload\u001b[0m:\u001b[36m65\u001b[0m - \u001b[1mLoading checkpoint from output_motifs/best_model_epoch_4.pth\u001b[0m\n",
      "\u001b[32m2024-09-06 18:59:40.522\u001b[0m | \u001b[1mINFO    \u001b[0m | \u001b[36msgg_benchmark.data.build\u001b[0m:\u001b[36mget_dataset_statistics\u001b[0m:\u001b[36m30\u001b[0m - \u001b[1m----------------------------------------------------------------------------------------------------\u001b[0m\n",
      "\u001b[32m2024-09-06 18:59:40.523\u001b[0m | \u001b[1mINFO    \u001b[0m | \u001b[36msgg_benchmark.data.build\u001b[0m:\u001b[36mget_dataset_statistics\u001b[0m:\u001b[36m31\u001b[0m - \u001b[1mget dataset statistics...\u001b[0m\n",
      "\u001b[32m2024-09-06 18:59:40.524\u001b[0m | \u001b[1mINFO    \u001b[0m | \u001b[36msgg_benchmark.data.build\u001b[0m:\u001b[36mget_dataset_statistics\u001b[0m:\u001b[36m42\u001b[0m - \u001b[1mLoading data statistics from: C:\\Users\\Administrator\\Desktop\\RAG\\out\\VG150_train_statistics.cache\u001b[0m\n",
      "\u001b[32m2024-09-06 18:59:40.525\u001b[0m | \u001b[1mINFO    \u001b[0m | \u001b[36msgg_benchmark.data.build\u001b[0m:\u001b[36mget_dataset_statistics\u001b[0m:\u001b[36m43\u001b[0m - \u001b[1m----------------------------------------------------------------------------------------------------\u001b[0m\n"
     ]
    },
    {
     "name": "stdout",
     "output_type": "stream",
     "text": [
      "loading word vectors from .\\glove.6B.200d.pt\n",
      "loading word vectors from .\\glove.6B.200d.pt\n"
     ]
    },
    {
     "name": "stderr",
     "output_type": "stream",
     "text": [
      "\u001b[32m2024-09-06 18:59:43.409\u001b[0m | \u001b[1mINFO    \u001b[0m | \u001b[36msgg_benchmark.utils.checkpoint\u001b[0m:\u001b[36mload\u001b[0m:\u001b[36m65\u001b[0m - \u001b[1mLoading checkpoint from output_motifs/best_model_epoch_4.pth\u001b[0m\n",
      "\u001b[32m2024-09-06 18:59:47.083\u001b[0m | \u001b[1mINFO    \u001b[0m | \u001b[36msgg_benchmark.data.build\u001b[0m:\u001b[36mget_dataset_statistics\u001b[0m:\u001b[36m30\u001b[0m - \u001b[1m----------------------------------------------------------------------------------------------------\u001b[0m\n",
      "\u001b[32m2024-09-06 18:59:47.084\u001b[0m | \u001b[1mINFO    \u001b[0m | \u001b[36msgg_benchmark.data.build\u001b[0m:\u001b[36mget_dataset_statistics\u001b[0m:\u001b[36m31\u001b[0m - \u001b[1mget dataset statistics...\u001b[0m\n",
      "\u001b[32m2024-09-06 18:59:47.085\u001b[0m | \u001b[1mINFO    \u001b[0m | \u001b[36msgg_benchmark.data.build\u001b[0m:\u001b[36mget_dataset_statistics\u001b[0m:\u001b[36m42\u001b[0m - \u001b[1mLoading data statistics from: C:\\Users\\Administrator\\Desktop\\RAG\\out\\VG150_train_statistics.cache\u001b[0m\n",
      "\u001b[32m2024-09-06 18:59:47.085\u001b[0m | \u001b[1mINFO    \u001b[0m | \u001b[36msgg_benchmark.data.build\u001b[0m:\u001b[36mget_dataset_statistics\u001b[0m:\u001b[36m43\u001b[0m - \u001b[1m----------------------------------------------------------------------------------------------------\u001b[0m\n"
     ]
    },
    {
     "name": "stdout",
     "output_type": "stream",
     "text": [
      "loading word vectors from .\\glove.6B.200d.pt\n",
      "loading word vectors from .\\glove.6B.200d.pt\n"
     ]
    },
    {
     "name": "stderr",
     "output_type": "stream",
     "text": [
      "\u001b[32m2024-09-06 18:59:49.944\u001b[0m | \u001b[1mINFO    \u001b[0m | \u001b[36msgg_benchmark.utils.checkpoint\u001b[0m:\u001b[36mload\u001b[0m:\u001b[36m65\u001b[0m - \u001b[1mLoading checkpoint from output_motifs/best_model_epoch_4.pth\u001b[0m\n",
      "\u001b[32m2024-09-06 18:59:53.358\u001b[0m | \u001b[1mINFO    \u001b[0m | \u001b[36msgg_benchmark.data.build\u001b[0m:\u001b[36mget_dataset_statistics\u001b[0m:\u001b[36m30\u001b[0m - \u001b[1m----------------------------------------------------------------------------------------------------\u001b[0m\n",
      "\u001b[32m2024-09-06 18:59:53.359\u001b[0m | \u001b[1mINFO    \u001b[0m | \u001b[36msgg_benchmark.data.build\u001b[0m:\u001b[36mget_dataset_statistics\u001b[0m:\u001b[36m31\u001b[0m - \u001b[1mget dataset statistics...\u001b[0m\n",
      "\u001b[32m2024-09-06 18:59:53.360\u001b[0m | \u001b[1mINFO    \u001b[0m | \u001b[36msgg_benchmark.data.build\u001b[0m:\u001b[36mget_dataset_statistics\u001b[0m:\u001b[36m42\u001b[0m - \u001b[1mLoading data statistics from: C:\\Users\\Administrator\\Desktop\\RAG\\out\\VG150_train_statistics.cache\u001b[0m\n",
      "\u001b[32m2024-09-06 18:59:53.360\u001b[0m | \u001b[1mINFO    \u001b[0m | \u001b[36msgg_benchmark.data.build\u001b[0m:\u001b[36mget_dataset_statistics\u001b[0m:\u001b[36m43\u001b[0m - \u001b[1m----------------------------------------------------------------------------------------------------\u001b[0m\n"
     ]
    },
    {
     "name": "stdout",
     "output_type": "stream",
     "text": [
      "loading word vectors from .\\glove.6B.200d.pt\n",
      "loading word vectors from .\\glove.6B.200d.pt\n"
     ]
    },
    {
     "name": "stderr",
     "output_type": "stream",
     "text": [
      "\u001b[32m2024-09-06 18:59:56.163\u001b[0m | \u001b[1mINFO    \u001b[0m | \u001b[36msgg_benchmark.utils.checkpoint\u001b[0m:\u001b[36mload\u001b[0m:\u001b[36m65\u001b[0m - \u001b[1mLoading checkpoint from output_motifs/best_model_epoch_4.pth\u001b[0m\n",
      "\u001b[32m2024-09-06 18:59:59.557\u001b[0m | \u001b[1mINFO    \u001b[0m | \u001b[36msgg_benchmark.data.build\u001b[0m:\u001b[36mget_dataset_statistics\u001b[0m:\u001b[36m30\u001b[0m - \u001b[1m----------------------------------------------------------------------------------------------------\u001b[0m\n",
      "\u001b[32m2024-09-06 18:59:59.558\u001b[0m | \u001b[1mINFO    \u001b[0m | \u001b[36msgg_benchmark.data.build\u001b[0m:\u001b[36mget_dataset_statistics\u001b[0m:\u001b[36m31\u001b[0m - \u001b[1mget dataset statistics...\u001b[0m\n",
      "\u001b[32m2024-09-06 18:59:59.559\u001b[0m | \u001b[1mINFO    \u001b[0m | \u001b[36msgg_benchmark.data.build\u001b[0m:\u001b[36mget_dataset_statistics\u001b[0m:\u001b[36m42\u001b[0m - \u001b[1mLoading data statistics from: C:\\Users\\Administrator\\Desktop\\RAG\\out\\VG150_train_statistics.cache\u001b[0m\n",
      "\u001b[32m2024-09-06 18:59:59.560\u001b[0m | \u001b[1mINFO    \u001b[0m | \u001b[36msgg_benchmark.data.build\u001b[0m:\u001b[36mget_dataset_statistics\u001b[0m:\u001b[36m43\u001b[0m - \u001b[1m----------------------------------------------------------------------------------------------------\u001b[0m\n"
     ]
    },
    {
     "name": "stdout",
     "output_type": "stream",
     "text": [
      "loading word vectors from .\\glove.6B.200d.pt\n",
      "loading word vectors from .\\glove.6B.200d.pt\n"
     ]
    },
    {
     "name": "stderr",
     "output_type": "stream",
     "text": [
      "\u001b[32m2024-09-06 19:00:02.462\u001b[0m | \u001b[1mINFO    \u001b[0m | \u001b[36msgg_benchmark.utils.checkpoint\u001b[0m:\u001b[36mload\u001b[0m:\u001b[36m65\u001b[0m - \u001b[1mLoading checkpoint from output_motifs/best_model_epoch_4.pth\u001b[0m\n",
      "\u001b[32m2024-09-06 19:00:06.076\u001b[0m | \u001b[1mINFO    \u001b[0m | \u001b[36msgg_benchmark.data.build\u001b[0m:\u001b[36mget_dataset_statistics\u001b[0m:\u001b[36m30\u001b[0m - \u001b[1m----------------------------------------------------------------------------------------------------\u001b[0m\n",
      "\u001b[32m2024-09-06 19:00:06.077\u001b[0m | \u001b[1mINFO    \u001b[0m | \u001b[36msgg_benchmark.data.build\u001b[0m:\u001b[36mget_dataset_statistics\u001b[0m:\u001b[36m31\u001b[0m - \u001b[1mget dataset statistics...\u001b[0m\n",
      "\u001b[32m2024-09-06 19:00:06.078\u001b[0m | \u001b[1mINFO    \u001b[0m | \u001b[36msgg_benchmark.data.build\u001b[0m:\u001b[36mget_dataset_statistics\u001b[0m:\u001b[36m42\u001b[0m - \u001b[1mLoading data statistics from: C:\\Users\\Administrator\\Desktop\\RAG\\out\\VG150_train_statistics.cache\u001b[0m\n",
      "\u001b[32m2024-09-06 19:00:06.078\u001b[0m | \u001b[1mINFO    \u001b[0m | \u001b[36msgg_benchmark.data.build\u001b[0m:\u001b[36mget_dataset_statistics\u001b[0m:\u001b[36m43\u001b[0m - \u001b[1m----------------------------------------------------------------------------------------------------\u001b[0m\n"
     ]
    },
    {
     "name": "stdout",
     "output_type": "stream",
     "text": [
      "loading word vectors from .\\glove.6B.200d.pt\n",
      "loading word vectors from .\\glove.6B.200d.pt\n"
     ]
    },
    {
     "name": "stderr",
     "output_type": "stream",
     "text": [
      "\u001b[32m2024-09-06 19:00:08.938\u001b[0m | \u001b[1mINFO    \u001b[0m | \u001b[36msgg_benchmark.utils.checkpoint\u001b[0m:\u001b[36mload\u001b[0m:\u001b[36m65\u001b[0m - \u001b[1mLoading checkpoint from output_motifs/best_model_epoch_4.pth\u001b[0m\n",
      "\u001b[32m2024-09-06 19:00:12.297\u001b[0m | \u001b[1mINFO    \u001b[0m | \u001b[36msgg_benchmark.data.build\u001b[0m:\u001b[36mget_dataset_statistics\u001b[0m:\u001b[36m30\u001b[0m - \u001b[1m----------------------------------------------------------------------------------------------------\u001b[0m\n",
      "\u001b[32m2024-09-06 19:00:12.298\u001b[0m | \u001b[1mINFO    \u001b[0m | \u001b[36msgg_benchmark.data.build\u001b[0m:\u001b[36mget_dataset_statistics\u001b[0m:\u001b[36m31\u001b[0m - \u001b[1mget dataset statistics...\u001b[0m\n",
      "\u001b[32m2024-09-06 19:00:12.299\u001b[0m | \u001b[1mINFO    \u001b[0m | \u001b[36msgg_benchmark.data.build\u001b[0m:\u001b[36mget_dataset_statistics\u001b[0m:\u001b[36m42\u001b[0m - \u001b[1mLoading data statistics from: C:\\Users\\Administrator\\Desktop\\RAG\\out\\VG150_train_statistics.cache\u001b[0m\n",
      "\u001b[32m2024-09-06 19:00:12.299\u001b[0m | \u001b[1mINFO    \u001b[0m | \u001b[36msgg_benchmark.data.build\u001b[0m:\u001b[36mget_dataset_statistics\u001b[0m:\u001b[36m43\u001b[0m - \u001b[1m----------------------------------------------------------------------------------------------------\u001b[0m\n"
     ]
    },
    {
     "name": "stdout",
     "output_type": "stream",
     "text": [
      "loading word vectors from .\\glove.6B.200d.pt\n",
      "loading word vectors from .\\glove.6B.200d.pt\n"
     ]
    },
    {
     "name": "stderr",
     "output_type": "stream",
     "text": [
      "\u001b[32m2024-09-06 19:00:15.143\u001b[0m | \u001b[1mINFO    \u001b[0m | \u001b[36msgg_benchmark.utils.checkpoint\u001b[0m:\u001b[36mload\u001b[0m:\u001b[36m65\u001b[0m - \u001b[1mLoading checkpoint from output_motifs/best_model_epoch_4.pth\u001b[0m\n",
      "\u001b[32m2024-09-06 19:00:18.542\u001b[0m | \u001b[1mINFO    \u001b[0m | \u001b[36msgg_benchmark.data.build\u001b[0m:\u001b[36mget_dataset_statistics\u001b[0m:\u001b[36m30\u001b[0m - \u001b[1m----------------------------------------------------------------------------------------------------\u001b[0m\n",
      "\u001b[32m2024-09-06 19:00:18.543\u001b[0m | \u001b[1mINFO    \u001b[0m | \u001b[36msgg_benchmark.data.build\u001b[0m:\u001b[36mget_dataset_statistics\u001b[0m:\u001b[36m31\u001b[0m - \u001b[1mget dataset statistics...\u001b[0m\n",
      "\u001b[32m2024-09-06 19:00:18.544\u001b[0m | \u001b[1mINFO    \u001b[0m | \u001b[36msgg_benchmark.data.build\u001b[0m:\u001b[36mget_dataset_statistics\u001b[0m:\u001b[36m42\u001b[0m - \u001b[1mLoading data statistics from: C:\\Users\\Administrator\\Desktop\\RAG\\out\\VG150_train_statistics.cache\u001b[0m\n",
      "\u001b[32m2024-09-06 19:00:18.545\u001b[0m | \u001b[1mINFO    \u001b[0m | \u001b[36msgg_benchmark.data.build\u001b[0m:\u001b[36mget_dataset_statistics\u001b[0m:\u001b[36m43\u001b[0m - \u001b[1m----------------------------------------------------------------------------------------------------\u001b[0m\n"
     ]
    },
    {
     "name": "stdout",
     "output_type": "stream",
     "text": [
      "loading word vectors from .\\glove.6B.200d.pt\n",
      "loading word vectors from .\\glove.6B.200d.pt\n"
     ]
    },
    {
     "name": "stderr",
     "output_type": "stream",
     "text": [
      "\u001b[32m2024-09-06 19:00:21.364\u001b[0m | \u001b[1mINFO    \u001b[0m | \u001b[36msgg_benchmark.utils.checkpoint\u001b[0m:\u001b[36mload\u001b[0m:\u001b[36m65\u001b[0m - \u001b[1mLoading checkpoint from output_motifs/best_model_epoch_4.pth\u001b[0m\n",
      "\u001b[32m2024-09-06 19:00:24.790\u001b[0m | \u001b[1mINFO    \u001b[0m | \u001b[36msgg_benchmark.data.build\u001b[0m:\u001b[36mget_dataset_statistics\u001b[0m:\u001b[36m30\u001b[0m - \u001b[1m----------------------------------------------------------------------------------------------------\u001b[0m\n",
      "\u001b[32m2024-09-06 19:00:24.790\u001b[0m | \u001b[1mINFO    \u001b[0m | \u001b[36msgg_benchmark.data.build\u001b[0m:\u001b[36mget_dataset_statistics\u001b[0m:\u001b[36m31\u001b[0m - \u001b[1mget dataset statistics...\u001b[0m\n",
      "\u001b[32m2024-09-06 19:00:24.791\u001b[0m | \u001b[1mINFO    \u001b[0m | \u001b[36msgg_benchmark.data.build\u001b[0m:\u001b[36mget_dataset_statistics\u001b[0m:\u001b[36m42\u001b[0m - \u001b[1mLoading data statistics from: C:\\Users\\Administrator\\Desktop\\RAG\\out\\VG150_train_statistics.cache\u001b[0m\n",
      "\u001b[32m2024-09-06 19:00:24.792\u001b[0m | \u001b[1mINFO    \u001b[0m | \u001b[36msgg_benchmark.data.build\u001b[0m:\u001b[36mget_dataset_statistics\u001b[0m:\u001b[36m43\u001b[0m - \u001b[1m----------------------------------------------------------------------------------------------------\u001b[0m\n"
     ]
    },
    {
     "name": "stdout",
     "output_type": "stream",
     "text": [
      "loading word vectors from .\\glove.6B.200d.pt\n",
      "loading word vectors from .\\glove.6B.200d.pt\n"
     ]
    },
    {
     "name": "stderr",
     "output_type": "stream",
     "text": [
      "\u001b[32m2024-09-06 19:00:27.687\u001b[0m | \u001b[1mINFO    \u001b[0m | \u001b[36msgg_benchmark.utils.checkpoint\u001b[0m:\u001b[36mload\u001b[0m:\u001b[36m65\u001b[0m - \u001b[1mLoading checkpoint from output_motifs/best_model_epoch_4.pth\u001b[0m\n",
      "\u001b[32m2024-09-06 19:00:31.455\u001b[0m | \u001b[1mINFO    \u001b[0m | \u001b[36msgg_benchmark.data.build\u001b[0m:\u001b[36mget_dataset_statistics\u001b[0m:\u001b[36m30\u001b[0m - \u001b[1m----------------------------------------------------------------------------------------------------\u001b[0m\n",
      "\u001b[32m2024-09-06 19:00:31.456\u001b[0m | \u001b[1mINFO    \u001b[0m | \u001b[36msgg_benchmark.data.build\u001b[0m:\u001b[36mget_dataset_statistics\u001b[0m:\u001b[36m31\u001b[0m - \u001b[1mget dataset statistics...\u001b[0m\n",
      "\u001b[32m2024-09-06 19:00:31.457\u001b[0m | \u001b[1mINFO    \u001b[0m | \u001b[36msgg_benchmark.data.build\u001b[0m:\u001b[36mget_dataset_statistics\u001b[0m:\u001b[36m42\u001b[0m - \u001b[1mLoading data statistics from: C:\\Users\\Administrator\\Desktop\\RAG\\out\\VG150_train_statistics.cache\u001b[0m\n",
      "\u001b[32m2024-09-06 19:00:31.457\u001b[0m | \u001b[1mINFO    \u001b[0m | \u001b[36msgg_benchmark.data.build\u001b[0m:\u001b[36mget_dataset_statistics\u001b[0m:\u001b[36m43\u001b[0m - \u001b[1m----------------------------------------------------------------------------------------------------\u001b[0m\n"
     ]
    },
    {
     "name": "stdout",
     "output_type": "stream",
     "text": [
      "loading word vectors from .\\glove.6B.200d.pt\n",
      "loading word vectors from .\\glove.6B.200d.pt\n"
     ]
    },
    {
     "name": "stderr",
     "output_type": "stream",
     "text": [
      "\u001b[32m2024-09-06 19:00:34.353\u001b[0m | \u001b[1mINFO    \u001b[0m | \u001b[36msgg_benchmark.utils.checkpoint\u001b[0m:\u001b[36mload\u001b[0m:\u001b[36m65\u001b[0m - \u001b[1mLoading checkpoint from output_motifs/best_model_epoch_4.pth\u001b[0m\n",
      "\u001b[32m2024-09-06 19:00:37.801\u001b[0m | \u001b[1mINFO    \u001b[0m | \u001b[36msgg_benchmark.data.build\u001b[0m:\u001b[36mget_dataset_statistics\u001b[0m:\u001b[36m30\u001b[0m - \u001b[1m----------------------------------------------------------------------------------------------------\u001b[0m\n",
      "\u001b[32m2024-09-06 19:00:37.802\u001b[0m | \u001b[1mINFO    \u001b[0m | \u001b[36msgg_benchmark.data.build\u001b[0m:\u001b[36mget_dataset_statistics\u001b[0m:\u001b[36m31\u001b[0m - \u001b[1mget dataset statistics...\u001b[0m\n",
      "\u001b[32m2024-09-06 19:00:37.803\u001b[0m | \u001b[1mINFO    \u001b[0m | \u001b[36msgg_benchmark.data.build\u001b[0m:\u001b[36mget_dataset_statistics\u001b[0m:\u001b[36m42\u001b[0m - \u001b[1mLoading data statistics from: C:\\Users\\Administrator\\Desktop\\RAG\\out\\VG150_train_statistics.cache\u001b[0m\n",
      "\u001b[32m2024-09-06 19:00:37.803\u001b[0m | \u001b[1mINFO    \u001b[0m | \u001b[36msgg_benchmark.data.build\u001b[0m:\u001b[36mget_dataset_statistics\u001b[0m:\u001b[36m43\u001b[0m - \u001b[1m----------------------------------------------------------------------------------------------------\u001b[0m\n"
     ]
    },
    {
     "name": "stdout",
     "output_type": "stream",
     "text": [
      "loading word vectors from .\\glove.6B.200d.pt\n",
      "loading word vectors from .\\glove.6B.200d.pt\n"
     ]
    },
    {
     "name": "stderr",
     "output_type": "stream",
     "text": [
      "\u001b[32m2024-09-06 19:00:40.801\u001b[0m | \u001b[1mINFO    \u001b[0m | \u001b[36msgg_benchmark.utils.checkpoint\u001b[0m:\u001b[36mload\u001b[0m:\u001b[36m65\u001b[0m - \u001b[1mLoading checkpoint from output_motifs/best_model_epoch_4.pth\u001b[0m\n",
      "\u001b[32m2024-09-06 19:00:44.483\u001b[0m | \u001b[1mINFO    \u001b[0m | \u001b[36msgg_benchmark.data.build\u001b[0m:\u001b[36mget_dataset_statistics\u001b[0m:\u001b[36m30\u001b[0m - \u001b[1m----------------------------------------------------------------------------------------------------\u001b[0m\n",
      "\u001b[32m2024-09-06 19:00:44.484\u001b[0m | \u001b[1mINFO    \u001b[0m | \u001b[36msgg_benchmark.data.build\u001b[0m:\u001b[36mget_dataset_statistics\u001b[0m:\u001b[36m31\u001b[0m - \u001b[1mget dataset statistics...\u001b[0m\n",
      "\u001b[32m2024-09-06 19:00:44.485\u001b[0m | \u001b[1mINFO    \u001b[0m | \u001b[36msgg_benchmark.data.build\u001b[0m:\u001b[36mget_dataset_statistics\u001b[0m:\u001b[36m42\u001b[0m - \u001b[1mLoading data statistics from: C:\\Users\\Administrator\\Desktop\\RAG\\out\\VG150_train_statistics.cache\u001b[0m\n",
      "\u001b[32m2024-09-06 19:00:44.485\u001b[0m | \u001b[1mINFO    \u001b[0m | \u001b[36msgg_benchmark.data.build\u001b[0m:\u001b[36mget_dataset_statistics\u001b[0m:\u001b[36m43\u001b[0m - \u001b[1m----------------------------------------------------------------------------------------------------\u001b[0m\n"
     ]
    },
    {
     "name": "stdout",
     "output_type": "stream",
     "text": [
      "loading word vectors from .\\glove.6B.200d.pt\n",
      "loading word vectors from .\\glove.6B.200d.pt\n"
     ]
    },
    {
     "name": "stderr",
     "output_type": "stream",
     "text": [
      "\u001b[32m2024-09-06 19:00:47.429\u001b[0m | \u001b[1mINFO    \u001b[0m | \u001b[36msgg_benchmark.utils.checkpoint\u001b[0m:\u001b[36mload\u001b[0m:\u001b[36m65\u001b[0m - \u001b[1mLoading checkpoint from output_motifs/best_model_epoch_4.pth\u001b[0m\n",
      "\u001b[32m2024-09-06 19:00:51.165\u001b[0m | \u001b[1mINFO    \u001b[0m | \u001b[36msgg_benchmark.data.build\u001b[0m:\u001b[36mget_dataset_statistics\u001b[0m:\u001b[36m30\u001b[0m - \u001b[1m----------------------------------------------------------------------------------------------------\u001b[0m\n",
      "\u001b[32m2024-09-06 19:00:51.166\u001b[0m | \u001b[1mINFO    \u001b[0m | \u001b[36msgg_benchmark.data.build\u001b[0m:\u001b[36mget_dataset_statistics\u001b[0m:\u001b[36m31\u001b[0m - \u001b[1mget dataset statistics...\u001b[0m\n",
      "\u001b[32m2024-09-06 19:00:51.167\u001b[0m | \u001b[1mINFO    \u001b[0m | \u001b[36msgg_benchmark.data.build\u001b[0m:\u001b[36mget_dataset_statistics\u001b[0m:\u001b[36m42\u001b[0m - \u001b[1mLoading data statistics from: C:\\Users\\Administrator\\Desktop\\RAG\\out\\VG150_train_statistics.cache\u001b[0m\n",
      "\u001b[32m2024-09-06 19:00:51.167\u001b[0m | \u001b[1mINFO    \u001b[0m | \u001b[36msgg_benchmark.data.build\u001b[0m:\u001b[36mget_dataset_statistics\u001b[0m:\u001b[36m43\u001b[0m - \u001b[1m----------------------------------------------------------------------------------------------------\u001b[0m\n"
     ]
    },
    {
     "name": "stdout",
     "output_type": "stream",
     "text": [
      "loading word vectors from .\\glove.6B.200d.pt\n",
      "loading word vectors from .\\glove.6B.200d.pt\n"
     ]
    },
    {
     "name": "stderr",
     "output_type": "stream",
     "text": [
      "\u001b[32m2024-09-06 19:00:54.115\u001b[0m | \u001b[1mINFO    \u001b[0m | \u001b[36msgg_benchmark.utils.checkpoint\u001b[0m:\u001b[36mload\u001b[0m:\u001b[36m65\u001b[0m - \u001b[1mLoading checkpoint from output_motifs/best_model_epoch_4.pth\u001b[0m\n",
      "\u001b[32m2024-09-06 19:00:57.791\u001b[0m | \u001b[1mINFO    \u001b[0m | \u001b[36msgg_benchmark.data.build\u001b[0m:\u001b[36mget_dataset_statistics\u001b[0m:\u001b[36m30\u001b[0m - \u001b[1m----------------------------------------------------------------------------------------------------\u001b[0m\n",
      "\u001b[32m2024-09-06 19:00:57.791\u001b[0m | \u001b[1mINFO    \u001b[0m | \u001b[36msgg_benchmark.data.build\u001b[0m:\u001b[36mget_dataset_statistics\u001b[0m:\u001b[36m31\u001b[0m - \u001b[1mget dataset statistics...\u001b[0m\n",
      "\u001b[32m2024-09-06 19:00:57.793\u001b[0m | \u001b[1mINFO    \u001b[0m | \u001b[36msgg_benchmark.data.build\u001b[0m:\u001b[36mget_dataset_statistics\u001b[0m:\u001b[36m42\u001b[0m - \u001b[1mLoading data statistics from: C:\\Users\\Administrator\\Desktop\\RAG\\out\\VG150_train_statistics.cache\u001b[0m\n",
      "\u001b[32m2024-09-06 19:00:57.793\u001b[0m | \u001b[1mINFO    \u001b[0m | \u001b[36msgg_benchmark.data.build\u001b[0m:\u001b[36mget_dataset_statistics\u001b[0m:\u001b[36m43\u001b[0m - \u001b[1m----------------------------------------------------------------------------------------------------\u001b[0m\n"
     ]
    },
    {
     "name": "stdout",
     "output_type": "stream",
     "text": [
      "loading word vectors from .\\glove.6B.200d.pt\n",
      "loading word vectors from .\\glove.6B.200d.pt\n"
     ]
    },
    {
     "name": "stderr",
     "output_type": "stream",
     "text": [
      "\u001b[32m2024-09-06 19:01:00.767\u001b[0m | \u001b[1mINFO    \u001b[0m | \u001b[36msgg_benchmark.utils.checkpoint\u001b[0m:\u001b[36mload\u001b[0m:\u001b[36m65\u001b[0m - \u001b[1mLoading checkpoint from output_motifs/best_model_epoch_4.pth\u001b[0m\n",
      "\u001b[32m2024-09-06 19:01:04.439\u001b[0m | \u001b[1mINFO    \u001b[0m | \u001b[36msgg_benchmark.data.build\u001b[0m:\u001b[36mget_dataset_statistics\u001b[0m:\u001b[36m30\u001b[0m - \u001b[1m----------------------------------------------------------------------------------------------------\u001b[0m\n",
      "\u001b[32m2024-09-06 19:01:04.440\u001b[0m | \u001b[1mINFO    \u001b[0m | \u001b[36msgg_benchmark.data.build\u001b[0m:\u001b[36mget_dataset_statistics\u001b[0m:\u001b[36m31\u001b[0m - \u001b[1mget dataset statistics...\u001b[0m\n",
      "\u001b[32m2024-09-06 19:01:04.441\u001b[0m | \u001b[1mINFO    \u001b[0m | \u001b[36msgg_benchmark.data.build\u001b[0m:\u001b[36mget_dataset_statistics\u001b[0m:\u001b[36m42\u001b[0m - \u001b[1mLoading data statistics from: C:\\Users\\Administrator\\Desktop\\RAG\\out\\VG150_train_statistics.cache\u001b[0m\n",
      "\u001b[32m2024-09-06 19:01:04.441\u001b[0m | \u001b[1mINFO    \u001b[0m | \u001b[36msgg_benchmark.data.build\u001b[0m:\u001b[36mget_dataset_statistics\u001b[0m:\u001b[36m43\u001b[0m - \u001b[1m----------------------------------------------------------------------------------------------------\u001b[0m\n"
     ]
    },
    {
     "name": "stdout",
     "output_type": "stream",
     "text": [
      "loading word vectors from .\\glove.6B.200d.pt\n",
      "loading word vectors from .\\glove.6B.200d.pt\n"
     ]
    },
    {
     "name": "stderr",
     "output_type": "stream",
     "text": [
      "\u001b[32m2024-09-06 19:01:07.657\u001b[0m | \u001b[1mINFO    \u001b[0m | \u001b[36msgg_benchmark.utils.checkpoint\u001b[0m:\u001b[36mload\u001b[0m:\u001b[36m65\u001b[0m - \u001b[1mLoading checkpoint from output_motifs/best_model_epoch_4.pth\u001b[0m\n",
      "\u001b[32m2024-09-06 19:01:11.955\u001b[0m | \u001b[1mINFO    \u001b[0m | \u001b[36msgg_benchmark.data.build\u001b[0m:\u001b[36mget_dataset_statistics\u001b[0m:\u001b[36m30\u001b[0m - \u001b[1m----------------------------------------------------------------------------------------------------\u001b[0m\n",
      "\u001b[32m2024-09-06 19:01:11.956\u001b[0m | \u001b[1mINFO    \u001b[0m | \u001b[36msgg_benchmark.data.build\u001b[0m:\u001b[36mget_dataset_statistics\u001b[0m:\u001b[36m31\u001b[0m - \u001b[1mget dataset statistics...\u001b[0m\n",
      "\u001b[32m2024-09-06 19:01:11.957\u001b[0m | \u001b[1mINFO    \u001b[0m | \u001b[36msgg_benchmark.data.build\u001b[0m:\u001b[36mget_dataset_statistics\u001b[0m:\u001b[36m42\u001b[0m - \u001b[1mLoading data statistics from: C:\\Users\\Administrator\\Desktop\\RAG\\out\\VG150_train_statistics.cache\u001b[0m\n",
      "\u001b[32m2024-09-06 19:01:11.958\u001b[0m | \u001b[1mINFO    \u001b[0m | \u001b[36msgg_benchmark.data.build\u001b[0m:\u001b[36mget_dataset_statistics\u001b[0m:\u001b[36m43\u001b[0m - \u001b[1m----------------------------------------------------------------------------------------------------\u001b[0m\n"
     ]
    },
    {
     "name": "stdout",
     "output_type": "stream",
     "text": [
      "loading word vectors from .\\glove.6B.200d.pt\n",
      "loading word vectors from .\\glove.6B.200d.pt\n"
     ]
    },
    {
     "name": "stderr",
     "output_type": "stream",
     "text": [
      "\u001b[32m2024-09-06 19:01:14.833\u001b[0m | \u001b[1mINFO    \u001b[0m | \u001b[36msgg_benchmark.utils.checkpoint\u001b[0m:\u001b[36mload\u001b[0m:\u001b[36m65\u001b[0m - \u001b[1mLoading checkpoint from output_motifs/best_model_epoch_4.pth\u001b[0m\n",
      "\u001b[32m2024-09-06 19:01:18.572\u001b[0m | \u001b[1mINFO    \u001b[0m | \u001b[36msgg_benchmark.data.build\u001b[0m:\u001b[36mget_dataset_statistics\u001b[0m:\u001b[36m30\u001b[0m - \u001b[1m----------------------------------------------------------------------------------------------------\u001b[0m\n",
      "\u001b[32m2024-09-06 19:01:18.572\u001b[0m | \u001b[1mINFO    \u001b[0m | \u001b[36msgg_benchmark.data.build\u001b[0m:\u001b[36mget_dataset_statistics\u001b[0m:\u001b[36m31\u001b[0m - \u001b[1mget dataset statistics...\u001b[0m\n",
      "\u001b[32m2024-09-06 19:01:18.574\u001b[0m | \u001b[1mINFO    \u001b[0m | \u001b[36msgg_benchmark.data.build\u001b[0m:\u001b[36mget_dataset_statistics\u001b[0m:\u001b[36m42\u001b[0m - \u001b[1mLoading data statistics from: C:\\Users\\Administrator\\Desktop\\RAG\\out\\VG150_train_statistics.cache\u001b[0m\n",
      "\u001b[32m2024-09-06 19:01:18.574\u001b[0m | \u001b[1mINFO    \u001b[0m | \u001b[36msgg_benchmark.data.build\u001b[0m:\u001b[36mget_dataset_statistics\u001b[0m:\u001b[36m43\u001b[0m - \u001b[1m----------------------------------------------------------------------------------------------------\u001b[0m\n"
     ]
    },
    {
     "name": "stdout",
     "output_type": "stream",
     "text": [
      "loading word vectors from .\\glove.6B.200d.pt\n",
      "loading word vectors from .\\glove.6B.200d.pt\n"
     ]
    },
    {
     "name": "stderr",
     "output_type": "stream",
     "text": [
      "\u001b[32m2024-09-06 19:01:21.438\u001b[0m | \u001b[1mINFO    \u001b[0m | \u001b[36msgg_benchmark.utils.checkpoint\u001b[0m:\u001b[36mload\u001b[0m:\u001b[36m65\u001b[0m - \u001b[1mLoading checkpoint from output_motifs/best_model_epoch_4.pth\u001b[0m\n",
      "\u001b[32m2024-09-06 19:01:25.018\u001b[0m | \u001b[1mINFO    \u001b[0m | \u001b[36msgg_benchmark.data.build\u001b[0m:\u001b[36mget_dataset_statistics\u001b[0m:\u001b[36m30\u001b[0m - \u001b[1m----------------------------------------------------------------------------------------------------\u001b[0m\n",
      "\u001b[32m2024-09-06 19:01:25.019\u001b[0m | \u001b[1mINFO    \u001b[0m | \u001b[36msgg_benchmark.data.build\u001b[0m:\u001b[36mget_dataset_statistics\u001b[0m:\u001b[36m31\u001b[0m - \u001b[1mget dataset statistics...\u001b[0m\n",
      "\u001b[32m2024-09-06 19:01:25.020\u001b[0m | \u001b[1mINFO    \u001b[0m | \u001b[36msgg_benchmark.data.build\u001b[0m:\u001b[36mget_dataset_statistics\u001b[0m:\u001b[36m42\u001b[0m - \u001b[1mLoading data statistics from: C:\\Users\\Administrator\\Desktop\\RAG\\out\\VG150_train_statistics.cache\u001b[0m\n",
      "\u001b[32m2024-09-06 19:01:25.020\u001b[0m | \u001b[1mINFO    \u001b[0m | \u001b[36msgg_benchmark.data.build\u001b[0m:\u001b[36mget_dataset_statistics\u001b[0m:\u001b[36m43\u001b[0m - \u001b[1m----------------------------------------------------------------------------------------------------\u001b[0m\n"
     ]
    },
    {
     "name": "stdout",
     "output_type": "stream",
     "text": [
      "loading word vectors from .\\glove.6B.200d.pt\n",
      "loading word vectors from .\\glove.6B.200d.pt\n"
     ]
    },
    {
     "name": "stderr",
     "output_type": "stream",
     "text": [
      "\u001b[32m2024-09-06 19:01:27.890\u001b[0m | \u001b[1mINFO    \u001b[0m | \u001b[36msgg_benchmark.utils.checkpoint\u001b[0m:\u001b[36mload\u001b[0m:\u001b[36m65\u001b[0m - \u001b[1mLoading checkpoint from output_motifs/best_model_epoch_4.pth\u001b[0m\n",
      "\u001b[32m2024-09-06 19:01:31.362\u001b[0m | \u001b[1mINFO    \u001b[0m | \u001b[36msgg_benchmark.data.build\u001b[0m:\u001b[36mget_dataset_statistics\u001b[0m:\u001b[36m30\u001b[0m - \u001b[1m----------------------------------------------------------------------------------------------------\u001b[0m\n",
      "\u001b[32m2024-09-06 19:01:31.363\u001b[0m | \u001b[1mINFO    \u001b[0m | \u001b[36msgg_benchmark.data.build\u001b[0m:\u001b[36mget_dataset_statistics\u001b[0m:\u001b[36m31\u001b[0m - \u001b[1mget dataset statistics...\u001b[0m\n",
      "\u001b[32m2024-09-06 19:01:31.364\u001b[0m | \u001b[1mINFO    \u001b[0m | \u001b[36msgg_benchmark.data.build\u001b[0m:\u001b[36mget_dataset_statistics\u001b[0m:\u001b[36m42\u001b[0m - \u001b[1mLoading data statistics from: C:\\Users\\Administrator\\Desktop\\RAG\\out\\VG150_train_statistics.cache\u001b[0m\n",
      "\u001b[32m2024-09-06 19:01:31.364\u001b[0m | \u001b[1mINFO    \u001b[0m | \u001b[36msgg_benchmark.data.build\u001b[0m:\u001b[36mget_dataset_statistics\u001b[0m:\u001b[36m43\u001b[0m - \u001b[1m----------------------------------------------------------------------------------------------------\u001b[0m\n"
     ]
    },
    {
     "name": "stdout",
     "output_type": "stream",
     "text": [
      "loading word vectors from .\\glove.6B.200d.pt\n",
      "loading word vectors from .\\glove.6B.200d.pt\n"
     ]
    },
    {
     "name": "stderr",
     "output_type": "stream",
     "text": [
      "\u001b[32m2024-09-06 19:01:34.298\u001b[0m | \u001b[1mINFO    \u001b[0m | \u001b[36msgg_benchmark.utils.checkpoint\u001b[0m:\u001b[36mload\u001b[0m:\u001b[36m65\u001b[0m - \u001b[1mLoading checkpoint from output_motifs/best_model_epoch_4.pth\u001b[0m\n",
      "\u001b[32m2024-09-06 19:01:37.791\u001b[0m | \u001b[1mINFO    \u001b[0m | \u001b[36msgg_benchmark.data.build\u001b[0m:\u001b[36mget_dataset_statistics\u001b[0m:\u001b[36m30\u001b[0m - \u001b[1m----------------------------------------------------------------------------------------------------\u001b[0m\n",
      "\u001b[32m2024-09-06 19:01:37.792\u001b[0m | \u001b[1mINFO    \u001b[0m | \u001b[36msgg_benchmark.data.build\u001b[0m:\u001b[36mget_dataset_statistics\u001b[0m:\u001b[36m31\u001b[0m - \u001b[1mget dataset statistics...\u001b[0m\n",
      "\u001b[32m2024-09-06 19:01:37.793\u001b[0m | \u001b[1mINFO    \u001b[0m | \u001b[36msgg_benchmark.data.build\u001b[0m:\u001b[36mget_dataset_statistics\u001b[0m:\u001b[36m42\u001b[0m - \u001b[1mLoading data statistics from: C:\\Users\\Administrator\\Desktop\\RAG\\out\\VG150_train_statistics.cache\u001b[0m\n",
      "\u001b[32m2024-09-06 19:01:37.794\u001b[0m | \u001b[1mINFO    \u001b[0m | \u001b[36msgg_benchmark.data.build\u001b[0m:\u001b[36mget_dataset_statistics\u001b[0m:\u001b[36m43\u001b[0m - \u001b[1m----------------------------------------------------------------------------------------------------\u001b[0m\n"
     ]
    },
    {
     "name": "stdout",
     "output_type": "stream",
     "text": [
      "loading word vectors from .\\glove.6B.200d.pt\n",
      "loading word vectors from .\\glove.6B.200d.pt\n"
     ]
    },
    {
     "name": "stderr",
     "output_type": "stream",
     "text": [
      "\u001b[32m2024-09-06 19:01:41.053\u001b[0m | \u001b[1mINFO    \u001b[0m | \u001b[36msgg_benchmark.utils.checkpoint\u001b[0m:\u001b[36mload\u001b[0m:\u001b[36m65\u001b[0m - \u001b[1mLoading checkpoint from output_motifs/best_model_epoch_4.pth\u001b[0m\n",
      "\u001b[32m2024-09-06 19:01:45.653\u001b[0m | \u001b[1mINFO    \u001b[0m | \u001b[36msgg_benchmark.data.build\u001b[0m:\u001b[36mget_dataset_statistics\u001b[0m:\u001b[36m30\u001b[0m - \u001b[1m----------------------------------------------------------------------------------------------------\u001b[0m\n",
      "\u001b[32m2024-09-06 19:01:45.653\u001b[0m | \u001b[1mINFO    \u001b[0m | \u001b[36msgg_benchmark.data.build\u001b[0m:\u001b[36mget_dataset_statistics\u001b[0m:\u001b[36m31\u001b[0m - \u001b[1mget dataset statistics...\u001b[0m\n",
      "\u001b[32m2024-09-06 19:01:45.655\u001b[0m | \u001b[1mINFO    \u001b[0m | \u001b[36msgg_benchmark.data.build\u001b[0m:\u001b[36mget_dataset_statistics\u001b[0m:\u001b[36m42\u001b[0m - \u001b[1mLoading data statistics from: C:\\Users\\Administrator\\Desktop\\RAG\\out\\VG150_train_statistics.cache\u001b[0m\n",
      "\u001b[32m2024-09-06 19:01:45.655\u001b[0m | \u001b[1mINFO    \u001b[0m | \u001b[36msgg_benchmark.data.build\u001b[0m:\u001b[36mget_dataset_statistics\u001b[0m:\u001b[36m43\u001b[0m - \u001b[1m----------------------------------------------------------------------------------------------------\u001b[0m\n"
     ]
    },
    {
     "name": "stdout",
     "output_type": "stream",
     "text": [
      "loading word vectors from .\\glove.6B.200d.pt\n",
      "loading word vectors from .\\glove.6B.200d.pt\n"
     ]
    },
    {
     "name": "stderr",
     "output_type": "stream",
     "text": [
      "\u001b[32m2024-09-06 19:01:48.607\u001b[0m | \u001b[1mINFO    \u001b[0m | \u001b[36msgg_benchmark.utils.checkpoint\u001b[0m:\u001b[36mload\u001b[0m:\u001b[36m65\u001b[0m - \u001b[1mLoading checkpoint from output_motifs/best_model_epoch_4.pth\u001b[0m\n",
      "\u001b[32m2024-09-06 19:01:52.422\u001b[0m | \u001b[1mINFO    \u001b[0m | \u001b[36msgg_benchmark.data.build\u001b[0m:\u001b[36mget_dataset_statistics\u001b[0m:\u001b[36m30\u001b[0m - \u001b[1m----------------------------------------------------------------------------------------------------\u001b[0m\n",
      "\u001b[32m2024-09-06 19:01:52.423\u001b[0m | \u001b[1mINFO    \u001b[0m | \u001b[36msgg_benchmark.data.build\u001b[0m:\u001b[36mget_dataset_statistics\u001b[0m:\u001b[36m31\u001b[0m - \u001b[1mget dataset statistics...\u001b[0m\n",
      "\u001b[32m2024-09-06 19:01:52.424\u001b[0m | \u001b[1mINFO    \u001b[0m | \u001b[36msgg_benchmark.data.build\u001b[0m:\u001b[36mget_dataset_statistics\u001b[0m:\u001b[36m42\u001b[0m - \u001b[1mLoading data statistics from: C:\\Users\\Administrator\\Desktop\\RAG\\out\\VG150_train_statistics.cache\u001b[0m\n",
      "\u001b[32m2024-09-06 19:01:52.425\u001b[0m | \u001b[1mINFO    \u001b[0m | \u001b[36msgg_benchmark.data.build\u001b[0m:\u001b[36mget_dataset_statistics\u001b[0m:\u001b[36m43\u001b[0m - \u001b[1m----------------------------------------------------------------------------------------------------\u001b[0m\n"
     ]
    },
    {
     "name": "stdout",
     "output_type": "stream",
     "text": [
      "loading word vectors from .\\glove.6B.200d.pt\n",
      "loading word vectors from .\\glove.6B.200d.pt\n"
     ]
    },
    {
     "name": "stderr",
     "output_type": "stream",
     "text": [
      "\u001b[32m2024-09-06 19:01:55.478\u001b[0m | \u001b[1mINFO    \u001b[0m | \u001b[36msgg_benchmark.utils.checkpoint\u001b[0m:\u001b[36mload\u001b[0m:\u001b[36m65\u001b[0m - \u001b[1mLoading checkpoint from output_motifs/best_model_epoch_4.pth\u001b[0m\n",
      "\u001b[32m2024-09-06 19:01:59.317\u001b[0m | \u001b[1mINFO    \u001b[0m | \u001b[36msgg_benchmark.data.build\u001b[0m:\u001b[36mget_dataset_statistics\u001b[0m:\u001b[36m30\u001b[0m - \u001b[1m----------------------------------------------------------------------------------------------------\u001b[0m\n",
      "\u001b[32m2024-09-06 19:01:59.318\u001b[0m | \u001b[1mINFO    \u001b[0m | \u001b[36msgg_benchmark.data.build\u001b[0m:\u001b[36mget_dataset_statistics\u001b[0m:\u001b[36m31\u001b[0m - \u001b[1mget dataset statistics...\u001b[0m\n",
      "\u001b[32m2024-09-06 19:01:59.319\u001b[0m | \u001b[1mINFO    \u001b[0m | \u001b[36msgg_benchmark.data.build\u001b[0m:\u001b[36mget_dataset_statistics\u001b[0m:\u001b[36m42\u001b[0m - \u001b[1mLoading data statistics from: C:\\Users\\Administrator\\Desktop\\RAG\\out\\VG150_train_statistics.cache\u001b[0m\n",
      "\u001b[32m2024-09-06 19:01:59.319\u001b[0m | \u001b[1mINFO    \u001b[0m | \u001b[36msgg_benchmark.data.build\u001b[0m:\u001b[36mget_dataset_statistics\u001b[0m:\u001b[36m43\u001b[0m - \u001b[1m----------------------------------------------------------------------------------------------------\u001b[0m\n"
     ]
    },
    {
     "name": "stdout",
     "output_type": "stream",
     "text": [
      "loading word vectors from .\\glove.6B.200d.pt\n",
      "loading word vectors from .\\glove.6B.200d.pt\n"
     ]
    },
    {
     "name": "stderr",
     "output_type": "stream",
     "text": [
      "\u001b[32m2024-09-06 19:02:02.371\u001b[0m | \u001b[1mINFO    \u001b[0m | \u001b[36msgg_benchmark.utils.checkpoint\u001b[0m:\u001b[36mload\u001b[0m:\u001b[36m65\u001b[0m - \u001b[1mLoading checkpoint from output_motifs/best_model_epoch_4.pth\u001b[0m\n",
      "\u001b[32m2024-09-06 19:02:05.862\u001b[0m | \u001b[1mINFO    \u001b[0m | \u001b[36msgg_benchmark.data.build\u001b[0m:\u001b[36mget_dataset_statistics\u001b[0m:\u001b[36m30\u001b[0m - \u001b[1m----------------------------------------------------------------------------------------------------\u001b[0m\n",
      "\u001b[32m2024-09-06 19:02:05.862\u001b[0m | \u001b[1mINFO    \u001b[0m | \u001b[36msgg_benchmark.data.build\u001b[0m:\u001b[36mget_dataset_statistics\u001b[0m:\u001b[36m31\u001b[0m - \u001b[1mget dataset statistics...\u001b[0m\n",
      "\u001b[32m2024-09-06 19:02:05.864\u001b[0m | \u001b[1mINFO    \u001b[0m | \u001b[36msgg_benchmark.data.build\u001b[0m:\u001b[36mget_dataset_statistics\u001b[0m:\u001b[36m42\u001b[0m - \u001b[1mLoading data statistics from: C:\\Users\\Administrator\\Desktop\\RAG\\out\\VG150_train_statistics.cache\u001b[0m\n",
      "\u001b[32m2024-09-06 19:02:05.865\u001b[0m | \u001b[1mINFO    \u001b[0m | \u001b[36msgg_benchmark.data.build\u001b[0m:\u001b[36mget_dataset_statistics\u001b[0m:\u001b[36m43\u001b[0m - \u001b[1m----------------------------------------------------------------------------------------------------\u001b[0m\n"
     ]
    },
    {
     "name": "stdout",
     "output_type": "stream",
     "text": [
      "loading word vectors from .\\glove.6B.200d.pt\n",
      "loading word vectors from .\\glove.6B.200d.pt\n"
     ]
    },
    {
     "name": "stderr",
     "output_type": "stream",
     "text": [
      "\u001b[32m2024-09-06 19:02:08.800\u001b[0m | \u001b[1mINFO    \u001b[0m | \u001b[36msgg_benchmark.utils.checkpoint\u001b[0m:\u001b[36mload\u001b[0m:\u001b[36m65\u001b[0m - \u001b[1mLoading checkpoint from output_motifs/best_model_epoch_4.pth\u001b[0m\n",
      "\u001b[32m2024-09-06 19:02:12.483\u001b[0m | \u001b[1mINFO    \u001b[0m | \u001b[36msgg_benchmark.data.build\u001b[0m:\u001b[36mget_dataset_statistics\u001b[0m:\u001b[36m30\u001b[0m - \u001b[1m----------------------------------------------------------------------------------------------------\u001b[0m\n",
      "\u001b[32m2024-09-06 19:02:12.484\u001b[0m | \u001b[1mINFO    \u001b[0m | \u001b[36msgg_benchmark.data.build\u001b[0m:\u001b[36mget_dataset_statistics\u001b[0m:\u001b[36m31\u001b[0m - \u001b[1mget dataset statistics...\u001b[0m\n",
      "\u001b[32m2024-09-06 19:02:12.485\u001b[0m | \u001b[1mINFO    \u001b[0m | \u001b[36msgg_benchmark.data.build\u001b[0m:\u001b[36mget_dataset_statistics\u001b[0m:\u001b[36m42\u001b[0m - \u001b[1mLoading data statistics from: C:\\Users\\Administrator\\Desktop\\RAG\\out\\VG150_train_statistics.cache\u001b[0m\n",
      "\u001b[32m2024-09-06 19:02:12.486\u001b[0m | \u001b[1mINFO    \u001b[0m | \u001b[36msgg_benchmark.data.build\u001b[0m:\u001b[36mget_dataset_statistics\u001b[0m:\u001b[36m43\u001b[0m - \u001b[1m----------------------------------------------------------------------------------------------------\u001b[0m\n"
     ]
    },
    {
     "name": "stdout",
     "output_type": "stream",
     "text": [
      "loading word vectors from .\\glove.6B.200d.pt\n",
      "loading word vectors from .\\glove.6B.200d.pt\n"
     ]
    },
    {
     "name": "stderr",
     "output_type": "stream",
     "text": [
      "\u001b[32m2024-09-06 19:02:15.543\u001b[0m | \u001b[1mINFO    \u001b[0m | \u001b[36msgg_benchmark.utils.checkpoint\u001b[0m:\u001b[36mload\u001b[0m:\u001b[36m65\u001b[0m - \u001b[1mLoading checkpoint from output_motifs/best_model_epoch_4.pth\u001b[0m\n",
      "\u001b[32m2024-09-06 19:02:19.023\u001b[0m | \u001b[1mINFO    \u001b[0m | \u001b[36msgg_benchmark.data.build\u001b[0m:\u001b[36mget_dataset_statistics\u001b[0m:\u001b[36m30\u001b[0m - \u001b[1m----------------------------------------------------------------------------------------------------\u001b[0m\n",
      "\u001b[32m2024-09-06 19:02:19.023\u001b[0m | \u001b[1mINFO    \u001b[0m | \u001b[36msgg_benchmark.data.build\u001b[0m:\u001b[36mget_dataset_statistics\u001b[0m:\u001b[36m31\u001b[0m - \u001b[1mget dataset statistics...\u001b[0m\n",
      "\u001b[32m2024-09-06 19:02:19.024\u001b[0m | \u001b[1mINFO    \u001b[0m | \u001b[36msgg_benchmark.data.build\u001b[0m:\u001b[36mget_dataset_statistics\u001b[0m:\u001b[36m42\u001b[0m - \u001b[1mLoading data statistics from: C:\\Users\\Administrator\\Desktop\\RAG\\out\\VG150_train_statistics.cache\u001b[0m\n",
      "\u001b[32m2024-09-06 19:02:19.025\u001b[0m | \u001b[1mINFO    \u001b[0m | \u001b[36msgg_benchmark.data.build\u001b[0m:\u001b[36mget_dataset_statistics\u001b[0m:\u001b[36m43\u001b[0m - \u001b[1m----------------------------------------------------------------------------------------------------\u001b[0m\n"
     ]
    },
    {
     "name": "stdout",
     "output_type": "stream",
     "text": [
      "loading word vectors from .\\glove.6B.200d.pt\n",
      "loading word vectors from .\\glove.6B.200d.pt\n"
     ]
    },
    {
     "name": "stderr",
     "output_type": "stream",
     "text": [
      "\u001b[32m2024-09-06 19:02:21.996\u001b[0m | \u001b[1mINFO    \u001b[0m | \u001b[36msgg_benchmark.utils.checkpoint\u001b[0m:\u001b[36mload\u001b[0m:\u001b[36m65\u001b[0m - \u001b[1mLoading checkpoint from output_motifs/best_model_epoch_4.pth\u001b[0m\n",
      "\u001b[32m2024-09-06 19:02:25.749\u001b[0m | \u001b[1mINFO    \u001b[0m | \u001b[36msgg_benchmark.data.build\u001b[0m:\u001b[36mget_dataset_statistics\u001b[0m:\u001b[36m30\u001b[0m - \u001b[1m----------------------------------------------------------------------------------------------------\u001b[0m\n",
      "\u001b[32m2024-09-06 19:02:25.750\u001b[0m | \u001b[1mINFO    \u001b[0m | \u001b[36msgg_benchmark.data.build\u001b[0m:\u001b[36mget_dataset_statistics\u001b[0m:\u001b[36m31\u001b[0m - \u001b[1mget dataset statistics...\u001b[0m\n",
      "\u001b[32m2024-09-06 19:02:25.751\u001b[0m | \u001b[1mINFO    \u001b[0m | \u001b[36msgg_benchmark.data.build\u001b[0m:\u001b[36mget_dataset_statistics\u001b[0m:\u001b[36m42\u001b[0m - \u001b[1mLoading data statistics from: C:\\Users\\Administrator\\Desktop\\RAG\\out\\VG150_train_statistics.cache\u001b[0m\n",
      "\u001b[32m2024-09-06 19:02:25.751\u001b[0m | \u001b[1mINFO    \u001b[0m | \u001b[36msgg_benchmark.data.build\u001b[0m:\u001b[36mget_dataset_statistics\u001b[0m:\u001b[36m43\u001b[0m - \u001b[1m----------------------------------------------------------------------------------------------------\u001b[0m\n"
     ]
    },
    {
     "name": "stdout",
     "output_type": "stream",
     "text": [
      "loading word vectors from .\\glove.6B.200d.pt\n",
      "loading word vectors from .\\glove.6B.200d.pt\n"
     ]
    },
    {
     "name": "stderr",
     "output_type": "stream",
     "text": [
      "\u001b[32m2024-09-06 19:02:28.705\u001b[0m | \u001b[1mINFO    \u001b[0m | \u001b[36msgg_benchmark.utils.checkpoint\u001b[0m:\u001b[36mload\u001b[0m:\u001b[36m65\u001b[0m - \u001b[1mLoading checkpoint from output_motifs/best_model_epoch_4.pth\u001b[0m\n",
      "\u001b[32m2024-09-06 19:02:32.247\u001b[0m | \u001b[1mINFO    \u001b[0m | \u001b[36msgg_benchmark.data.build\u001b[0m:\u001b[36mget_dataset_statistics\u001b[0m:\u001b[36m30\u001b[0m - \u001b[1m----------------------------------------------------------------------------------------------------\u001b[0m\n",
      "\u001b[32m2024-09-06 19:02:32.248\u001b[0m | \u001b[1mINFO    \u001b[0m | \u001b[36msgg_benchmark.data.build\u001b[0m:\u001b[36mget_dataset_statistics\u001b[0m:\u001b[36m31\u001b[0m - \u001b[1mget dataset statistics...\u001b[0m\n",
      "\u001b[32m2024-09-06 19:02:32.249\u001b[0m | \u001b[1mINFO    \u001b[0m | \u001b[36msgg_benchmark.data.build\u001b[0m:\u001b[36mget_dataset_statistics\u001b[0m:\u001b[36m42\u001b[0m - \u001b[1mLoading data statistics from: C:\\Users\\Administrator\\Desktop\\RAG\\out\\VG150_train_statistics.cache\u001b[0m\n",
      "\u001b[32m2024-09-06 19:02:32.250\u001b[0m | \u001b[1mINFO    \u001b[0m | \u001b[36msgg_benchmark.data.build\u001b[0m:\u001b[36mget_dataset_statistics\u001b[0m:\u001b[36m43\u001b[0m - \u001b[1m----------------------------------------------------------------------------------------------------\u001b[0m\n"
     ]
    },
    {
     "name": "stdout",
     "output_type": "stream",
     "text": [
      "loading word vectors from .\\glove.6B.200d.pt\n",
      "loading word vectors from .\\glove.6B.200d.pt\n"
     ]
    },
    {
     "name": "stderr",
     "output_type": "stream",
     "text": [
      "\u001b[32m2024-09-06 19:02:35.113\u001b[0m | \u001b[1mINFO    \u001b[0m | \u001b[36msgg_benchmark.utils.checkpoint\u001b[0m:\u001b[36mload\u001b[0m:\u001b[36m65\u001b[0m - \u001b[1mLoading checkpoint from output_motifs/best_model_epoch_4.pth\u001b[0m\n",
      "\u001b[32m2024-09-06 19:02:38.558\u001b[0m | \u001b[1mINFO    \u001b[0m | \u001b[36msgg_benchmark.data.build\u001b[0m:\u001b[36mget_dataset_statistics\u001b[0m:\u001b[36m30\u001b[0m - \u001b[1m----------------------------------------------------------------------------------------------------\u001b[0m\n",
      "\u001b[32m2024-09-06 19:02:38.559\u001b[0m | \u001b[1mINFO    \u001b[0m | \u001b[36msgg_benchmark.data.build\u001b[0m:\u001b[36mget_dataset_statistics\u001b[0m:\u001b[36m31\u001b[0m - \u001b[1mget dataset statistics...\u001b[0m\n",
      "\u001b[32m2024-09-06 19:02:38.560\u001b[0m | \u001b[1mINFO    \u001b[0m | \u001b[36msgg_benchmark.data.build\u001b[0m:\u001b[36mget_dataset_statistics\u001b[0m:\u001b[36m42\u001b[0m - \u001b[1mLoading data statistics from: C:\\Users\\Administrator\\Desktop\\RAG\\out\\VG150_train_statistics.cache\u001b[0m\n",
      "\u001b[32m2024-09-06 19:02:38.560\u001b[0m | \u001b[1mINFO    \u001b[0m | \u001b[36msgg_benchmark.data.build\u001b[0m:\u001b[36mget_dataset_statistics\u001b[0m:\u001b[36m43\u001b[0m - \u001b[1m----------------------------------------------------------------------------------------------------\u001b[0m\n"
     ]
    },
    {
     "name": "stdout",
     "output_type": "stream",
     "text": [
      "loading word vectors from .\\glove.6B.200d.pt\n",
      "loading word vectors from .\\glove.6B.200d.pt\n"
     ]
    },
    {
     "name": "stderr",
     "output_type": "stream",
     "text": [
      "\u001b[32m2024-09-06 19:02:41.491\u001b[0m | \u001b[1mINFO    \u001b[0m | \u001b[36msgg_benchmark.utils.checkpoint\u001b[0m:\u001b[36mload\u001b[0m:\u001b[36m65\u001b[0m - \u001b[1mLoading checkpoint from output_motifs/best_model_epoch_4.pth\u001b[0m\n",
      "\u001b[32m2024-09-06 19:02:44.984\u001b[0m | \u001b[1mINFO    \u001b[0m | \u001b[36msgg_benchmark.data.build\u001b[0m:\u001b[36mget_dataset_statistics\u001b[0m:\u001b[36m30\u001b[0m - \u001b[1m----------------------------------------------------------------------------------------------------\u001b[0m\n",
      "\u001b[32m2024-09-06 19:02:44.984\u001b[0m | \u001b[1mINFO    \u001b[0m | \u001b[36msgg_benchmark.data.build\u001b[0m:\u001b[36mget_dataset_statistics\u001b[0m:\u001b[36m31\u001b[0m - \u001b[1mget dataset statistics...\u001b[0m\n",
      "\u001b[32m2024-09-06 19:02:44.985\u001b[0m | \u001b[1mINFO    \u001b[0m | \u001b[36msgg_benchmark.data.build\u001b[0m:\u001b[36mget_dataset_statistics\u001b[0m:\u001b[36m42\u001b[0m - \u001b[1mLoading data statistics from: C:\\Users\\Administrator\\Desktop\\RAG\\out\\VG150_train_statistics.cache\u001b[0m\n",
      "\u001b[32m2024-09-06 19:02:44.986\u001b[0m | \u001b[1mINFO    \u001b[0m | \u001b[36msgg_benchmark.data.build\u001b[0m:\u001b[36mget_dataset_statistics\u001b[0m:\u001b[36m43\u001b[0m - \u001b[1m----------------------------------------------------------------------------------------------------\u001b[0m\n"
     ]
    },
    {
     "name": "stdout",
     "output_type": "stream",
     "text": [
      "loading word vectors from .\\glove.6B.200d.pt\n",
      "loading word vectors from .\\glove.6B.200d.pt\n"
     ]
    },
    {
     "name": "stderr",
     "output_type": "stream",
     "text": [
      "\u001b[32m2024-09-06 19:02:47.930\u001b[0m | \u001b[1mINFO    \u001b[0m | \u001b[36msgg_benchmark.utils.checkpoint\u001b[0m:\u001b[36mload\u001b[0m:\u001b[36m65\u001b[0m - \u001b[1mLoading checkpoint from output_motifs/best_model_epoch_4.pth\u001b[0m\n",
      "\u001b[32m2024-09-06 19:02:51.398\u001b[0m | \u001b[1mINFO    \u001b[0m | \u001b[36msgg_benchmark.data.build\u001b[0m:\u001b[36mget_dataset_statistics\u001b[0m:\u001b[36m30\u001b[0m - \u001b[1m----------------------------------------------------------------------------------------------------\u001b[0m\n",
      "\u001b[32m2024-09-06 19:02:51.399\u001b[0m | \u001b[1mINFO    \u001b[0m | \u001b[36msgg_benchmark.data.build\u001b[0m:\u001b[36mget_dataset_statistics\u001b[0m:\u001b[36m31\u001b[0m - \u001b[1mget dataset statistics...\u001b[0m\n",
      "\u001b[32m2024-09-06 19:02:51.400\u001b[0m | \u001b[1mINFO    \u001b[0m | \u001b[36msgg_benchmark.data.build\u001b[0m:\u001b[36mget_dataset_statistics\u001b[0m:\u001b[36m42\u001b[0m - \u001b[1mLoading data statistics from: C:\\Users\\Administrator\\Desktop\\RAG\\out\\VG150_train_statistics.cache\u001b[0m\n",
      "\u001b[32m2024-09-06 19:02:51.400\u001b[0m | \u001b[1mINFO    \u001b[0m | \u001b[36msgg_benchmark.data.build\u001b[0m:\u001b[36mget_dataset_statistics\u001b[0m:\u001b[36m43\u001b[0m - \u001b[1m----------------------------------------------------------------------------------------------------\u001b[0m\n"
     ]
    },
    {
     "name": "stdout",
     "output_type": "stream",
     "text": [
      "loading word vectors from .\\glove.6B.200d.pt\n",
      "loading word vectors from .\\glove.6B.200d.pt\n"
     ]
    },
    {
     "name": "stderr",
     "output_type": "stream",
     "text": [
      "\u001b[32m2024-09-06 19:02:54.415\u001b[0m | \u001b[1mINFO    \u001b[0m | \u001b[36msgg_benchmark.utils.checkpoint\u001b[0m:\u001b[36mload\u001b[0m:\u001b[36m65\u001b[0m - \u001b[1mLoading checkpoint from output_motifs/best_model_epoch_4.pth\u001b[0m\n",
      "\u001b[32m2024-09-06 19:02:58.046\u001b[0m | \u001b[1mINFO    \u001b[0m | \u001b[36msgg_benchmark.data.build\u001b[0m:\u001b[36mget_dataset_statistics\u001b[0m:\u001b[36m30\u001b[0m - \u001b[1m----------------------------------------------------------------------------------------------------\u001b[0m\n",
      "\u001b[32m2024-09-06 19:02:58.046\u001b[0m | \u001b[1mINFO    \u001b[0m | \u001b[36msgg_benchmark.data.build\u001b[0m:\u001b[36mget_dataset_statistics\u001b[0m:\u001b[36m31\u001b[0m - \u001b[1mget dataset statistics...\u001b[0m\n",
      "\u001b[32m2024-09-06 19:02:58.047\u001b[0m | \u001b[1mINFO    \u001b[0m | \u001b[36msgg_benchmark.data.build\u001b[0m:\u001b[36mget_dataset_statistics\u001b[0m:\u001b[36m42\u001b[0m - \u001b[1mLoading data statistics from: C:\\Users\\Administrator\\Desktop\\RAG\\out\\VG150_train_statistics.cache\u001b[0m\n",
      "\u001b[32m2024-09-06 19:02:58.048\u001b[0m | \u001b[1mINFO    \u001b[0m | \u001b[36msgg_benchmark.data.build\u001b[0m:\u001b[36mget_dataset_statistics\u001b[0m:\u001b[36m43\u001b[0m - \u001b[1m----------------------------------------------------------------------------------------------------\u001b[0m\n"
     ]
    },
    {
     "name": "stdout",
     "output_type": "stream",
     "text": [
      "loading word vectors from .\\glove.6B.200d.pt\n",
      "loading word vectors from .\\glove.6B.200d.pt\n"
     ]
    },
    {
     "name": "stderr",
     "output_type": "stream",
     "text": [
      "\u001b[32m2024-09-06 19:03:00.987\u001b[0m | \u001b[1mINFO    \u001b[0m | \u001b[36msgg_benchmark.utils.checkpoint\u001b[0m:\u001b[36mload\u001b[0m:\u001b[36m65\u001b[0m - \u001b[1mLoading checkpoint from output_motifs/best_model_epoch_4.pth\u001b[0m\n",
      "\u001b[32m2024-09-06 19:03:04.712\u001b[0m | \u001b[1mINFO    \u001b[0m | \u001b[36msgg_benchmark.data.build\u001b[0m:\u001b[36mget_dataset_statistics\u001b[0m:\u001b[36m30\u001b[0m - \u001b[1m----------------------------------------------------------------------------------------------------\u001b[0m\n",
      "\u001b[32m2024-09-06 19:03:04.713\u001b[0m | \u001b[1mINFO    \u001b[0m | \u001b[36msgg_benchmark.data.build\u001b[0m:\u001b[36mget_dataset_statistics\u001b[0m:\u001b[36m31\u001b[0m - \u001b[1mget dataset statistics...\u001b[0m\n",
      "\u001b[32m2024-09-06 19:03:04.714\u001b[0m | \u001b[1mINFO    \u001b[0m | \u001b[36msgg_benchmark.data.build\u001b[0m:\u001b[36mget_dataset_statistics\u001b[0m:\u001b[36m42\u001b[0m - \u001b[1mLoading data statistics from: C:\\Users\\Administrator\\Desktop\\RAG\\out\\VG150_train_statistics.cache\u001b[0m\n",
      "\u001b[32m2024-09-06 19:03:04.714\u001b[0m | \u001b[1mINFO    \u001b[0m | \u001b[36msgg_benchmark.data.build\u001b[0m:\u001b[36mget_dataset_statistics\u001b[0m:\u001b[36m43\u001b[0m - \u001b[1m----------------------------------------------------------------------------------------------------\u001b[0m\n"
     ]
    },
    {
     "name": "stdout",
     "output_type": "stream",
     "text": [
      "loading word vectors from .\\glove.6B.200d.pt\n",
      "loading word vectors from .\\glove.6B.200d.pt\n"
     ]
    },
    {
     "name": "stderr",
     "output_type": "stream",
     "text": [
      "\u001b[32m2024-09-06 19:03:07.709\u001b[0m | \u001b[1mINFO    \u001b[0m | \u001b[36msgg_benchmark.utils.checkpoint\u001b[0m:\u001b[36mload\u001b[0m:\u001b[36m65\u001b[0m - \u001b[1mLoading checkpoint from output_motifs/best_model_epoch_4.pth\u001b[0m\n",
      "\u001b[32m2024-09-06 19:03:11.177\u001b[0m | \u001b[1mINFO    \u001b[0m | \u001b[36msgg_benchmark.data.build\u001b[0m:\u001b[36mget_dataset_statistics\u001b[0m:\u001b[36m30\u001b[0m - \u001b[1m----------------------------------------------------------------------------------------------------\u001b[0m\n",
      "\u001b[32m2024-09-06 19:03:11.178\u001b[0m | \u001b[1mINFO    \u001b[0m | \u001b[36msgg_benchmark.data.build\u001b[0m:\u001b[36mget_dataset_statistics\u001b[0m:\u001b[36m31\u001b[0m - \u001b[1mget dataset statistics...\u001b[0m\n",
      "\u001b[32m2024-09-06 19:03:11.179\u001b[0m | \u001b[1mINFO    \u001b[0m | \u001b[36msgg_benchmark.data.build\u001b[0m:\u001b[36mget_dataset_statistics\u001b[0m:\u001b[36m42\u001b[0m - \u001b[1mLoading data statistics from: C:\\Users\\Administrator\\Desktop\\RAG\\out\\VG150_train_statistics.cache\u001b[0m\n",
      "\u001b[32m2024-09-06 19:03:11.179\u001b[0m | \u001b[1mINFO    \u001b[0m | \u001b[36msgg_benchmark.data.build\u001b[0m:\u001b[36mget_dataset_statistics\u001b[0m:\u001b[36m43\u001b[0m - \u001b[1m----------------------------------------------------------------------------------------------------\u001b[0m\n"
     ]
    },
    {
     "name": "stdout",
     "output_type": "stream",
     "text": [
      "loading word vectors from .\\glove.6B.200d.pt\n",
      "loading word vectors from .\\glove.6B.200d.pt\n"
     ]
    },
    {
     "name": "stderr",
     "output_type": "stream",
     "text": [
      "\u001b[32m2024-09-06 19:03:14.120\u001b[0m | \u001b[1mINFO    \u001b[0m | \u001b[36msgg_benchmark.utils.checkpoint\u001b[0m:\u001b[36mload\u001b[0m:\u001b[36m65\u001b[0m - \u001b[1mLoading checkpoint from output_motifs/best_model_epoch_4.pth\u001b[0m\n",
      "\u001b[32m2024-09-06 19:03:17.853\u001b[0m | \u001b[1mINFO    \u001b[0m | \u001b[36msgg_benchmark.data.build\u001b[0m:\u001b[36mget_dataset_statistics\u001b[0m:\u001b[36m30\u001b[0m - \u001b[1m----------------------------------------------------------------------------------------------------\u001b[0m\n",
      "\u001b[32m2024-09-06 19:03:17.854\u001b[0m | \u001b[1mINFO    \u001b[0m | \u001b[36msgg_benchmark.data.build\u001b[0m:\u001b[36mget_dataset_statistics\u001b[0m:\u001b[36m31\u001b[0m - \u001b[1mget dataset statistics...\u001b[0m\n",
      "\u001b[32m2024-09-06 19:03:17.855\u001b[0m | \u001b[1mINFO    \u001b[0m | \u001b[36msgg_benchmark.data.build\u001b[0m:\u001b[36mget_dataset_statistics\u001b[0m:\u001b[36m42\u001b[0m - \u001b[1mLoading data statistics from: C:\\Users\\Administrator\\Desktop\\RAG\\out\\VG150_train_statistics.cache\u001b[0m\n",
      "\u001b[32m2024-09-06 19:03:17.856\u001b[0m | \u001b[1mINFO    \u001b[0m | \u001b[36msgg_benchmark.data.build\u001b[0m:\u001b[36mget_dataset_statistics\u001b[0m:\u001b[36m43\u001b[0m - \u001b[1m----------------------------------------------------------------------------------------------------\u001b[0m\n"
     ]
    },
    {
     "name": "stdout",
     "output_type": "stream",
     "text": [
      "loading word vectors from .\\glove.6B.200d.pt\n",
      "loading word vectors from .\\glove.6B.200d.pt\n"
     ]
    },
    {
     "name": "stderr",
     "output_type": "stream",
     "text": [
      "\u001b[32m2024-09-06 19:03:20.884\u001b[0m | \u001b[1mINFO    \u001b[0m | \u001b[36msgg_benchmark.utils.checkpoint\u001b[0m:\u001b[36mload\u001b[0m:\u001b[36m65\u001b[0m - \u001b[1mLoading checkpoint from output_motifs/best_model_epoch_4.pth\u001b[0m\n",
      "\u001b[32m2024-09-06 19:03:24.466\u001b[0m | \u001b[1mINFO    \u001b[0m | \u001b[36msgg_benchmark.data.build\u001b[0m:\u001b[36mget_dataset_statistics\u001b[0m:\u001b[36m30\u001b[0m - \u001b[1m----------------------------------------------------------------------------------------------------\u001b[0m\n",
      "\u001b[32m2024-09-06 19:03:24.466\u001b[0m | \u001b[1mINFO    \u001b[0m | \u001b[36msgg_benchmark.data.build\u001b[0m:\u001b[36mget_dataset_statistics\u001b[0m:\u001b[36m31\u001b[0m - \u001b[1mget dataset statistics...\u001b[0m\n",
      "\u001b[32m2024-09-06 19:03:24.467\u001b[0m | \u001b[1mINFO    \u001b[0m | \u001b[36msgg_benchmark.data.build\u001b[0m:\u001b[36mget_dataset_statistics\u001b[0m:\u001b[36m42\u001b[0m - \u001b[1mLoading data statistics from: C:\\Users\\Administrator\\Desktop\\RAG\\out\\VG150_train_statistics.cache\u001b[0m\n",
      "\u001b[32m2024-09-06 19:03:24.467\u001b[0m | \u001b[1mINFO    \u001b[0m | \u001b[36msgg_benchmark.data.build\u001b[0m:\u001b[36mget_dataset_statistics\u001b[0m:\u001b[36m43\u001b[0m - \u001b[1m----------------------------------------------------------------------------------------------------\u001b[0m\n"
     ]
    },
    {
     "name": "stdout",
     "output_type": "stream",
     "text": [
      "loading word vectors from .\\glove.6B.200d.pt\n",
      "loading word vectors from .\\glove.6B.200d.pt\n"
     ]
    },
    {
     "name": "stderr",
     "output_type": "stream",
     "text": [
      "\u001b[32m2024-09-06 19:03:27.476\u001b[0m | \u001b[1mINFO    \u001b[0m | \u001b[36msgg_benchmark.utils.checkpoint\u001b[0m:\u001b[36mload\u001b[0m:\u001b[36m65\u001b[0m - \u001b[1mLoading checkpoint from output_motifs/best_model_epoch_4.pth\u001b[0m\n",
      "\u001b[32m2024-09-06 19:03:30.924\u001b[0m | \u001b[1mINFO    \u001b[0m | \u001b[36msgg_benchmark.data.build\u001b[0m:\u001b[36mget_dataset_statistics\u001b[0m:\u001b[36m30\u001b[0m - \u001b[1m----------------------------------------------------------------------------------------------------\u001b[0m\n",
      "\u001b[32m2024-09-06 19:03:30.925\u001b[0m | \u001b[1mINFO    \u001b[0m | \u001b[36msgg_benchmark.data.build\u001b[0m:\u001b[36mget_dataset_statistics\u001b[0m:\u001b[36m31\u001b[0m - \u001b[1mget dataset statistics...\u001b[0m\n",
      "\u001b[32m2024-09-06 19:03:30.926\u001b[0m | \u001b[1mINFO    \u001b[0m | \u001b[36msgg_benchmark.data.build\u001b[0m:\u001b[36mget_dataset_statistics\u001b[0m:\u001b[36m42\u001b[0m - \u001b[1mLoading data statistics from: C:\\Users\\Administrator\\Desktop\\RAG\\out\\VG150_train_statistics.cache\u001b[0m\n",
      "\u001b[32m2024-09-06 19:03:30.926\u001b[0m | \u001b[1mINFO    \u001b[0m | \u001b[36msgg_benchmark.data.build\u001b[0m:\u001b[36mget_dataset_statistics\u001b[0m:\u001b[36m43\u001b[0m - \u001b[1m----------------------------------------------------------------------------------------------------\u001b[0m\n"
     ]
    },
    {
     "name": "stdout",
     "output_type": "stream",
     "text": [
      "loading word vectors from .\\glove.6B.200d.pt\n",
      "loading word vectors from .\\glove.6B.200d.pt\n"
     ]
    },
    {
     "name": "stderr",
     "output_type": "stream",
     "text": [
      "\u001b[32m2024-09-06 19:03:33.833\u001b[0m | \u001b[1mINFO    \u001b[0m | \u001b[36msgg_benchmark.utils.checkpoint\u001b[0m:\u001b[36mload\u001b[0m:\u001b[36m65\u001b[0m - \u001b[1mLoading checkpoint from output_motifs/best_model_epoch_4.pth\u001b[0m\n",
      "\u001b[32m2024-09-06 19:03:37.419\u001b[0m | \u001b[1mINFO    \u001b[0m | \u001b[36msgg_benchmark.data.build\u001b[0m:\u001b[36mget_dataset_statistics\u001b[0m:\u001b[36m30\u001b[0m - \u001b[1m----------------------------------------------------------------------------------------------------\u001b[0m\n",
      "\u001b[32m2024-09-06 19:03:37.420\u001b[0m | \u001b[1mINFO    \u001b[0m | \u001b[36msgg_benchmark.data.build\u001b[0m:\u001b[36mget_dataset_statistics\u001b[0m:\u001b[36m31\u001b[0m - \u001b[1mget dataset statistics...\u001b[0m\n",
      "\u001b[32m2024-09-06 19:03:37.421\u001b[0m | \u001b[1mINFO    \u001b[0m | \u001b[36msgg_benchmark.data.build\u001b[0m:\u001b[36mget_dataset_statistics\u001b[0m:\u001b[36m42\u001b[0m - \u001b[1mLoading data statistics from: C:\\Users\\Administrator\\Desktop\\RAG\\out\\VG150_train_statistics.cache\u001b[0m\n",
      "\u001b[32m2024-09-06 19:03:37.422\u001b[0m | \u001b[1mINFO    \u001b[0m | \u001b[36msgg_benchmark.data.build\u001b[0m:\u001b[36mget_dataset_statistics\u001b[0m:\u001b[36m43\u001b[0m - \u001b[1m----------------------------------------------------------------------------------------------------\u001b[0m\n"
     ]
    },
    {
     "name": "stdout",
     "output_type": "stream",
     "text": [
      "loading word vectors from .\\glove.6B.200d.pt\n",
      "loading word vectors from .\\glove.6B.200d.pt\n"
     ]
    },
    {
     "name": "stderr",
     "output_type": "stream",
     "text": [
      "\u001b[32m2024-09-06 19:03:40.409\u001b[0m | \u001b[1mINFO    \u001b[0m | \u001b[36msgg_benchmark.utils.checkpoint\u001b[0m:\u001b[36mload\u001b[0m:\u001b[36m65\u001b[0m - \u001b[1mLoading checkpoint from output_motifs/best_model_epoch_4.pth\u001b[0m\n",
      "\u001b[32m2024-09-06 19:03:44.024\u001b[0m | \u001b[1mINFO    \u001b[0m | \u001b[36msgg_benchmark.data.build\u001b[0m:\u001b[36mget_dataset_statistics\u001b[0m:\u001b[36m30\u001b[0m - \u001b[1m----------------------------------------------------------------------------------------------------\u001b[0m\n",
      "\u001b[32m2024-09-06 19:03:44.025\u001b[0m | \u001b[1mINFO    \u001b[0m | \u001b[36msgg_benchmark.data.build\u001b[0m:\u001b[36mget_dataset_statistics\u001b[0m:\u001b[36m31\u001b[0m - \u001b[1mget dataset statistics...\u001b[0m\n",
      "\u001b[32m2024-09-06 19:03:44.026\u001b[0m | \u001b[1mINFO    \u001b[0m | \u001b[36msgg_benchmark.data.build\u001b[0m:\u001b[36mget_dataset_statistics\u001b[0m:\u001b[36m42\u001b[0m - \u001b[1mLoading data statistics from: C:\\Users\\Administrator\\Desktop\\RAG\\out\\VG150_train_statistics.cache\u001b[0m\n",
      "\u001b[32m2024-09-06 19:03:44.027\u001b[0m | \u001b[1mINFO    \u001b[0m | \u001b[36msgg_benchmark.data.build\u001b[0m:\u001b[36mget_dataset_statistics\u001b[0m:\u001b[36m43\u001b[0m - \u001b[1m----------------------------------------------------------------------------------------------------\u001b[0m\n"
     ]
    },
    {
     "name": "stdout",
     "output_type": "stream",
     "text": [
      "loading word vectors from .\\glove.6B.200d.pt\n",
      "loading word vectors from .\\glove.6B.200d.pt\n"
     ]
    },
    {
     "name": "stderr",
     "output_type": "stream",
     "text": [
      "\u001b[32m2024-09-06 19:03:46.989\u001b[0m | \u001b[1mINFO    \u001b[0m | \u001b[36msgg_benchmark.utils.checkpoint\u001b[0m:\u001b[36mload\u001b[0m:\u001b[36m65\u001b[0m - \u001b[1mLoading checkpoint from output_motifs/best_model_epoch_4.pth\u001b[0m\n",
      "\u001b[32m2024-09-06 19:03:50.636\u001b[0m | \u001b[1mINFO    \u001b[0m | \u001b[36msgg_benchmark.data.build\u001b[0m:\u001b[36mget_dataset_statistics\u001b[0m:\u001b[36m30\u001b[0m - \u001b[1m----------------------------------------------------------------------------------------------------\u001b[0m\n",
      "\u001b[32m2024-09-06 19:03:50.637\u001b[0m | \u001b[1mINFO    \u001b[0m | \u001b[36msgg_benchmark.data.build\u001b[0m:\u001b[36mget_dataset_statistics\u001b[0m:\u001b[36m31\u001b[0m - \u001b[1mget dataset statistics...\u001b[0m\n",
      "\u001b[32m2024-09-06 19:03:50.638\u001b[0m | \u001b[1mINFO    \u001b[0m | \u001b[36msgg_benchmark.data.build\u001b[0m:\u001b[36mget_dataset_statistics\u001b[0m:\u001b[36m42\u001b[0m - \u001b[1mLoading data statistics from: C:\\Users\\Administrator\\Desktop\\RAG\\out\\VG150_train_statistics.cache\u001b[0m\n",
      "\u001b[32m2024-09-06 19:03:50.638\u001b[0m | \u001b[1mINFO    \u001b[0m | \u001b[36msgg_benchmark.data.build\u001b[0m:\u001b[36mget_dataset_statistics\u001b[0m:\u001b[36m43\u001b[0m - \u001b[1m----------------------------------------------------------------------------------------------------\u001b[0m\n"
     ]
    },
    {
     "name": "stdout",
     "output_type": "stream",
     "text": [
      "loading word vectors from .\\glove.6B.200d.pt\n",
      "loading word vectors from .\\glove.6B.200d.pt\n"
     ]
    },
    {
     "name": "stderr",
     "output_type": "stream",
     "text": [
      "\u001b[32m2024-09-06 19:03:53.567\u001b[0m | \u001b[1mINFO    \u001b[0m | \u001b[36msgg_benchmark.utils.checkpoint\u001b[0m:\u001b[36mload\u001b[0m:\u001b[36m65\u001b[0m - \u001b[1mLoading checkpoint from output_motifs/best_model_epoch_4.pth\u001b[0m\n",
      "\u001b[32m2024-09-06 19:03:57.384\u001b[0m | \u001b[1mINFO    \u001b[0m | \u001b[36msgg_benchmark.data.build\u001b[0m:\u001b[36mget_dataset_statistics\u001b[0m:\u001b[36m30\u001b[0m - \u001b[1m----------------------------------------------------------------------------------------------------\u001b[0m\n",
      "\u001b[32m2024-09-06 19:03:57.385\u001b[0m | \u001b[1mINFO    \u001b[0m | \u001b[36msgg_benchmark.data.build\u001b[0m:\u001b[36mget_dataset_statistics\u001b[0m:\u001b[36m31\u001b[0m - \u001b[1mget dataset statistics...\u001b[0m\n",
      "\u001b[32m2024-09-06 19:03:57.386\u001b[0m | \u001b[1mINFO    \u001b[0m | \u001b[36msgg_benchmark.data.build\u001b[0m:\u001b[36mget_dataset_statistics\u001b[0m:\u001b[36m42\u001b[0m - \u001b[1mLoading data statistics from: C:\\Users\\Administrator\\Desktop\\RAG\\out\\VG150_train_statistics.cache\u001b[0m\n",
      "\u001b[32m2024-09-06 19:03:57.387\u001b[0m | \u001b[1mINFO    \u001b[0m | \u001b[36msgg_benchmark.data.build\u001b[0m:\u001b[36mget_dataset_statistics\u001b[0m:\u001b[36m43\u001b[0m - \u001b[1m----------------------------------------------------------------------------------------------------\u001b[0m\n"
     ]
    },
    {
     "name": "stdout",
     "output_type": "stream",
     "text": [
      "loading word vectors from .\\glove.6B.200d.pt\n",
      "loading word vectors from .\\glove.6B.200d.pt\n"
     ]
    },
    {
     "name": "stderr",
     "output_type": "stream",
     "text": [
      "\u001b[32m2024-09-06 19:04:00.414\u001b[0m | \u001b[1mINFO    \u001b[0m | \u001b[36msgg_benchmark.utils.checkpoint\u001b[0m:\u001b[36mload\u001b[0m:\u001b[36m65\u001b[0m - \u001b[1mLoading checkpoint from output_motifs/best_model_epoch_4.pth\u001b[0m\n",
      "\u001b[32m2024-09-06 19:04:04.323\u001b[0m | \u001b[1mINFO    \u001b[0m | \u001b[36msgg_benchmark.data.build\u001b[0m:\u001b[36mget_dataset_statistics\u001b[0m:\u001b[36m30\u001b[0m - \u001b[1m----------------------------------------------------------------------------------------------------\u001b[0m\n",
      "\u001b[32m2024-09-06 19:04:04.324\u001b[0m | \u001b[1mINFO    \u001b[0m | \u001b[36msgg_benchmark.data.build\u001b[0m:\u001b[36mget_dataset_statistics\u001b[0m:\u001b[36m31\u001b[0m - \u001b[1mget dataset statistics...\u001b[0m\n",
      "\u001b[32m2024-09-06 19:04:04.326\u001b[0m | \u001b[1mINFO    \u001b[0m | \u001b[36msgg_benchmark.data.build\u001b[0m:\u001b[36mget_dataset_statistics\u001b[0m:\u001b[36m42\u001b[0m - \u001b[1mLoading data statistics from: C:\\Users\\Administrator\\Desktop\\RAG\\out\\VG150_train_statistics.cache\u001b[0m\n",
      "\u001b[32m2024-09-06 19:04:04.327\u001b[0m | \u001b[1mINFO    \u001b[0m | \u001b[36msgg_benchmark.data.build\u001b[0m:\u001b[36mget_dataset_statistics\u001b[0m:\u001b[36m43\u001b[0m - \u001b[1m----------------------------------------------------------------------------------------------------\u001b[0m\n"
     ]
    },
    {
     "name": "stdout",
     "output_type": "stream",
     "text": [
      "loading word vectors from .\\glove.6B.200d.pt\n",
      "loading word vectors from .\\glove.6B.200d.pt\n"
     ]
    },
    {
     "name": "stderr",
     "output_type": "stream",
     "text": [
      "\u001b[32m2024-09-06 19:04:07.307\u001b[0m | \u001b[1mINFO    \u001b[0m | \u001b[36msgg_benchmark.utils.checkpoint\u001b[0m:\u001b[36mload\u001b[0m:\u001b[36m65\u001b[0m - \u001b[1mLoading checkpoint from output_motifs/best_model_epoch_4.pth\u001b[0m\n",
      "\u001b[32m2024-09-06 19:04:11.040\u001b[0m | \u001b[1mINFO    \u001b[0m | \u001b[36msgg_benchmark.data.build\u001b[0m:\u001b[36mget_dataset_statistics\u001b[0m:\u001b[36m30\u001b[0m - \u001b[1m----------------------------------------------------------------------------------------------------\u001b[0m\n",
      "\u001b[32m2024-09-06 19:04:11.041\u001b[0m | \u001b[1mINFO    \u001b[0m | \u001b[36msgg_benchmark.data.build\u001b[0m:\u001b[36mget_dataset_statistics\u001b[0m:\u001b[36m31\u001b[0m - \u001b[1mget dataset statistics...\u001b[0m\n",
      "\u001b[32m2024-09-06 19:04:11.042\u001b[0m | \u001b[1mINFO    \u001b[0m | \u001b[36msgg_benchmark.data.build\u001b[0m:\u001b[36mget_dataset_statistics\u001b[0m:\u001b[36m42\u001b[0m - \u001b[1mLoading data statistics from: C:\\Users\\Administrator\\Desktop\\RAG\\out\\VG150_train_statistics.cache\u001b[0m\n",
      "\u001b[32m2024-09-06 19:04:11.043\u001b[0m | \u001b[1mINFO    \u001b[0m | \u001b[36msgg_benchmark.data.build\u001b[0m:\u001b[36mget_dataset_statistics\u001b[0m:\u001b[36m43\u001b[0m - \u001b[1m----------------------------------------------------------------------------------------------------\u001b[0m\n"
     ]
    },
    {
     "name": "stdout",
     "output_type": "stream",
     "text": [
      "loading word vectors from .\\glove.6B.200d.pt\n",
      "loading word vectors from .\\glove.6B.200d.pt\n"
     ]
    },
    {
     "name": "stderr",
     "output_type": "stream",
     "text": [
      "\u001b[32m2024-09-06 19:04:14.050\u001b[0m | \u001b[1mINFO    \u001b[0m | \u001b[36msgg_benchmark.utils.checkpoint\u001b[0m:\u001b[36mload\u001b[0m:\u001b[36m65\u001b[0m - \u001b[1mLoading checkpoint from output_motifs/best_model_epoch_4.pth\u001b[0m\n",
      "\u001b[32m2024-09-06 19:04:17.751\u001b[0m | \u001b[1mINFO    \u001b[0m | \u001b[36msgg_benchmark.data.build\u001b[0m:\u001b[36mget_dataset_statistics\u001b[0m:\u001b[36m30\u001b[0m - \u001b[1m----------------------------------------------------------------------------------------------------\u001b[0m\n",
      "\u001b[32m2024-09-06 19:04:17.752\u001b[0m | \u001b[1mINFO    \u001b[0m | \u001b[36msgg_benchmark.data.build\u001b[0m:\u001b[36mget_dataset_statistics\u001b[0m:\u001b[36m31\u001b[0m - \u001b[1mget dataset statistics...\u001b[0m\n",
      "\u001b[32m2024-09-06 19:04:17.753\u001b[0m | \u001b[1mINFO    \u001b[0m | \u001b[36msgg_benchmark.data.build\u001b[0m:\u001b[36mget_dataset_statistics\u001b[0m:\u001b[36m42\u001b[0m - \u001b[1mLoading data statistics from: C:\\Users\\Administrator\\Desktop\\RAG\\out\\VG150_train_statistics.cache\u001b[0m\n",
      "\u001b[32m2024-09-06 19:04:17.754\u001b[0m | \u001b[1mINFO    \u001b[0m | \u001b[36msgg_benchmark.data.build\u001b[0m:\u001b[36mget_dataset_statistics\u001b[0m:\u001b[36m43\u001b[0m - \u001b[1m----------------------------------------------------------------------------------------------------\u001b[0m\n"
     ]
    },
    {
     "name": "stdout",
     "output_type": "stream",
     "text": [
      "loading word vectors from .\\glove.6B.200d.pt\n",
      "loading word vectors from .\\glove.6B.200d.pt\n"
     ]
    },
    {
     "name": "stderr",
     "output_type": "stream",
     "text": [
      "\u001b[32m2024-09-06 19:04:20.869\u001b[0m | \u001b[1mINFO    \u001b[0m | \u001b[36msgg_benchmark.utils.checkpoint\u001b[0m:\u001b[36mload\u001b[0m:\u001b[36m65\u001b[0m - \u001b[1mLoading checkpoint from output_motifs/best_model_epoch_4.pth\u001b[0m\n",
      "\u001b[32m2024-09-06 19:04:24.810\u001b[0m | \u001b[1mINFO    \u001b[0m | \u001b[36msgg_benchmark.data.build\u001b[0m:\u001b[36mget_dataset_statistics\u001b[0m:\u001b[36m30\u001b[0m - \u001b[1m----------------------------------------------------------------------------------------------------\u001b[0m\n",
      "\u001b[32m2024-09-06 19:04:24.811\u001b[0m | \u001b[1mINFO    \u001b[0m | \u001b[36msgg_benchmark.data.build\u001b[0m:\u001b[36mget_dataset_statistics\u001b[0m:\u001b[36m31\u001b[0m - \u001b[1mget dataset statistics...\u001b[0m\n",
      "\u001b[32m2024-09-06 19:04:24.812\u001b[0m | \u001b[1mINFO    \u001b[0m | \u001b[36msgg_benchmark.data.build\u001b[0m:\u001b[36mget_dataset_statistics\u001b[0m:\u001b[36m42\u001b[0m - \u001b[1mLoading data statistics from: C:\\Users\\Administrator\\Desktop\\RAG\\out\\VG150_train_statistics.cache\u001b[0m\n",
      "\u001b[32m2024-09-06 19:04:24.812\u001b[0m | \u001b[1mINFO    \u001b[0m | \u001b[36msgg_benchmark.data.build\u001b[0m:\u001b[36mget_dataset_statistics\u001b[0m:\u001b[36m43\u001b[0m - \u001b[1m----------------------------------------------------------------------------------------------------\u001b[0m\n"
     ]
    },
    {
     "name": "stdout",
     "output_type": "stream",
     "text": [
      "loading word vectors from .\\glove.6B.200d.pt\n",
      "loading word vectors from .\\glove.6B.200d.pt\n"
     ]
    },
    {
     "name": "stderr",
     "output_type": "stream",
     "text": [
      "\u001b[32m2024-09-06 19:04:27.500\u001b[0m | \u001b[1mINFO    \u001b[0m | \u001b[36msgg_benchmark.utils.checkpoint\u001b[0m:\u001b[36mload\u001b[0m:\u001b[36m65\u001b[0m - \u001b[1mLoading checkpoint from output_motifs/best_model_epoch_4.pth\u001b[0m\n",
      "\u001b[32m2024-09-06 19:04:31.040\u001b[0m | \u001b[1mINFO    \u001b[0m | \u001b[36msgg_benchmark.data.build\u001b[0m:\u001b[36mget_dataset_statistics\u001b[0m:\u001b[36m30\u001b[0m - \u001b[1m----------------------------------------------------------------------------------------------------\u001b[0m\n",
      "\u001b[32m2024-09-06 19:04:31.040\u001b[0m | \u001b[1mINFO    \u001b[0m | \u001b[36msgg_benchmark.data.build\u001b[0m:\u001b[36mget_dataset_statistics\u001b[0m:\u001b[36m31\u001b[0m - \u001b[1mget dataset statistics...\u001b[0m\n",
      "\u001b[32m2024-09-06 19:04:31.042\u001b[0m | \u001b[1mINFO    \u001b[0m | \u001b[36msgg_benchmark.data.build\u001b[0m:\u001b[36mget_dataset_statistics\u001b[0m:\u001b[36m42\u001b[0m - \u001b[1mLoading data statistics from: C:\\Users\\Administrator\\Desktop\\RAG\\out\\VG150_train_statistics.cache\u001b[0m\n",
      "\u001b[32m2024-09-06 19:04:31.042\u001b[0m | \u001b[1mINFO    \u001b[0m | \u001b[36msgg_benchmark.data.build\u001b[0m:\u001b[36mget_dataset_statistics\u001b[0m:\u001b[36m43\u001b[0m - \u001b[1m----------------------------------------------------------------------------------------------------\u001b[0m\n"
     ]
    },
    {
     "name": "stdout",
     "output_type": "stream",
     "text": [
      "loading word vectors from .\\glove.6B.200d.pt\n",
      "loading word vectors from .\\glove.6B.200d.pt\n"
     ]
    },
    {
     "name": "stderr",
     "output_type": "stream",
     "text": [
      "\u001b[32m2024-09-06 19:04:34.067\u001b[0m | \u001b[1mINFO    \u001b[0m | \u001b[36msgg_benchmark.utils.checkpoint\u001b[0m:\u001b[36mload\u001b[0m:\u001b[36m65\u001b[0m - \u001b[1mLoading checkpoint from output_motifs/best_model_epoch_4.pth\u001b[0m\n",
      "\u001b[32m2024-09-06 19:04:37.553\u001b[0m | \u001b[1mINFO    \u001b[0m | \u001b[36msgg_benchmark.data.build\u001b[0m:\u001b[36mget_dataset_statistics\u001b[0m:\u001b[36m30\u001b[0m - \u001b[1m----------------------------------------------------------------------------------------------------\u001b[0m\n",
      "\u001b[32m2024-09-06 19:04:37.554\u001b[0m | \u001b[1mINFO    \u001b[0m | \u001b[36msgg_benchmark.data.build\u001b[0m:\u001b[36mget_dataset_statistics\u001b[0m:\u001b[36m31\u001b[0m - \u001b[1mget dataset statistics...\u001b[0m\n",
      "\u001b[32m2024-09-06 19:04:37.555\u001b[0m | \u001b[1mINFO    \u001b[0m | \u001b[36msgg_benchmark.data.build\u001b[0m:\u001b[36mget_dataset_statistics\u001b[0m:\u001b[36m42\u001b[0m - \u001b[1mLoading data statistics from: C:\\Users\\Administrator\\Desktop\\RAG\\out\\VG150_train_statistics.cache\u001b[0m\n",
      "\u001b[32m2024-09-06 19:04:37.556\u001b[0m | \u001b[1mINFO    \u001b[0m | \u001b[36msgg_benchmark.data.build\u001b[0m:\u001b[36mget_dataset_statistics\u001b[0m:\u001b[36m43\u001b[0m - \u001b[1m----------------------------------------------------------------------------------------------------\u001b[0m\n"
     ]
    },
    {
     "name": "stdout",
     "output_type": "stream",
     "text": [
      "loading word vectors from .\\glove.6B.200d.pt\n",
      "loading word vectors from .\\glove.6B.200d.pt\n"
     ]
    },
    {
     "name": "stderr",
     "output_type": "stream",
     "text": [
      "\u001b[32m2024-09-06 19:04:40.446\u001b[0m | \u001b[1mINFO    \u001b[0m | \u001b[36msgg_benchmark.utils.checkpoint\u001b[0m:\u001b[36mload\u001b[0m:\u001b[36m65\u001b[0m - \u001b[1mLoading checkpoint from output_motifs/best_model_epoch_4.pth\u001b[0m\n",
      "\u001b[32m2024-09-06 19:04:43.940\u001b[0m | \u001b[1mINFO    \u001b[0m | \u001b[36msgg_benchmark.data.build\u001b[0m:\u001b[36mget_dataset_statistics\u001b[0m:\u001b[36m30\u001b[0m - \u001b[1m----------------------------------------------------------------------------------------------------\u001b[0m\n",
      "\u001b[32m2024-09-06 19:04:43.941\u001b[0m | \u001b[1mINFO    \u001b[0m | \u001b[36msgg_benchmark.data.build\u001b[0m:\u001b[36mget_dataset_statistics\u001b[0m:\u001b[36m31\u001b[0m - \u001b[1mget dataset statistics...\u001b[0m\n",
      "\u001b[32m2024-09-06 19:04:43.942\u001b[0m | \u001b[1mINFO    \u001b[0m | \u001b[36msgg_benchmark.data.build\u001b[0m:\u001b[36mget_dataset_statistics\u001b[0m:\u001b[36m42\u001b[0m - \u001b[1mLoading data statistics from: C:\\Users\\Administrator\\Desktop\\RAG\\out\\VG150_train_statistics.cache\u001b[0m\n",
      "\u001b[32m2024-09-06 19:04:43.943\u001b[0m | \u001b[1mINFO    \u001b[0m | \u001b[36msgg_benchmark.data.build\u001b[0m:\u001b[36mget_dataset_statistics\u001b[0m:\u001b[36m43\u001b[0m - \u001b[1m----------------------------------------------------------------------------------------------------\u001b[0m\n"
     ]
    },
    {
     "name": "stdout",
     "output_type": "stream",
     "text": [
      "loading word vectors from .\\glove.6B.200d.pt\n",
      "loading word vectors from .\\glove.6B.200d.pt\n"
     ]
    },
    {
     "name": "stderr",
     "output_type": "stream",
     "text": [
      "\u001b[32m2024-09-06 19:04:46.863\u001b[0m | \u001b[1mINFO    \u001b[0m | \u001b[36msgg_benchmark.utils.checkpoint\u001b[0m:\u001b[36mload\u001b[0m:\u001b[36m65\u001b[0m - \u001b[1mLoading checkpoint from output_motifs/best_model_epoch_4.pth\u001b[0m\n",
      "\u001b[32m2024-09-06 19:04:50.382\u001b[0m | \u001b[1mINFO    \u001b[0m | \u001b[36msgg_benchmark.data.build\u001b[0m:\u001b[36mget_dataset_statistics\u001b[0m:\u001b[36m30\u001b[0m - \u001b[1m----------------------------------------------------------------------------------------------------\u001b[0m\n",
      "\u001b[32m2024-09-06 19:04:50.382\u001b[0m | \u001b[1mINFO    \u001b[0m | \u001b[36msgg_benchmark.data.build\u001b[0m:\u001b[36mget_dataset_statistics\u001b[0m:\u001b[36m31\u001b[0m - \u001b[1mget dataset statistics...\u001b[0m\n",
      "\u001b[32m2024-09-06 19:04:50.383\u001b[0m | \u001b[1mINFO    \u001b[0m | \u001b[36msgg_benchmark.data.build\u001b[0m:\u001b[36mget_dataset_statistics\u001b[0m:\u001b[36m42\u001b[0m - \u001b[1mLoading data statistics from: C:\\Users\\Administrator\\Desktop\\RAG\\out\\VG150_train_statistics.cache\u001b[0m\n",
      "\u001b[32m2024-09-06 19:04:50.384\u001b[0m | \u001b[1mINFO    \u001b[0m | \u001b[36msgg_benchmark.data.build\u001b[0m:\u001b[36mget_dataset_statistics\u001b[0m:\u001b[36m43\u001b[0m - \u001b[1m----------------------------------------------------------------------------------------------------\u001b[0m\n"
     ]
    },
    {
     "name": "stdout",
     "output_type": "stream",
     "text": [
      "loading word vectors from .\\glove.6B.200d.pt\n",
      "loading word vectors from .\\glove.6B.200d.pt\n"
     ]
    },
    {
     "name": "stderr",
     "output_type": "stream",
     "text": [
      "\u001b[32m2024-09-06 19:04:53.376\u001b[0m | \u001b[1mINFO    \u001b[0m | \u001b[36msgg_benchmark.utils.checkpoint\u001b[0m:\u001b[36mload\u001b[0m:\u001b[36m65\u001b[0m - \u001b[1mLoading checkpoint from output_motifs/best_model_epoch_4.pth\u001b[0m\n",
      "\u001b[32m2024-09-06 19:04:57.106\u001b[0m | \u001b[1mINFO    \u001b[0m | \u001b[36msgg_benchmark.data.build\u001b[0m:\u001b[36mget_dataset_statistics\u001b[0m:\u001b[36m30\u001b[0m - \u001b[1m----------------------------------------------------------------------------------------------------\u001b[0m\n",
      "\u001b[32m2024-09-06 19:04:57.106\u001b[0m | \u001b[1mINFO    \u001b[0m | \u001b[36msgg_benchmark.data.build\u001b[0m:\u001b[36mget_dataset_statistics\u001b[0m:\u001b[36m31\u001b[0m - \u001b[1mget dataset statistics...\u001b[0m\n",
      "\u001b[32m2024-09-06 19:04:57.108\u001b[0m | \u001b[1mINFO    \u001b[0m | \u001b[36msgg_benchmark.data.build\u001b[0m:\u001b[36mget_dataset_statistics\u001b[0m:\u001b[36m42\u001b[0m - \u001b[1mLoading data statistics from: C:\\Users\\Administrator\\Desktop\\RAG\\out\\VG150_train_statistics.cache\u001b[0m\n",
      "\u001b[32m2024-09-06 19:04:57.108\u001b[0m | \u001b[1mINFO    \u001b[0m | \u001b[36msgg_benchmark.data.build\u001b[0m:\u001b[36mget_dataset_statistics\u001b[0m:\u001b[36m43\u001b[0m - \u001b[1m----------------------------------------------------------------------------------------------------\u001b[0m\n"
     ]
    },
    {
     "name": "stdout",
     "output_type": "stream",
     "text": [
      "loading word vectors from .\\glove.6B.200d.pt\n",
      "loading word vectors from .\\glove.6B.200d.pt\n"
     ]
    },
    {
     "name": "stderr",
     "output_type": "stream",
     "text": [
      "\u001b[32m2024-09-06 19:05:00.077\u001b[0m | \u001b[1mINFO    \u001b[0m | \u001b[36msgg_benchmark.utils.checkpoint\u001b[0m:\u001b[36mload\u001b[0m:\u001b[36m65\u001b[0m - \u001b[1mLoading checkpoint from output_motifs/best_model_epoch_4.pth\u001b[0m\n",
      "\u001b[32m2024-09-06 19:05:03.940\u001b[0m | \u001b[1mINFO    \u001b[0m | \u001b[36msgg_benchmark.data.build\u001b[0m:\u001b[36mget_dataset_statistics\u001b[0m:\u001b[36m30\u001b[0m - \u001b[1m----------------------------------------------------------------------------------------------------\u001b[0m\n",
      "\u001b[32m2024-09-06 19:05:03.941\u001b[0m | \u001b[1mINFO    \u001b[0m | \u001b[36msgg_benchmark.data.build\u001b[0m:\u001b[36mget_dataset_statistics\u001b[0m:\u001b[36m31\u001b[0m - \u001b[1mget dataset statistics...\u001b[0m\n",
      "\u001b[32m2024-09-06 19:05:03.942\u001b[0m | \u001b[1mINFO    \u001b[0m | \u001b[36msgg_benchmark.data.build\u001b[0m:\u001b[36mget_dataset_statistics\u001b[0m:\u001b[36m42\u001b[0m - \u001b[1mLoading data statistics from: C:\\Users\\Administrator\\Desktop\\RAG\\out\\VG150_train_statistics.cache\u001b[0m\n",
      "\u001b[32m2024-09-06 19:05:03.943\u001b[0m | \u001b[1mINFO    \u001b[0m | \u001b[36msgg_benchmark.data.build\u001b[0m:\u001b[36mget_dataset_statistics\u001b[0m:\u001b[36m43\u001b[0m - \u001b[1m----------------------------------------------------------------------------------------------------\u001b[0m\n"
     ]
    },
    {
     "name": "stdout",
     "output_type": "stream",
     "text": [
      "loading word vectors from .\\glove.6B.200d.pt\n",
      "loading word vectors from .\\glove.6B.200d.pt\n"
     ]
    },
    {
     "name": "stderr",
     "output_type": "stream",
     "text": [
      "\u001b[32m2024-09-06 19:05:06.862\u001b[0m | \u001b[1mINFO    \u001b[0m | \u001b[36msgg_benchmark.utils.checkpoint\u001b[0m:\u001b[36mload\u001b[0m:\u001b[36m65\u001b[0m - \u001b[1mLoading checkpoint from output_motifs/best_model_epoch_4.pth\u001b[0m\n",
      "\u001b[32m2024-09-06 19:05:10.457\u001b[0m | \u001b[1mINFO    \u001b[0m | \u001b[36msgg_benchmark.data.build\u001b[0m:\u001b[36mget_dataset_statistics\u001b[0m:\u001b[36m30\u001b[0m - \u001b[1m----------------------------------------------------------------------------------------------------\u001b[0m\n",
      "\u001b[32m2024-09-06 19:05:10.457\u001b[0m | \u001b[1mINFO    \u001b[0m | \u001b[36msgg_benchmark.data.build\u001b[0m:\u001b[36mget_dataset_statistics\u001b[0m:\u001b[36m31\u001b[0m - \u001b[1mget dataset statistics...\u001b[0m\n",
      "\u001b[32m2024-09-06 19:05:10.459\u001b[0m | \u001b[1mINFO    \u001b[0m | \u001b[36msgg_benchmark.data.build\u001b[0m:\u001b[36mget_dataset_statistics\u001b[0m:\u001b[36m42\u001b[0m - \u001b[1mLoading data statistics from: C:\\Users\\Administrator\\Desktop\\RAG\\out\\VG150_train_statistics.cache\u001b[0m\n",
      "\u001b[32m2024-09-06 19:05:10.459\u001b[0m | \u001b[1mINFO    \u001b[0m | \u001b[36msgg_benchmark.data.build\u001b[0m:\u001b[36mget_dataset_statistics\u001b[0m:\u001b[36m43\u001b[0m - \u001b[1m----------------------------------------------------------------------------------------------------\u001b[0m\n"
     ]
    },
    {
     "name": "stdout",
     "output_type": "stream",
     "text": [
      "loading word vectors from .\\glove.6B.200d.pt\n",
      "loading word vectors from .\\glove.6B.200d.pt\n"
     ]
    },
    {
     "name": "stderr",
     "output_type": "stream",
     "text": [
      "\u001b[32m2024-09-06 19:05:13.365\u001b[0m | \u001b[1mINFO    \u001b[0m | \u001b[36msgg_benchmark.utils.checkpoint\u001b[0m:\u001b[36mload\u001b[0m:\u001b[36m65\u001b[0m - \u001b[1mLoading checkpoint from output_motifs/best_model_epoch_4.pth\u001b[0m\n",
      "\u001b[32m2024-09-06 19:05:16.979\u001b[0m | \u001b[1mINFO    \u001b[0m | \u001b[36msgg_benchmark.data.build\u001b[0m:\u001b[36mget_dataset_statistics\u001b[0m:\u001b[36m30\u001b[0m - \u001b[1m----------------------------------------------------------------------------------------------------\u001b[0m\n",
      "\u001b[32m2024-09-06 19:05:16.980\u001b[0m | \u001b[1mINFO    \u001b[0m | \u001b[36msgg_benchmark.data.build\u001b[0m:\u001b[36mget_dataset_statistics\u001b[0m:\u001b[36m31\u001b[0m - \u001b[1mget dataset statistics...\u001b[0m\n",
      "\u001b[32m2024-09-06 19:05:16.981\u001b[0m | \u001b[1mINFO    \u001b[0m | \u001b[36msgg_benchmark.data.build\u001b[0m:\u001b[36mget_dataset_statistics\u001b[0m:\u001b[36m42\u001b[0m - \u001b[1mLoading data statistics from: C:\\Users\\Administrator\\Desktop\\RAG\\out\\VG150_train_statistics.cache\u001b[0m\n",
      "\u001b[32m2024-09-06 19:05:16.981\u001b[0m | \u001b[1mINFO    \u001b[0m | \u001b[36msgg_benchmark.data.build\u001b[0m:\u001b[36mget_dataset_statistics\u001b[0m:\u001b[36m43\u001b[0m - \u001b[1m----------------------------------------------------------------------------------------------------\u001b[0m\n"
     ]
    },
    {
     "name": "stdout",
     "output_type": "stream",
     "text": [
      "loading word vectors from .\\glove.6B.200d.pt\n",
      "loading word vectors from .\\glove.6B.200d.pt\n"
     ]
    },
    {
     "name": "stderr",
     "output_type": "stream",
     "text": [
      "\u001b[32m2024-09-06 19:05:19.968\u001b[0m | \u001b[1mINFO    \u001b[0m | \u001b[36msgg_benchmark.utils.checkpoint\u001b[0m:\u001b[36mload\u001b[0m:\u001b[36m65\u001b[0m - \u001b[1mLoading checkpoint from output_motifs/best_model_epoch_4.pth\u001b[0m\n",
      "\u001b[32m2024-09-06 19:05:23.673\u001b[0m | \u001b[1mINFO    \u001b[0m | \u001b[36msgg_benchmark.data.build\u001b[0m:\u001b[36mget_dataset_statistics\u001b[0m:\u001b[36m30\u001b[0m - \u001b[1m----------------------------------------------------------------------------------------------------\u001b[0m\n",
      "\u001b[32m2024-09-06 19:05:23.674\u001b[0m | \u001b[1mINFO    \u001b[0m | \u001b[36msgg_benchmark.data.build\u001b[0m:\u001b[36mget_dataset_statistics\u001b[0m:\u001b[36m31\u001b[0m - \u001b[1mget dataset statistics...\u001b[0m\n",
      "\u001b[32m2024-09-06 19:05:23.675\u001b[0m | \u001b[1mINFO    \u001b[0m | \u001b[36msgg_benchmark.data.build\u001b[0m:\u001b[36mget_dataset_statistics\u001b[0m:\u001b[36m42\u001b[0m - \u001b[1mLoading data statistics from: C:\\Users\\Administrator\\Desktop\\RAG\\out\\VG150_train_statistics.cache\u001b[0m\n",
      "\u001b[32m2024-09-06 19:05:23.675\u001b[0m | \u001b[1mINFO    \u001b[0m | \u001b[36msgg_benchmark.data.build\u001b[0m:\u001b[36mget_dataset_statistics\u001b[0m:\u001b[36m43\u001b[0m - \u001b[1m----------------------------------------------------------------------------------------------------\u001b[0m\n"
     ]
    },
    {
     "name": "stdout",
     "output_type": "stream",
     "text": [
      "loading word vectors from .\\glove.6B.200d.pt\n",
      "loading word vectors from .\\glove.6B.200d.pt\n"
     ]
    },
    {
     "name": "stderr",
     "output_type": "stream",
     "text": [
      "\u001b[32m2024-09-06 19:05:26.732\u001b[0m | \u001b[1mINFO    \u001b[0m | \u001b[36msgg_benchmark.utils.checkpoint\u001b[0m:\u001b[36mload\u001b[0m:\u001b[36m65\u001b[0m - \u001b[1mLoading checkpoint from output_motifs/best_model_epoch_4.pth\u001b[0m\n",
      "\u001b[32m2024-09-06 19:05:30.611\u001b[0m | \u001b[1mINFO    \u001b[0m | \u001b[36msgg_benchmark.data.build\u001b[0m:\u001b[36mget_dataset_statistics\u001b[0m:\u001b[36m30\u001b[0m - \u001b[1m----------------------------------------------------------------------------------------------------\u001b[0m\n",
      "\u001b[32m2024-09-06 19:05:30.612\u001b[0m | \u001b[1mINFO    \u001b[0m | \u001b[36msgg_benchmark.data.build\u001b[0m:\u001b[36mget_dataset_statistics\u001b[0m:\u001b[36m31\u001b[0m - \u001b[1mget dataset statistics...\u001b[0m\n",
      "\u001b[32m2024-09-06 19:05:30.613\u001b[0m | \u001b[1mINFO    \u001b[0m | \u001b[36msgg_benchmark.data.build\u001b[0m:\u001b[36mget_dataset_statistics\u001b[0m:\u001b[36m42\u001b[0m - \u001b[1mLoading data statistics from: C:\\Users\\Administrator\\Desktop\\RAG\\out\\VG150_train_statistics.cache\u001b[0m\n",
      "\u001b[32m2024-09-06 19:05:30.614\u001b[0m | \u001b[1mINFO    \u001b[0m | \u001b[36msgg_benchmark.data.build\u001b[0m:\u001b[36mget_dataset_statistics\u001b[0m:\u001b[36m43\u001b[0m - \u001b[1m----------------------------------------------------------------------------------------------------\u001b[0m\n"
     ]
    },
    {
     "name": "stdout",
     "output_type": "stream",
     "text": [
      "loading word vectors from .\\glove.6B.200d.pt\n",
      "loading word vectors from .\\glove.6B.200d.pt\n"
     ]
    },
    {
     "name": "stderr",
     "output_type": "stream",
     "text": [
      "\u001b[32m2024-09-06 19:05:33.597\u001b[0m | \u001b[1mINFO    \u001b[0m | \u001b[36msgg_benchmark.utils.checkpoint\u001b[0m:\u001b[36mload\u001b[0m:\u001b[36m65\u001b[0m - \u001b[1mLoading checkpoint from output_motifs/best_model_epoch_4.pth\u001b[0m\n",
      "\u001b[32m2024-09-06 19:05:37.132\u001b[0m | \u001b[1mINFO    \u001b[0m | \u001b[36msgg_benchmark.data.build\u001b[0m:\u001b[36mget_dataset_statistics\u001b[0m:\u001b[36m30\u001b[0m - \u001b[1m----------------------------------------------------------------------------------------------------\u001b[0m\n",
      "\u001b[32m2024-09-06 19:05:37.132\u001b[0m | \u001b[1mINFO    \u001b[0m | \u001b[36msgg_benchmark.data.build\u001b[0m:\u001b[36mget_dataset_statistics\u001b[0m:\u001b[36m31\u001b[0m - \u001b[1mget dataset statistics...\u001b[0m\n",
      "\u001b[32m2024-09-06 19:05:37.133\u001b[0m | \u001b[1mINFO    \u001b[0m | \u001b[36msgg_benchmark.data.build\u001b[0m:\u001b[36mget_dataset_statistics\u001b[0m:\u001b[36m42\u001b[0m - \u001b[1mLoading data statistics from: C:\\Users\\Administrator\\Desktop\\RAG\\out\\VG150_train_statistics.cache\u001b[0m\n",
      "\u001b[32m2024-09-06 19:05:37.134\u001b[0m | \u001b[1mINFO    \u001b[0m | \u001b[36msgg_benchmark.data.build\u001b[0m:\u001b[36mget_dataset_statistics\u001b[0m:\u001b[36m43\u001b[0m - \u001b[1m----------------------------------------------------------------------------------------------------\u001b[0m\n"
     ]
    },
    {
     "name": "stdout",
     "output_type": "stream",
     "text": [
      "loading word vectors from .\\glove.6B.200d.pt\n",
      "loading word vectors from .\\glove.6B.200d.pt\n"
     ]
    },
    {
     "name": "stderr",
     "output_type": "stream",
     "text": [
      "\u001b[32m2024-09-06 19:05:40.087\u001b[0m | \u001b[1mINFO    \u001b[0m | \u001b[36msgg_benchmark.utils.checkpoint\u001b[0m:\u001b[36mload\u001b[0m:\u001b[36m65\u001b[0m - \u001b[1mLoading checkpoint from output_motifs/best_model_epoch_4.pth\u001b[0m\n",
      "\u001b[32m2024-09-06 19:05:43.495\u001b[0m | \u001b[1mINFO    \u001b[0m | \u001b[36msgg_benchmark.data.build\u001b[0m:\u001b[36mget_dataset_statistics\u001b[0m:\u001b[36m30\u001b[0m - \u001b[1m----------------------------------------------------------------------------------------------------\u001b[0m\n",
      "\u001b[32m2024-09-06 19:05:43.496\u001b[0m | \u001b[1mINFO    \u001b[0m | \u001b[36msgg_benchmark.data.build\u001b[0m:\u001b[36mget_dataset_statistics\u001b[0m:\u001b[36m31\u001b[0m - \u001b[1mget dataset statistics...\u001b[0m\n",
      "\u001b[32m2024-09-06 19:05:43.497\u001b[0m | \u001b[1mINFO    \u001b[0m | \u001b[36msgg_benchmark.data.build\u001b[0m:\u001b[36mget_dataset_statistics\u001b[0m:\u001b[36m42\u001b[0m - \u001b[1mLoading data statistics from: C:\\Users\\Administrator\\Desktop\\RAG\\out\\VG150_train_statistics.cache\u001b[0m\n",
      "\u001b[32m2024-09-06 19:05:43.498\u001b[0m | \u001b[1mINFO    \u001b[0m | \u001b[36msgg_benchmark.data.build\u001b[0m:\u001b[36mget_dataset_statistics\u001b[0m:\u001b[36m43\u001b[0m - \u001b[1m----------------------------------------------------------------------------------------------------\u001b[0m\n"
     ]
    },
    {
     "name": "stdout",
     "output_type": "stream",
     "text": [
      "loading word vectors from .\\glove.6B.200d.pt\n",
      "loading word vectors from .\\glove.6B.200d.pt\n"
     ]
    },
    {
     "name": "stderr",
     "output_type": "stream",
     "text": [
      "\u001b[32m2024-09-06 19:05:46.437\u001b[0m | \u001b[1mINFO    \u001b[0m | \u001b[36msgg_benchmark.utils.checkpoint\u001b[0m:\u001b[36mload\u001b[0m:\u001b[36m65\u001b[0m - \u001b[1mLoading checkpoint from output_motifs/best_model_epoch_4.pth\u001b[0m\n",
      "\u001b[32m2024-09-06 19:05:50.076\u001b[0m | \u001b[1mINFO    \u001b[0m | \u001b[36msgg_benchmark.data.build\u001b[0m:\u001b[36mget_dataset_statistics\u001b[0m:\u001b[36m30\u001b[0m - \u001b[1m----------------------------------------------------------------------------------------------------\u001b[0m\n",
      "\u001b[32m2024-09-06 19:05:50.077\u001b[0m | \u001b[1mINFO    \u001b[0m | \u001b[36msgg_benchmark.data.build\u001b[0m:\u001b[36mget_dataset_statistics\u001b[0m:\u001b[36m31\u001b[0m - \u001b[1mget dataset statistics...\u001b[0m\n",
      "\u001b[32m2024-09-06 19:05:50.078\u001b[0m | \u001b[1mINFO    \u001b[0m | \u001b[36msgg_benchmark.data.build\u001b[0m:\u001b[36mget_dataset_statistics\u001b[0m:\u001b[36m42\u001b[0m - \u001b[1mLoading data statistics from: C:\\Users\\Administrator\\Desktop\\RAG\\out\\VG150_train_statistics.cache\u001b[0m\n",
      "\u001b[32m2024-09-06 19:05:50.078\u001b[0m | \u001b[1mINFO    \u001b[0m | \u001b[36msgg_benchmark.data.build\u001b[0m:\u001b[36mget_dataset_statistics\u001b[0m:\u001b[36m43\u001b[0m - \u001b[1m----------------------------------------------------------------------------------------------------\u001b[0m\n"
     ]
    },
    {
     "name": "stdout",
     "output_type": "stream",
     "text": [
      "loading word vectors from .\\glove.6B.200d.pt\n",
      "loading word vectors from .\\glove.6B.200d.pt\n"
     ]
    },
    {
     "name": "stderr",
     "output_type": "stream",
     "text": [
      "\u001b[32m2024-09-06 19:05:53.029\u001b[0m | \u001b[1mINFO    \u001b[0m | \u001b[36msgg_benchmark.utils.checkpoint\u001b[0m:\u001b[36mload\u001b[0m:\u001b[36m65\u001b[0m - \u001b[1mLoading checkpoint from output_motifs/best_model_epoch_4.pth\u001b[0m\n"
     ]
    }
   ],
   "source": [
    "import numpy as np\n",
    "pre_output_list=[]\n",
    "\n",
    "list_dir=os.listdir('JPEGImages')\n",
    "\n",
    "import pickle \n",
    "\n",
    "for i in list_dir[:100]:\n",
    "\n",
    "    predictions=get_pre(os.path.join('JPEGImages',i))\n",
    "\n",
    "    pre=deal_SGG_result(predictions)\n",
    "\n",
    "    #pre_output_list.append(pre)\n",
    "\n",
    "    with open(os.path.join('pre/'+i[:3]+'.pickle'),'wb') as f:\n",
    "        pickle.dump(pre,f)"
   ]
  },
  {
   "cell_type": "code",
   "execution_count": 300,
   "metadata": {},
   "outputs": [],
   "source": [
    "with open(os.path.join('my/596.pickle'),'wb') as f:\n",
    "    pickle.dump(out,f)"
   ]
  },
  {
   "cell_type": "code",
   "execution_count": null,
   "metadata": {},
   "outputs": [],
   "source": [
    "list_dir=os.listdir('pre')\n",
    "\n",
    "import pickle \n",
    "\n",
    "\n",
    "for j,i in enumerate(list_dir[-100:]):\n",
    "\n",
    "\n",
    "    with open('pre/'+i,'rb') as f:\n",
    "        pre=pickle.load(f)\n",
    "\n",
    "\n",
    "    output=get_response(pre)\n",
    "\n",
    "    out=output.choices[0].message.content\n",
    "\n",
    "    predict=demjson3.decode(out)\n",
    "\n",
    "    with open(os.path.join('my',i),'wb') as f:\n",
    "        pickle.dump(out,f)\n",
    "\n",
    "    print(i)"
   ]
  },
  {
   "cell_type": "code",
   "execution_count": 4,
   "metadata": {},
   "outputs": [],
   "source": [
    "import pickle\n",
    "import os \n",
    "import nltk\n",
    "import demjson3\n",
    "from nltk.corpus import wordnet\n",
    "import re"
   ]
  },
  {
   "cell_type": "code",
   "execution_count": 5,
   "metadata": {},
   "outputs": [],
   "source": [
    "def are_synonyms_split(word_list,word2):\n",
    "    \"\"\"第一个是一个列表\"\"\"\n",
    "    right=[]\n",
    "\n",
    "    for i in word_list:\n",
    "        for j in word2:\n",
    "            right.append(are_synonyms(i,j))\n",
    "\n",
    "    if True in right:\n",
    "        return True \n",
    "    else:\n",
    "        return False\n",
    "\n",
    "def has_hypernym_or_hyponym_split(word_list,word2):\n",
    "    \"\"\"第一个是一个列表\"\"\"\n",
    "    right=[]\n",
    "\n",
    "    for i in word_list:\n",
    "        for j in word2:\n",
    "            right.append(has_hypernym_or_hyponym(i,j))\n",
    "\n",
    "    if True in right:\n",
    "        return True \n",
    "    else:\n",
    "        return False\n",
    "\n",
    "def are_synonyms(word1, word2):\n",
    "    # 获取word1的所有同义词集\n",
    "    synsets1 = wordnet.synsets(word1)\n",
    "    \n",
    "    # 获取word2的所有同义词集\n",
    "    synsets2 = wordnet.synsets(word2)\n",
    "\n",
    "    \n",
    "    \n",
    "    # 检查是否有交集\n",
    "    for synset1 in synsets1:\n",
    "        for synset2 in synsets2:\n",
    "            if synset1 == synset2:\n",
    "                return True\n",
    "    \n",
    "    # 计算路径相似度作为备选方案\n",
    "    for synset1 in synsets1:\n",
    "        for synset2 in synsets2:\n",
    "            if synset1.path_similarity(synset2) is not None and synset1.path_similarity(synset2) > 0.8:\n",
    "                return True\n",
    "    \n",
    "    return False\n",
    "\n",
    "def has_hypernym_or_hyponym(word1, word2):\n",
    "    # 获取word1的所有同义词集\n",
    "    synsets1 = wordnet.synsets(word1)\n",
    "    \n",
    "    # 获取word2的所有同义词集\n",
    "    synsets2 = wordnet.synsets(word2)\n",
    "    \n",
    "    # 检查是否存在上位词或下位词关系\n",
    "    for synset1 in synsets1:\n",
    "        for synset2 in synsets2:\n",
    "            # 检查synset1是否是synset2的上位词\n",
    "            if synset1 in synset2.hypernyms():\n",
    "                return True\n",
    "            \n",
    "            # 检查synset2是否是synset1的上位词\n",
    "            if synset2 in synset1.hypernyms():\n",
    "                return True\n",
    "    \n",
    "    return False\n",
    "\n",
    "def count_common_elements_with_repetition(list1, list2):\n",
    "    # 创建字典来存储每个元素在两个列表中的出现次数\n",
    "    count_dict1 = {}\n",
    "    count_dict2 = {}\n",
    "    \n",
    "    # 统计第一个列表中每个元素的出现次数\n",
    "    for element in list1:\n",
    "        if element in count_dict1:\n",
    "            count_dict1[element] += 1\n",
    "        else:\n",
    "            count_dict1[element] = 1\n",
    "    \n",
    "    # 统计第二个列表中每个元素的出现次数\n",
    "    for element in list2:\n",
    "        if element in count_dict2:\n",
    "            count_dict2[element] += 1\n",
    "        else:\n",
    "            count_dict2[element] = 1\n",
    "    \n",
    "    # 计算共同元素的数量\n",
    "    common_count = 0\n",
    "    for element in count_dict1:\n",
    "        if element in count_dict2:\n",
    "            # 取两个列表中该元素出现次数的较小值\n",
    "            common_count += min(count_dict1[element], count_dict2[element])\n",
    "    \n",
    "    return common_count"
   ]
  },
  {
   "cell_type": "code",
   "execution_count": 6,
   "metadata": {},
   "outputs": [],
   "source": [
    "def compute_right_single(ground_truth,predict):\n",
    "    \"\"\"\n",
    "        计算单张图片的预测准确率\n",
    "        分成四个 计数，位置，关系，total\n",
    "    \"\"\"\n",
    "    \n",
    "    category_right=0\n",
    "    number_right=0\n",
    "    loc_right=0\n",
    "\n",
    "    ready_list=[]\n",
    "\n",
    "    for i in predict['number'].keys():\n",
    "        for j in ground_truth['number'].keys():\n",
    "            if j in ready_list:\n",
    "                continue\n",
    "            if i==j:        ##标签对应上了\n",
    "                category_right+=1\n",
    "                ready_list.append(j)\n",
    "\n",
    "                if predict['number'][i]==ground_truth['number'][j]:     #统计数量一样，加1\n",
    "                    number_right+=1\n",
    "                ###计算位置对了几个\n",
    "                loc_right+=count_common_elements_with_repetition(predict['location'][i],ground_truth['location'][j])\n",
    "                break\n",
    "\n",
    "    rel_right=0        ###计算关系预测对了几个   逻辑上 关系三元组，一个个去比\n",
    "\n",
    "  \n",
    "    rel_ready=[]\n",
    "\n",
    "    for i in predict['relationship']:\n",
    "        for k,j in enumerate(ground_truth['relationship']):\n",
    "            if k in rel_ready:\n",
    "                continue\n",
    "            if i[0]==j[0] and i[1]==j[1] and i[2]==j[2]:\n",
    "                rel_ready.append(k)\n",
    "                rel_right+=1     \n",
    "                break\n",
    "\n",
    "\n",
    "    ### 计算ground_truth总数\n",
    "    number_num=len(ground_truth['number'].keys())\n",
    "    loc_num=sum(ground_truth['number'].values())\n",
    "    rel_num=len(ground_truth['relationship'])\n",
    "\n",
    "    ### 计算生成结果的总数\n",
    "    gen_num=len(predict['number'].keys())\n",
    "    gen_loc=sum(predict['number'].values())\n",
    "    gen_rel=len(predict['relationship'])\n",
    "\n",
    "    ###计算 precision\n",
    "\n",
    "    if gen_num==0:\n",
    "        number_precision=0\n",
    "        category_precision=0\n",
    "    else:\n",
    "        category_precision=category_right/gen_num\n",
    "        number_precision=number_right/gen_num\n",
    "    if gen_loc==0:\n",
    "        loc_precision=0\n",
    "    else:\n",
    "        loc_precision=loc_right/gen_loc\n",
    "    if gen_rel==0:\n",
    "        rel_precision=0\n",
    "    else:\n",
    "        rel_precision=rel_right/gen_rel\n",
    "\n",
    "    ### 计算recall\n",
    "    if number_num==0:\n",
    "        number_recall=1\n",
    "        category_recall=1\n",
    "    else:\n",
    "        category_recall=category_right/number_num\n",
    "        number_recall=number_right/number_num\n",
    "\n",
    "    if loc_num==0:\n",
    "        loc_recall=1\n",
    "    else:\n",
    "        loc_recall=loc_right/loc_num\n",
    "    \n",
    "    if rel_num==0:\n",
    "        rel_recall=1\n",
    "    else:\n",
    "        rel_recall=rel_right/rel_num\n",
    "\n",
    "    #### 计算F1\n",
    "    if category_precision==0 and category_recall==0:\n",
    "        category_f1=0\n",
    "    else:\n",
    "        category_f1=2*(category_precision*category_recall)/(category_precision+category_recall)\n",
    "    if number_precision==0 and number_recall==0:\n",
    "        num_f1=0\n",
    "    else:\n",
    "        num_f1=2*(number_precision*number_recall)/(number_precision+number_recall)\n",
    "    \n",
    "    if loc_precision==0 and loc_recall==0:\n",
    "        loc_f1=0\n",
    "    else:\n",
    "        loc_f1=2*(loc_precision*loc_recall)/(loc_precision+loc_recall)\n",
    "    \n",
    "    if rel_precision==0 and rel_recall==0:\n",
    "        rel_f1=0\n",
    "    else:\n",
    "        rel_f1=2*(rel_precision*rel_recall)/(rel_precision+rel_recall)\n",
    "\n",
    "    return category_precision,number_precision,loc_precision,rel_precision,category_recall,number_recall,loc_recall,rel_recall,category_f1,num_f1,loc_f1,rel_f1\n"
   ]
  },
  {
   "cell_type": "code",
   "execution_count": 7,
   "metadata": {},
   "outputs": [],
   "source": [
    "with open('ground_truth.pickle','rb') as f:\n",
    "    ground_truth_total=pickle.load(f)"
   ]
  },
  {
   "cell_type": "code",
   "execution_count": 8,
   "metadata": {},
   "outputs": [
    {
     "name": "stdout",
     "output_type": "stream",
     "text": [
      "50\n",
      "50\n",
      "50\n",
      "46\n",
      "50\n",
      "16\n",
      "45\n",
      "43\n",
      "48\n",
      "42\n",
      "37\n",
      "50\n",
      "50\n",
      "50\n",
      "49\n",
      "37\n",
      "50\n",
      "36\n",
      "50\n",
      "38\n",
      "46\n",
      "43\n",
      "49\n",
      "50\n",
      "45\n",
      "50\n",
      "50\n",
      "41\n",
      "46\n",
      "44\n",
      "48\n",
      "50\n",
      "50\n",
      "50\n",
      "50\n",
      "50\n",
      "50\n",
      "38\n",
      "41\n",
      "50\n",
      "42\n",
      "50\n",
      "2\n",
      "47\n",
      "47\n",
      "50\n",
      "50\n",
      "40\n",
      "48\n",
      "47\n",
      "31\n",
      "39\n",
      "37\n",
      "34\n",
      "48\n",
      "23\n",
      "46\n",
      "49\n",
      "50\n",
      "48\n",
      "8\n",
      "22\n",
      "48\n",
      "50\n",
      "45\n",
      "50\n",
      "43\n",
      "50\n",
      "50\n",
      "26\n",
      "23\n",
      "50\n",
      "50\n",
      "49\n",
      "42\n",
      "11\n",
      "46\n",
      "47\n",
      "31\n",
      "36\n",
      "36\n",
      "28\n",
      "47\n",
      "50\n",
      "49\n",
      "42\n",
      "50\n",
      "44\n",
      "49\n",
      "32\n",
      "41\n",
      "49\n",
      "50\n",
      "16\n",
      "50\n",
      "44\n",
      "1\n",
      "50\n",
      "15\n",
      "50\n"
     ]
    }
   ],
   "source": [
    "acc_list=[]\n",
    "\n",
    "answer_list=os.listdir('pre')\n",
    "\n",
    "for i,answer in enumerate(answer_list):\n",
    "\n",
    "    with open(os.path.join('pre',answer),'rb') as f:\n",
    "        data=pickle.load(f)\n",
    "        #print(answer)\n",
    "    #predict=demjson3.decode(data)\n",
    "    ground_truth=ground_truth_total[i]\n",
    "    print(len(data['relationship']))\n",
    "\n",
    "    acc_list.append(list(compute_right_single(ground_truth,data)))"
   ]
  },
  {
   "cell_type": "code",
   "execution_count": 9,
   "metadata": {},
   "outputs": [
    {
     "data": {
      "text/plain": [
       "array([0.8317, 0.3786, 0.556 , 0.1033, 0.6435, 0.3048, 0.332 , 0.164 , 0.7078, 0.3301, 0.3971, 0.1169])"
      ]
     },
     "execution_count": 9,
     "metadata": {},
     "output_type": "execute_result"
    }
   ],
   "source": [
    "import numpy as np\n",
    "np.set_printoptions(precision=4, suppress=True)\n",
    "acc_numpy=np.array(acc_list)\n",
    "acc_numpy.mean(axis=0)"
   ]
  },
  {
   "cell_type": "markdown",
   "metadata": {},
   "source": []
  },
  {
   "cell_type": "code",
   "execution_count": 10,
   "metadata": {},
   "outputs": [
    {
     "data": {
      "text/plain": [
       "0.225"
      ]
     },
     "execution_count": 10,
     "metadata": {},
     "output_type": "execute_result"
    }
   ],
   "source": [
    "(acc_numpy>0.55)[:,4:8].mean(1).mean()"
   ]
  },
  {
   "cell_type": "code",
   "execution_count": null,
   "metadata": {},
   "outputs": [],
   "source": []
  }
 ],
 "metadata": {
  "kernelspec": {
   "display_name": "RAG_test",
   "language": "python",
   "name": "python3"
  },
  "language_info": {
   "codemirror_mode": {
    "name": "ipython",
    "version": 3
   },
   "file_extension": ".py",
   "mimetype": "text/x-python",
   "name": "python",
   "nbconvert_exporter": "python",
   "pygments_lexer": "ipython3",
   "version": "3.10.14"
  }
 },
 "nbformat": 4,
 "nbformat_minor": 2
}
