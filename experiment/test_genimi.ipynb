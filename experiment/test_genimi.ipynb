{
 "cells": [
  {
   "cell_type": "code",
   "execution_count": 1,
   "metadata": {},
   "outputs": [],
   "source": [
    "import google.generativeai as genai\n",
    "import os\n",
    "import PIL.Image\n",
    "import pickle\n",
    "\n",
    "genai.configure(api_key=\"Your keys\",transport='rest')\n",
    "\n"
   ]
  },
  {
   "cell_type": "code",
   "execution_count": 2,
   "metadata": {},
   "outputs": [],
   "source": [
    "def get_result(img_dir):\n",
    "\n",
    "\n",
    "    model = genai.GenerativeModel(model_name=\"gemini-1.5-pro\",generation_config={\"response_mime_type\": \"application/json\"})\n",
    "    img=PIL.Image.open(img_dir)\n",
    "    response = model.generate_content(['{\"Task\": \"Please provide me with the quantity, position, and relationship of all different objects in the given image in JSON format.\\\n",
    "    For quantity, count all the quantities of different objects. If quantities is 0, do not output that class,\\\n",
    "    For the positions of different objects, the position of each individual unit in each type of object needs to be output(the positions are divided into nine grids, namely the top left corner),\\\n",
    "    top,top right corner,left,center,right,left lower corner,lower,right lower corner)。\\\n",
    "    For relationships, output the relationships between all objects in the image in the form of triplets, [object2, relation,object2],\\\n",
    "    Please refer to the following JSON format for specific formatting, and use this JSON format for output (just output one JSON)\",\\\n",
    "    \"Restriction\": \"Provide a JSON response in a format similar to <format> without wrapping it in code block markers\"\\\n",
    "    \"format\":{\"number\":{\"man\":3,\"car\":2,\"desk\":1,\"woman\":3},\"location\":{\"man\":{1:\"center\",2:\"top\"},\"car\":{1,:\"top right corner\",2:left} },\"relationship\":[[\"man\",\"near to\",\"car\"],[\"car\",\"on\",\"load\"],[\"woman\",\"has\",\"car\"]]} }',img])\n",
    "\n",
    "    return response.text"
   ]
  },
  {
   "cell_type": "code",
   "execution_count": 5,
   "metadata": {},
   "outputs": [
    {
     "name": "stdout",
     "output_type": "stream",
     "text": [
      "537.jpg\n",
      "538.jpg\n",
      "540.jpg\n",
      "543.jpg\n",
      "544.jpg\n",
      "545.jpg\n",
      "549.jpg\n",
      "551.jpg\n",
      "554.jpg\n",
      "556.jpg\n",
      "558.jpg\n",
      "559.jpg\n",
      "560.jpg\n",
      "561.jpg\n",
      "563.jpg\n",
      "564.jpg\n",
      "565.jpg\n",
      "566.jpg\n",
      "567.jpg\n",
      "568.jpg\n",
      "569.jpg\n",
      "570.jpg\n",
      "572.jpg\n",
      "573.jpg\n",
      "574.jpg\n",
      "576.jpg\n",
      "579.jpg\n",
      "580.jpg\n",
      "582.jpg\n",
      "583.jpg\n",
      "584.jpg\n",
      "585.jpg\n",
      "586.jpg\n",
      "587.jpg\n",
      "588.jpg\n",
      "590.jpg\n",
      "591.jpg\n",
      "592.jpg\n",
      "593.jpg\n",
      "594.jpg\n",
      "596.jpg\n",
      "598.jpg\n"
     ]
    }
   ],
   "source": [
    "dir_list=os.listdir('JPEGImages')\n",
    "\n",
    "for i in dir_list[-42:]:\n",
    "    result=get_result(os.path.join('JPEGImages',i))\n",
    "\n",
    "    with open(os.path.join('gemini_answer',i[:-4]+'.pickle'),'wb') as f:\n",
    "        pickle.dump(result,f)\n",
    "\n",
    "    print(i)"
   ]
  },
  {
   "cell_type": "code",
   "execution_count": null,
   "metadata": {},
   "outputs": [],
   "source": []
  }
 ],
 "metadata": {
  "kernelspec": {
   "display_name": "base",
   "language": "python",
   "name": "python3"
  },
  "language_info": {
   "codemirror_mode": {
    "name": "ipython",
    "version": 3
   },
   "file_extension": ".py",
   "mimetype": "text/x-python",
   "name": "python",
   "nbconvert_exporter": "python",
   "pygments_lexer": "ipython3",
   "version": "3.9.13"
  }
 },
 "nbformat": 4,
 "nbformat_minor": 2
}
