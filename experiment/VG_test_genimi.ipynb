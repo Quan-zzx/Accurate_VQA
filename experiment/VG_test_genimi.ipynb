{
 "cells": [
  {
   "cell_type": "code",
   "execution_count": 99,
   "metadata": {},
   "outputs": [],
   "source": [
    "import google.generativeai as genai\n",
    "import os\n",
    "import PIL.Image\n",
    "import pickle\n",
    "\n",
    "genai.configure(api_key=\"Your keys\",transport='rest')\n",
    "\n"
   ]
  },
  {
   "cell_type": "code",
   "execution_count": 100,
   "metadata": {},
   "outputs": [],
   "source": [
    "def get_result(img_dir):\n",
    "\n",
    "\n",
    "    model = genai.GenerativeModel(model_name=\"gemini-1.5-flash\",generation_config={\"response_mime_type\": \"application/json\"})\n",
    "    img=PIL.Image.open(img_dir)\n",
    "    response = model.generate_content(['{\"Task\": \"Please provide me with the quantity, position, and relationship of all different objects in the given image in JSON format.\\\n",
    "    For quantity, count all the quantities of different objects. If quantities is 0, do not output that class,\\\n",
    "    For the positions of different objects, the position of each individual unit in each type of object needs to be output(the positions are divided into nine grids, namely the top left corner),\\\n",
    "    top,top right corner,left,center,right,left lower corner,lower,right lower corner)。\\\n",
    "    For relationships, output the relationships between all objects in the image in the form of triplets, [object2, relation,object2],\\\n",
    "    Please refer to the following JSON format for specific formatting, and use this JSON format for output (just output one JSON)\",\\\n",
    "    \"Restriction\": \"Strictly provide JSON response in <format> format without wrapping it in code block markers,\"\\\n",
    "    \"format\":{\"number\":{\"man\":3,\"car\":2,\"desk\":1,\"woman\":1},\"location\":{\"man\":{1:\"center\",2:\"top\"},\"car\":{1,:\"top right corner\",2:left},\"woman\":{1:\"right\"} },\"relationship\":[[\"man\",\"near to\",\"car\"],[\"car\",\"on\",\"load\"],[\"woman\",\"has\",\"car\"]]} }',img])\n",
    "\n",
    "    return response.text"
   ]
  },
  {
   "cell_type": "code",
   "execution_count": 112,
   "metadata": {},
   "outputs": [
    {
     "name": "stdout",
     "output_type": "stream",
     "text": [
      "2339015.jpg\n",
      "2339016.jpg\n",
      "2339017.jpg\n",
      "2339018.jpg\n",
      "2339019.jpg\n",
      "2339020.jpg\n",
      "2339021.jpg\n",
      "2339022.jpg\n"
     ]
    }
   ],
   "source": [
    "dir_list=os.listdir('vg_data/test_data')\n",
    "\n",
    "for i in dir_list[-108:-100]:\n",
    "    result=get_result(os.path.join('vg_data/test_data',i))\n",
    "\n",
    "    with open(os.path.join('VG_gemini_answer',i[:-4]+'.pickle'),'wb') as f:\n",
    "        pickle.dump(result,f)\n",
    "\n",
    "    print(i)"
   ]
  },
  {
   "cell_type": "code",
   "execution_count": null,
   "metadata": {},
   "outputs": [],
   "source": []
  }
 ],
 "metadata": {
  "kernelspec": {
   "display_name": "base",
   "language": "python",
   "name": "python3"
  },
  "language_info": {
   "codemirror_mode": {
    "name": "ipython",
    "version": 3
   },
   "file_extension": ".py",
   "mimetype": "text/x-python",
   "name": "python",
   "nbconvert_exporter": "python",
   "pygments_lexer": "ipython3",
   "version": "3.9.13"
  }
 },
 "nbformat": 4,
 "nbformat_minor": 2
}
