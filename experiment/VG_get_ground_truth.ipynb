{
 "cells": [
  {
   "cell_type": "code",
   "execution_count": 1,
   "metadata": {},
   "outputs": [],
   "source": [
    "import json \n",
    "import h5py\n",
    "import numpy as np"
   ]
  },
  {
   "cell_type": "code",
   "execution_count": 2,
   "metadata": {},
   "outputs": [
    {
     "name": "stdout",
     "output_type": "stream",
     "text": [
      "Keys: <KeysViewHDF5 ['image_heights', 'image_ids', 'image_widths', 'images', 'original_heights', 'original_widths', 'valid_idx']>\n"
     ]
    }
   ],
   "source": [
    "with h5py.File('SGG-Benchmark-main\\datasets\\VG150\\mini_imdb_1024.h5','r') as f:\n",
    "    print(\"Keys: %s\" % f.keys())\n",
    "    #a_group_key = list(f.keys())[0]\n",
    "    h_keys=list(f.keys())\n",
    "\n",
    "    data=f[h_keys[1]][:]\n",
    "\n",
    "    "
   ]
  },
  {
   "cell_type": "code",
   "execution_count": 5,
   "metadata": {},
   "outputs": [],
   "source": [
    "dict_data=json.load(open('mini-vg/mini_VG-SGG-dicts.json'))"
   ]
  },
  {
   "cell_type": "code",
   "execution_count": 11,
   "metadata": {},
   "outputs": [],
   "source": [
    "import json \n",
    "object=json.load(open('objects.json'))"
   ]
  },
  {
   "cell_type": "code",
   "execution_count": 12,
   "metadata": {},
   "outputs": [],
   "source": [
    "rel=json.load(open('relationships.json'))"
   ]
  },
  {
   "cell_type": "code",
   "execution_count": 14,
   "metadata": {},
   "outputs": [],
   "source": [
    "def get_box_pos(x,y,orig_size=[6000,4000]):\n",
    "    \"\"\"\n",
    "    inputs:\n",
    "        bbox 框的位置 xywh\n",
    "        orig_size 图像大小 x,y heng shu\n",
    "    outputs:\n",
    "        框所在图片位置\n",
    "        左上角，上部，右上角\n",
    "        左部，  中部，右部\n",
    "        左下角  下部  右下角\n",
    "        012\n",
    "        345\n",
    "        678\n",
    "           \n",
    "    \"\"\"\n",
    "    #center=((bbox[0]+bbox[2])/2,(bbox[1]+bbox[3])/2)    ##获取中心坐标\n",
    "    #center=(bbox[0],bbox[1])\n",
    "    center=[x,y]\n",
    "\n",
    "    if center[0]<orig_size[0]/3 and center[1]<orig_size[1]/3:\n",
    "        return 'top left corner'\n",
    "    if center[0]>=orig_size[0]/3 and center[0]<=2*orig_size[0]/3 and center[1]<orig_size[1]/3:\n",
    "        return 'top'\n",
    "    if center[0]>2*orig_size[0]/3 and center[1]<orig_size[1]/3:\n",
    "        return 'top right corner'\n",
    "    if center[0]<orig_size[0]/3 and center[1]>=orig_size[1]/3 and center[1]<=2*orig_size[1]/3:\n",
    "        return 'left'\n",
    "    if center[0]>=orig_size[0]/3 and center[0]<=2*orig_size[0]/3 and center[1]>=orig_size[1]/3 and center[1]<=2*orig_size[1]/3:\n",
    "        return 'center'\n",
    "    if center[0]>2*orig_size[0]/3 and center[1]>=orig_size[1]/3 and center[1]<=2*orig_size[1]/3:\n",
    "        return 'right'\n",
    "    if center[0]<orig_size[0]/3 and center[1]>2*orig_size[1]/3:\n",
    "        return 'lower left corner'\n",
    "    if center[0]>=orig_size[0]/3 and center[0]<=2*orig_size[0]/3 and center[1]>2*orig_size[1]/3:\n",
    "        return 'lower'\n",
    "    if center[0]>2*orig_size[0]/3 and center[1]>2*orig_size[1]/3:\n",
    "        return 'lower right corner'"
   ]
  },
  {
   "cell_type": "code",
   "execution_count": 4,
   "metadata": {},
   "outputs": [],
   "source": [
    "img_data=json.load(open('image_data.json'))\n",
    "rel=json.load(open('relationships.json'))"
   ]
  },
  {
   "cell_type": "code",
   "execution_count": 16,
   "metadata": {},
   "outputs": [],
   "source": [
    "img_2_shape={}            #### 图像对应shape  用于判断方位\n",
    "for i in img_data:\n",
    "    if i['image_id'] in data:\n",
    "        img_2_shape[i['image_id']]=[i['width'],i['height']]"
   ]
  },
  {
   "cell_type": "code",
   "execution_count": 18,
   "metadata": {},
   "outputs": [],
   "source": [
    "label_150=json.load(open('labels.json'))\n",
    "label_150_list=list(label_150.values())"
   ]
  },
  {
   "cell_type": "code",
   "execution_count": 19,
   "metadata": {},
   "outputs": [],
   "source": [
    "bbox_list=[[[],[]] for _ in range(1000)]\n",
    "id_list=[]\n",
    "idx=0\n",
    "for ob in object:\n",
    "    if ob['image_id'] in data:\n",
    "        id_list.append(ob['image_id'])\n",
    "        for i in ob['objects']:\n",
    "            if i['names'][0] not in label_150_list:\n",
    "                continue\n",
    "            bbox_list[idx][0].append(get_box_pos(i['x'],i['y'],img_2_shape[ob['image_id']]))      \n",
    "            bbox_list[idx][1].append(i['names'][0])\n",
    "        \n",
    "        idx+=1"
   ]
  },
  {
   "cell_type": "code",
   "execution_count": 21,
   "metadata": {},
   "outputs": [],
   "source": [
    "rel_list={}\n",
    "for i in rel:\n",
    "    if i['image_id'] in data:\n",
    "        rel_list[i['image_id']]=i['relationships']"
   ]
  },
  {
   "cell_type": "code",
   "execution_count": 22,
   "metadata": {},
   "outputs": [],
   "source": [
    "import os\n",
    "import shutil\n",
    "src_folder = 'image/VG_100K/'\n",
    "# 目标文件夹路径\n",
    "dst_folder = 'test_data/'\n",
    "\n",
    "for id in id_list:\n",
    "    shutil.copy2(src_folder+str(id)+'.jpg', dst_folder)\n",
    "\n"
   ]
  },
  {
   "cell_type": "code",
   "execution_count": 23,
   "metadata": {},
   "outputs": [],
   "source": [
    "def get_ground_truth(bbox_list,id_list,rel_list,label_150_list):\n",
    "    \"\"\"生成ground_truth\"\"\"\n",
    "    ground_list={}\n",
    "\n",
    "    for k,single_bbox in enumerate(bbox_list):        ##便利每一张图的box\n",
    "        ground={\n",
    "            \"number\":{},\n",
    "            \"location\":{},\n",
    "        }\n",
    "\n",
    "        count_dict={}                          ###数量\n",
    "        for item in single_bbox[1]:\n",
    "            if item in count_dict:\n",
    "                count_dict[item] += 1\n",
    "            else:\n",
    "                count_dict[item] = 1\n",
    "\n",
    "        keys=count_dict.keys()                   ### 位置\n",
    "        loc_dict={key: [] for key in keys}\n",
    "\n",
    "        for i in range(len(single_bbox[0])):\n",
    "            loc_dict[single_bbox[1][i]].append(single_bbox[0][i])\n",
    "\n",
    "        ###\n",
    "        r_list=[]\n",
    "        for r in rel_list[id_list[k]]:                ###便利关系\n",
    "            if r['object']['name'] not in label_150_list or r['subject']['name'] not in label_150_list:\n",
    "                continue\n",
    "            r_list.append([r['object']['name'],r['predicate'].lower(),r['subject']['name']])\n",
    "\n",
    "\n",
    "        ground['number']=count_dict\n",
    "        ground['location']=loc_dict\n",
    "        ground['relationship']=r_list\n",
    "\n",
    "        ground_list[id_list[k]]=ground\n",
    "\n",
    "    return ground_list"
   ]
  },
  {
   "cell_type": "code",
   "execution_count": 24,
   "metadata": {},
   "outputs": [],
   "source": [
    "ground_list=get_ground_truth(bbox_list,id_list,rel_list,label_150_list)"
   ]
  },
  {
   "cell_type": "code",
   "execution_count": 25,
   "metadata": {},
   "outputs": [],
   "source": [
    "import pickle \n",
    "with open('VG_ground_truth.pickle','wb') as f:\n",
    "    pickle.dump(ground_list,f)"
   ]
  }
 ],
 "metadata": {
  "kernelspec": {
   "display_name": "RAG_test",
   "language": "python",
   "name": "python3"
  },
  "language_info": {
   "codemirror_mode": {
    "name": "ipython",
    "version": 3
   },
   "file_extension": ".py",
   "mimetype": "text/x-python",
   "name": "python",
   "nbconvert_exporter": "python",
   "pygments_lexer": "ipython3",
   "version": "3.10.14"
  }
 },
 "nbformat": 4,
 "nbformat_minor": 2
}
