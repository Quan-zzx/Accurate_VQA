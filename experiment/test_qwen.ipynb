{
 "cells": [
  {
   "cell_type": "code",
   "execution_count": 1,
   "metadata": {},
   "outputs": [],
   "source": [
    "#### 实验"
   ]
  },
  {
   "cell_type": "code",
   "execution_count": null,
   "metadata": {},
   "outputs": [],
   "source": [
    "from dashscope import MultiModalConversation\n",
    "import dashscope\n",
    "dashscope.api_key=\"\"\n",
    "\n",
    "def call_with_local_file(local_file_path1 = 'C:\\\\Users\\\\Administrator\\\\code\\\\exp\\\\JPEGImages\\\\001.jpg'):\n",
    "    \n",
    "    question='\\\n",
    "{\"Task\": \"Please provide me with the quantity, position, and relationship of all different objects in the given image in JSON format,only output json\\\n",
    "For quantity, count all the quantities of different objects. If it is 0, do not output that class,\\\n",
    "For the positions of different objects, the position of each individual unit in each type of object needs to be output(the positions are divided into nine grids, namely the top left corner),\\\n",
    "top,top right corner,left,center,right,left lower corner,lower,right lower corner)。\\\n",
    "For relationships, output the relationships between all objects in the image in the form of triplets, [object1, relation,object2],\\\n",
    "Please refer to the following JSON format for specific formatting, and use this JSON format for output (just output one JSON)\",\\\n",
    "\"Restriction\": \"Strictly provide JSON responses in <format> format,Do not output any other information and irrelevant symbols,Please provide me with a string format and do not output the syntax for markdown\",\\\n",
    "\"format\":{\"number\":{\"man\":2,\"car\":2,\"woman\":1},\"location\":{\"man\":{1:\"center\",2:\"lower\"},\"car\":{1,:\"top right corner\",2:left},\"woman\":{1:\"top\"} },\"relationship\":[[\"man\",\"near to\",\"car\"],[\"car\",\"on\",\"load\"],[\"woman\",\"has\",\"car\"]] }'\n",
    "    messages = [{\n",
    "        'role': 'user',\n",
    "        'content': [\n",
    "            {\n",
    "                'image': local_file_path1\n",
    "            },\n",
    "            {\n",
    "                'text': question\n",
    "            },\n",
    "        ]\n",
    "    }]\n",
    "    response = MultiModalConversation.call(model='qwen-vl-max', messages=messages,seed=2000)\n",
    "    return response\n",
    "\n",
    "\n"
   ]
  },
  {
   "cell_type": "code",
   "execution_count": 2,
   "metadata": {},
   "outputs": [],
   "source": [
    "import os \n",
    "list_dir=os.listdir('JPEGImages')"
   ]
  },
  {
   "cell_type": "code",
   "execution_count": 75,
   "metadata": {},
   "outputs": [
    {
     "name": "stdout",
     "output_type": "stream",
     "text": [
      "558.jpg\n",
      "559.jpg\n",
      "560.jpg\n",
      "561.jpg\n",
      "563.jpg\n",
      "564.jpg\n",
      "565.jpg\n",
      "566.jpg\n",
      "567.jpg\n",
      "568.jpg\n",
      "569.jpg\n",
      "570.jpg\n",
      "572.jpg\n",
      "573.jpg\n",
      "574.jpg\n",
      "576.jpg\n",
      "579.jpg\n",
      "580.jpg\n",
      "582.jpg\n",
      "583.jpg\n",
      "584.jpg\n",
      "585.jpg\n",
      "586.jpg\n",
      "587.jpg\n",
      "588.jpg\n",
      "590.jpg\n",
      "591.jpg\n",
      "592.jpg\n",
      "593.jpg\n",
      "594.jpg\n",
      "596.jpg\n",
      "598.jpg\n"
     ]
    }
   ],
   "source": [
    "import pickle \n",
    "\n",
    "for i in list_dir[-32:]:\n",
    "    output=call_with_local_file(os.path.join('JPEGImages',i))\n",
    "\n",
    "    out=output['output']['choices'][0]['message']['content'][0]['text']\n",
    "\n",
    "    with open(os.path.join('Qwen_data',i[:-4]+'.pickle'),'wb') as f:\n",
    "        pickle.dump(out,f)\n",
    "\n",
    "    print(i)"
   ]
  }
 ],
 "metadata": {
  "kernelspec": {
   "display_name": "scene_graph_benchmark",
   "language": "python",
   "name": "python3"
  },
  "language_info": {
   "codemirror_mode": {
    "name": "ipython",
    "version": 3
   },
   "file_extension": ".py",
   "mimetype": "text/x-python",
   "name": "python",
   "nbconvert_exporter": "python",
   "pygments_lexer": "ipython3",
   "version": "3.8.19"
  }
 },
 "nbformat": 4,
 "nbformat_minor": 2
}
